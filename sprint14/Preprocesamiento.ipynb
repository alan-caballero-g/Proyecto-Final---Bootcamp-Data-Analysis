{
 "cells": [
  {
   "cell_type": "markdown",
   "metadata": {},
   "source": [
    "Hola &#x1F600;\n",
    "\n",
    "Soy **Hesus Garcia**  como \"Jesús\" pero con H. Sé que puede ser confuso al principio, pero una vez que lo recuerdes, ¡nunca lo olvidarás! &#x1F31D;\t. Como revisor de código de Triple-Ten, estoy emocionado de examinar tus proyectos y ayudarte a mejorar tus habilidades en programación. si has cometido algún error, no te preocupes, pues ¡estoy aquí para ayudarte a corregirlo y hacer que tu código brille! &#x1F31F;. Si encuentro algún detalle en tu código, te lo señalaré para que lo corrijas, ya que mi objetivo es ayudarte a prepararte para un ambiente de trabajo real, donde el líder de tu equipo actuaría de la misma manera. Si no puedes solucionar el problema, te proporcionaré más información en la próxima oportunidad. Cuando encuentres un comentario,  **por favor, no los muevas, no los modifiques ni los borres**. \n",
    "\n",
    "Revisaré cuidadosamente todas las implementaciones que has realizado para cumplir con los requisitos y te proporcionaré mis comentarios de la siguiente manera:\n",
    "\n",
    "\n",
    "<div class=\"alert alert-block alert-success\">\n",
    "<b>Comentario del revisor</b> <a class=“tocSkip”></a>\n",
    "Si todo está perfecto.\n",
    "</div>\n",
    "\n",
    "<div class=\"alert alert-block alert-warning\">\n",
    "<b>Comentario del revisor</b> <a class=“tocSkip”></a>\n",
    "Si tu código está bien pero se puede mejorar o hay algún detalle que le hace falta.\n",
    "</div>\n",
    "\n",
    "<div class=\"alert alert-block alert-danger\">\n",
    "<b>Comentario del revisor</b> <a class=“tocSkip”></a>\n",
    "Si de pronto hace falta algo o existe algún problema con tu código o conclusiones.\n",
    "</div>\n",
    "\n",
    "Puedes responderme de esta forma:\n",
    "<div class=\"alert alert-block alert-info\">\n",
    "<b>Respuesta del estudiante</b> <a class=“tocSkip”></a>\n",
    "</div>\n",
    "\n",
    "</br>\n",
    "\n",
    "**¡Empecemos!**  &#x1F680;"
   ]
  },
  {
   "cell_type": "markdown",
   "metadata": {},
   "source": [
    "<div class=\"alert alert-block alert-danger\">\n",
    "<b>Comentario del revisor:</b><br>\n",
    "\n",
    "Hola Alan, muchas gracias por el esfuerzo que has puesto en este proyecto. Sin embargo, **no podemos aprobar tu proyecto en este momento** debido a varios aspectos fundamentales que no has abordado. Quiero ser muy claro y detallado para que puedas mejorar tu trabajo y volver a presentarlo.\n",
    "\n",
    "Primero, **no mencionas con claridad qué conjunto de datos estás utilizando**, lo cual es esencial para cualquier análisis. Es fundamental que indiques de manera explícita **qué datos estás utilizando**. Debes **incluir el proceso de carga de datos** con un comando como `df.head()` para que podamos ver la estructura de los datos y `df.info()` para describirlos adecuadamente. Esto dará un panorama claro de las características de los datos y posibles problemas que debas abordar.\n",
    "\n",
    "### Preguntas clave que debes responder en tu proyecto:\n",
    "\n",
    "1. **¿Con qué conjunto de datos estás trabajando?** Debes especificar claramente de dónde provienen los datos, cuáles son sus columnas y qué significan.\n",
    "   \n",
    "2. **¿Qué técnicas de preprocesamiento estás usando?** No está claro cómo estás manejando los valores atípicos, los datos faltantes, la duplicación de datos, y la conversión de tipos. \n",
    "   - ¿Has corregido datos atípicos?\n",
    "   - ¿Has estudiado los valores ausentes? ¿Cómo los manejaste?\n",
    "   - ¿Has eliminado valores duplicados o enriquecido los datos de alguna manera?\n",
    "\n",
    "3. **Pruebas de hipótesis:**\n",
    "   - ¿Qué pruebas de hipótesis estás realizando?\n",
    "   - ¿Qué tipo de técnicas estás usando para validar tus hipótesis? ¿T-test, chi-cuadrado, ANOVA, etc.?\n",
    "   - ¿Con qué población estás realizando estas pruebas?\n",
    "\n",
    "4. **Análisis exploratorio de datos:**\n",
    "   - ¿Cómo has explorado los datos? ¿Qué visualizaciones has utilizado para entender las relaciones entre las variables?\n",
    "   - ¿Qué hipótesis has formulado a partir del análisis inicial?\n",
    "\n",
    "### Plan de trabajo sugerido:\n",
    "1. **Carga y describe los datos**: Usa comandos como `df.head()` y `df.describe()` para presentar los datos.\n",
    "2. **Preprocesamiento de los datos**:\n",
    "   - Analiza los valores ausentes y justifica cómo los manejarás (¿los eliminarás, imputarás?).\n",
    "   - Revisa si hay valores duplicados y cómo los corregirás.\n",
    "   - Verifica que los tipos de datos son correctos.\n",
    "3. **Análisis exploratorio**: Realiza gráficos y visualizaciones para identificar patrones y comportamientos en los datos.\n",
    "4. **Pruebas de hipótesis**: Claramente explica qué hipótesis estás probando y qué técnicas utilizas para validarlas.\n",
    "5. **Trabaja con métricas de negocio**: Define qué métricas son importantes para tu análisis y cómo afectan a la toma de decisiones.\n",
    "\n",
    "### **Recuerda, en esta fase del plan de trabajo no necesariamente tienes que atender directamente los valores ausentes ni realizar las pruebas de hipótesis, sino que más bien debes describir qué técnicas vas a usar y cómo planeas abordar estos aspectos**. Esto es clave para la planificación adecuada de tu proyecto.\n",
    "\n",
    "Por favor, vuelve a cargar el proyecto con los cambios solicitados e incluye el comando `df.head()` y `df.info()` al inicio para describir tus datos correctamente.\n",
    "\n",
    "Estoy seguro de que con estos ajustes, podrás avanzar y entregar un proyecto completo y sólido. ¡Sigue adelante!\n",
    "</div>"
   ]
  },
  {
   "cell_type": "markdown",
   "metadata": {},
   "source": [
    "# Fases del proyecto\n",
    "\n",
    "\n",
    "Objetivo: Identificar a los operadores más ineficaces para poder realizar acciones especificas en ese personal y poder mejorar el rendimiento del servicio.\n",
    "\n",
    "**1. Descargaremos de datos y estudio de la información general**\n",
    "- En esta fase se descargarán los datos a ocupar y se vera una muestra de ellos, junto con información general (tipos de datos, columnas, etc) para identificar ajustes a realizar en la siguiente fase\n",
    "\n",
    "**2. Preprocesamiento de datos**\n",
    "- En esta fase se realizarán los ajustes previamente identificados y se prepara los datos para el análisis.\n",
    "\n",
    "**3. Análisis Exploratorio de los datos (EDA)**\n",
    "- Describiremos el comportamiento de los operadores. Identifica cuantos operadores están activos, su número de llamadas tanto salientes como entrantes, número total de llamadas y llamadas perdidas, calcula el tiempo de espera y tiempo de duración de llamadas promedio.\n",
    "- Describiremos el comportamiento de los clientes. Identifica que clientes ocupan más el servicio, su tarifa actual, que tanto tiempo llevan con el servicio.\n",
    "\n",
    "**4. Análisis**\n",
    "- Analizaremos e identificaremos a minimo los 90 operadores con menos eficacia respecto al resto.\n",
    "- Analizaremos e identificaremos a minimo los 90 operadores con más eficacia respecto al resto.\n",
    "\n",
    "**5. Prueba las hipótesis**\n",
    "- Probaremos si el número promedio de llamadas entrantes perdidas de los operadores identificados como menos eficaces y de los operadores identificados como más eficaces difiere.\n",
    "- Probaremos si el tiempo de espera promedio de los operadores identificados como menos eficaces y de los operadores identificados como más eficaces difiere.\n",
    "- Probaremos si el número promedio de llamadas salientes de los operadores identificados como menos eficaces y de los operadores identificados como más eficaces difiere.\n",
    "\n",
    "**6. Conclusiones generales, recomendaciones finales y posibles siguientes pasos.**\n",
    "- Comentaremos las conclusiones a las que lleguemos y recomendaciones finales de todo el proceso.\n",
    "- Escribiremos los posibles \"next steps\" basados en nuestras conclusiones y recomendaciones finales."
   ]
  },
  {
   "cell_type": "markdown",
   "metadata": {},
   "source": [
    "# Descarga de datos y estudio de la información general\n",
    "\n",
    "En esta fase descargaremos los datasets que utilizaremos y veremos una muestra de ellos, junto con información general (tipos de datos, columnas, etc) para identificar ajustes a realizar en la siguiente fase."
   ]
  },
  {
   "cell_type": "code",
   "execution_count": 49,
   "metadata": {},
   "outputs": [],
   "source": [
    "Cargar todas las librerías\n",
    "import pandas as pd\n",
    "import numpy as np\n",
    "from datetime import datetime\n",
    "import seaborn as sns\n",
    "import matplotlib.pyplot as plt\n",
    "from plotly import graph_objects as go\n",
    "from scipy import stats as st\n",
    "import math as mth\n",
    "from statsmodels.stats.proportion import proportions_ztest"
   ]
  },
  {
   "cell_type": "markdown",
   "metadata": {},
   "source": [
    "Vamos a cargar los siguientes datasets:\n",
    "\n",
    "- telecom_clients_us.csv\n",
    "- telecom_dataset_us.csv"
   ]
  },
  {
   "cell_type": "code",
   "execution_count": 50,
   "metadata": {},
   "outputs": [
    {
     "name": "stdout",
     "output_type": "stream",
     "text": [
      "   user_id tariff_plan  date_start\n",
      "0   166713           A  2019-08-15\n",
      "1   166901           A  2019-08-23\n",
      "2   168527           A  2019-10-29\n",
      "3   167097           A  2019-09-01\n",
      "4   168193           A  2019-10-16\n",
      "--------------------------------------------------------------------------------------------\n",
      "   user_id                       date direction internal  operator_id  \\\n",
      "0   166377  2019-08-04 00:00:00+03:00        in    False          NaN   \n",
      "1   166377  2019-08-05 00:00:00+03:00       out     True     880022.0   \n",
      "2   166377  2019-08-05 00:00:00+03:00       out     True     880020.0   \n",
      "3   166377  2019-08-05 00:00:00+03:00       out     True     880020.0   \n",
      "4   166377  2019-08-05 00:00:00+03:00       out    False     880022.0   \n",
      "\n",
      "   is_missed_call  calls_count  call_duration  total_call_duration  \n",
      "0            True            2              0                    4  \n",
      "1            True            3              0                    5  \n",
      "2            True            1              0                    1  \n",
      "3           False            1             10                   18  \n",
      "4            True            3              0                   25  \n"
     ]
    }
   ],
   "source": [
    "# Carga de los archivos de datos\n",
    "data_clients = pd.read_csv('C:\\\\Users\\\\Carlos\\\\Desktop\\\\sprint14\\\\telecom_clients_us.csv')\n",
    "data = pd.read_csv('C:\\\\Users\\\\Carlos\\\\Desktop\\\\sprint14\\\\telecom_dataset_us.csv')\n",
    "\n",
    "# Verificamos que los datos se hayan cargado correctamente\n",
    "print(data_clients.head())\n",
    "print('--------------------------------------------------------------------------------------------')\n",
    "print(data.head())"
   ]
  },
  {
   "cell_type": "markdown",
   "metadata": {},
   "source": [
    "Los datos han sido cargados correctamente. Vamos a estudiar los datos que continen nuestros datasets y verificar que los tipos de datos sean correctos para seguir con nuestro análisis."
   ]
  },
  {
   "cell_type": "code",
   "execution_count": 51,
   "metadata": {},
   "outputs": [
    {
     "name": "stdout",
     "output_type": "stream",
     "text": [
      "<class 'pandas.core.frame.DataFrame'>\n",
      "RangeIndex: 732 entries, 0 to 731\n",
      "Data columns (total 3 columns):\n",
      " #   Column       Non-Null Count  Dtype \n",
      "---  ------       --------------  ----- \n",
      " 0   user_id      732 non-null    int64 \n",
      " 1   tariff_plan  732 non-null    object\n",
      " 2   date_start   732 non-null    object\n",
      "dtypes: int64(1), object(2)\n",
      "memory usage: 17.3+ KB\n"
     ]
    }
   ],
   "source": [
    "# Imprimimos la información general/resumen sobre nuestro primer dataset data_clients\n",
    "data_clients.info()"
   ]
  },
  {
   "cell_type": "code",
   "execution_count": 52,
   "metadata": {},
   "outputs": [
    {
     "data": {
      "text/html": [
       "<div>\n",
       "<style scoped>\n",
       "    .dataframe tbody tr th:only-of-type {\n",
       "        vertical-align: middle;\n",
       "    }\n",
       "\n",
       "    .dataframe tbody tr th {\n",
       "        vertical-align: top;\n",
       "    }\n",
       "\n",
       "    .dataframe thead th {\n",
       "        text-align: right;\n",
       "    }\n",
       "</style>\n",
       "<table border=\"1\" class=\"dataframe\">\n",
       "  <thead>\n",
       "    <tr style=\"text-align: right;\">\n",
       "      <th></th>\n",
       "      <th>user_id</th>\n",
       "      <th>tariff_plan</th>\n",
       "      <th>date_start</th>\n",
       "    </tr>\n",
       "  </thead>\n",
       "  <tbody>\n",
       "    <tr>\n",
       "      <th>0</th>\n",
       "      <td>166713</td>\n",
       "      <td>A</td>\n",
       "      <td>2019-08-15</td>\n",
       "    </tr>\n",
       "    <tr>\n",
       "      <th>1</th>\n",
       "      <td>166901</td>\n",
       "      <td>A</td>\n",
       "      <td>2019-08-23</td>\n",
       "    </tr>\n",
       "    <tr>\n",
       "      <th>2</th>\n",
       "      <td>168527</td>\n",
       "      <td>A</td>\n",
       "      <td>2019-10-29</td>\n",
       "    </tr>\n",
       "    <tr>\n",
       "      <th>3</th>\n",
       "      <td>167097</td>\n",
       "      <td>A</td>\n",
       "      <td>2019-09-01</td>\n",
       "    </tr>\n",
       "    <tr>\n",
       "      <th>4</th>\n",
       "      <td>168193</td>\n",
       "      <td>A</td>\n",
       "      <td>2019-10-16</td>\n",
       "    </tr>\n",
       "  </tbody>\n",
       "</table>\n",
       "</div>"
      ],
      "text/plain": [
       "   user_id tariff_plan  date_start\n",
       "0   166713           A  2019-08-15\n",
       "1   166901           A  2019-08-23\n",
       "2   168527           A  2019-10-29\n",
       "3   167097           A  2019-09-01\n",
       "4   168193           A  2019-10-16"
      ]
     },
     "execution_count": 52,
     "metadata": {},
     "output_type": "execute_result"
    }
   ],
   "source": [
    "data_clients.head()"
   ]
  },
  {
   "cell_type": "markdown",
   "metadata": {},
   "source": [
    "Nuestro dataset **data_clients** que son los datos de los clientes del servicio, contiene los siguientes datos:\n",
    "\n",
    "- **user_id** ID de usuario/a\n",
    "- **tariff_plan**: tarifa actual del cliente\n",
    "- **date_start**: fecha de registro del cliente"
   ]
  },
  {
   "cell_type": "code",
   "execution_count": 53,
   "metadata": {},
   "outputs": [
    {
     "name": "stdout",
     "output_type": "stream",
     "text": [
      "Datos duplicados en el dataset: 0\n",
      "Datos duplicados en el user_id del dataset: 0\n"
     ]
    }
   ],
   "source": [
    "# Verificamos la existencia de datos duplicados en el dataset\n",
    "print('Datos duplicados en el dataset:', data_clients.duplicated().sum())\n",
    "\n",
    "# Verificamos que no haya datos duplicados en la columna user_id\n",
    "print('Datos duplicados en el user_id del dataset:', data_clients['user_id'].duplicated().sum())"
   ]
  },
  {
   "cell_type": "markdown",
   "metadata": {},
   "source": [
    "# Conclusiones del dataset\n",
    "\n",
    "Al ver la muestra y resumen del dataset, no encontramos datos duplicados ni ausentes. Sin embargo, es necesario cambiar el tipo de dato de la columna date_start a datetime para poder realizar operaciones con fechas."
   ]
  },
  {
   "cell_type": "code",
   "execution_count": 54,
   "metadata": {},
   "outputs": [
    {
     "name": "stdout",
     "output_type": "stream",
     "text": [
      "<class 'pandas.core.frame.DataFrame'>\n",
      "RangeIndex: 53902 entries, 0 to 53901\n",
      "Data columns (total 9 columns):\n",
      " #   Column               Non-Null Count  Dtype  \n",
      "---  ------               --------------  -----  \n",
      " 0   user_id              53902 non-null  int64  \n",
      " 1   date                 53902 non-null  object \n",
      " 2   direction            53902 non-null  object \n",
      " 3   internal             53785 non-null  object \n",
      " 4   operator_id          45730 non-null  float64\n",
      " 5   is_missed_call       53902 non-null  bool   \n",
      " 6   calls_count          53902 non-null  int64  \n",
      " 7   call_duration        53902 non-null  int64  \n",
      " 8   total_call_duration  53902 non-null  int64  \n",
      "dtypes: bool(1), float64(1), int64(4), object(3)\n",
      "memory usage: 3.3+ MB\n"
     ]
    }
   ],
   "source": [
    "# Imprimimos la información general/resumen sobre nuestro segundo dataset \"data\"\n",
    "data.info()"
   ]
  },
  {
   "cell_type": "code",
   "execution_count": 55,
   "metadata": {},
   "outputs": [
    {
     "data": {
      "text/html": [
       "<div>\n",
       "<style scoped>\n",
       "    .dataframe tbody tr th:only-of-type {\n",
       "        vertical-align: middle;\n",
       "    }\n",
       "\n",
       "    .dataframe tbody tr th {\n",
       "        vertical-align: top;\n",
       "    }\n",
       "\n",
       "    .dataframe thead th {\n",
       "        text-align: right;\n",
       "    }\n",
       "</style>\n",
       "<table border=\"1\" class=\"dataframe\">\n",
       "  <thead>\n",
       "    <tr style=\"text-align: right;\">\n",
       "      <th></th>\n",
       "      <th>user_id</th>\n",
       "      <th>date</th>\n",
       "      <th>direction</th>\n",
       "      <th>internal</th>\n",
       "      <th>operator_id</th>\n",
       "      <th>is_missed_call</th>\n",
       "      <th>calls_count</th>\n",
       "      <th>call_duration</th>\n",
       "      <th>total_call_duration</th>\n",
       "    </tr>\n",
       "  </thead>\n",
       "  <tbody>\n",
       "    <tr>\n",
       "      <th>0</th>\n",
       "      <td>166377</td>\n",
       "      <td>2019-08-04 00:00:00+03:00</td>\n",
       "      <td>in</td>\n",
       "      <td>False</td>\n",
       "      <td>NaN</td>\n",
       "      <td>True</td>\n",
       "      <td>2</td>\n",
       "      <td>0</td>\n",
       "      <td>4</td>\n",
       "    </tr>\n",
       "    <tr>\n",
       "      <th>1</th>\n",
       "      <td>166377</td>\n",
       "      <td>2019-08-05 00:00:00+03:00</td>\n",
       "      <td>out</td>\n",
       "      <td>True</td>\n",
       "      <td>880022.0</td>\n",
       "      <td>True</td>\n",
       "      <td>3</td>\n",
       "      <td>0</td>\n",
       "      <td>5</td>\n",
       "    </tr>\n",
       "    <tr>\n",
       "      <th>2</th>\n",
       "      <td>166377</td>\n",
       "      <td>2019-08-05 00:00:00+03:00</td>\n",
       "      <td>out</td>\n",
       "      <td>True</td>\n",
       "      <td>880020.0</td>\n",
       "      <td>True</td>\n",
       "      <td>1</td>\n",
       "      <td>0</td>\n",
       "      <td>1</td>\n",
       "    </tr>\n",
       "    <tr>\n",
       "      <th>3</th>\n",
       "      <td>166377</td>\n",
       "      <td>2019-08-05 00:00:00+03:00</td>\n",
       "      <td>out</td>\n",
       "      <td>True</td>\n",
       "      <td>880020.0</td>\n",
       "      <td>False</td>\n",
       "      <td>1</td>\n",
       "      <td>10</td>\n",
       "      <td>18</td>\n",
       "    </tr>\n",
       "    <tr>\n",
       "      <th>4</th>\n",
       "      <td>166377</td>\n",
       "      <td>2019-08-05 00:00:00+03:00</td>\n",
       "      <td>out</td>\n",
       "      <td>False</td>\n",
       "      <td>880022.0</td>\n",
       "      <td>True</td>\n",
       "      <td>3</td>\n",
       "      <td>0</td>\n",
       "      <td>25</td>\n",
       "    </tr>\n",
       "  </tbody>\n",
       "</table>\n",
       "</div>"
      ],
      "text/plain": [
       "   user_id                       date direction internal  operator_id  \\\n",
       "0   166377  2019-08-04 00:00:00+03:00        in    False          NaN   \n",
       "1   166377  2019-08-05 00:00:00+03:00       out     True     880022.0   \n",
       "2   166377  2019-08-05 00:00:00+03:00       out     True     880020.0   \n",
       "3   166377  2019-08-05 00:00:00+03:00       out     True     880020.0   \n",
       "4   166377  2019-08-05 00:00:00+03:00       out    False     880022.0   \n",
       "\n",
       "   is_missed_call  calls_count  call_duration  total_call_duration  \n",
       "0            True            2              0                    4  \n",
       "1            True            3              0                    5  \n",
       "2            True            1              0                    1  \n",
       "3           False            1             10                   18  \n",
       "4            True            3              0                   25  "
      ]
     },
     "execution_count": 55,
     "metadata": {},
     "output_type": "execute_result"
    }
   ],
   "source": [
    "data.head()"
   ]
  },
  {
   "cell_type": "markdown",
   "metadata": {},
   "source": [
    "                                                                                                                                                                                                                                                                                                                                                                                                                                                                                                                                                                                                                                                                                                                                                                                                                                                                                                                                                                                                                                                                                                                                                                                                                                                                                                                                                                                                                                                                                                                                                                                                                                                                                                                                                                                                                                                                                                                                                                                                                                                                                                                                                                                                                                                                                                                                                                                                                                                                                                            Nuestro dataset data que son los datos sobre las llamadas realizadas por los operadores o recibidas por ellos, contiene las siguientes columnas:\n",
    "\n",
    "- **user_id:** identificador únidco de cliente\n",
    "- **date:** fecha en la que se recuperaron las estadísticas\n",
    "- **direction:** - \"dirección\" de llamada (out para saliente, in para entrante)\n",
    "- **internal:** si la llamada fue interna (entre los operadores de un cliente o clienta)\n",
    "- **operator_id:** identificador del operador\n",
    "- **is_missed_call:** si fue una llamada perdida\n",
    "- **calls_count:** número de llamadas\n",
    "- **call_duration:** duración de la llamada (sin incluir el tiempo de espera)\n",
    "- **total_call_duration:** duración de la llamada (incluido el tiempo de espera)"
   ]
  },
  {
   "cell_type": "code",
   "execution_count": 56,
   "metadata": {},
   "outputs": [
    {
     "name": "stdout",
     "output_type": "stream",
     "text": [
      "Datos duplicados en el dataset: 4900\n"
     ]
    }
   ],
   "source": [
    "# Verificamos que no haya datos duplicados en el dataset completo\n",
    "print('Datos duplicados en el dataset:', data.duplicated().sum())"
   ]
  },
  {
   "cell_type": "markdown",
   "metadata": {},
   "source": [
    "# Conclusiones del dataset\n",
    "\n",
    "Al ver la muestra y resumen del dataset, encontramos 2 columnas con datos ausentes internal y operator_id; por la muestra que vimos de los datos si la llamada es dirección entrante el operator_id no es registrado y de ahi los nulos de esta columna, sin embargo, se debe hacer un análisis a fondo para tomar la mejor decision para tratarlos. Junto a esto, se detectaron 4900 datos duplicados, estos también deben investigarse para tomar la mejor decisión de como tratarlos. Finalmente se deben cambiar los tipos de datos de las siguientes columnas date a datetime, internal a bool y operator_id a int."
   ]
  },
  {
   "cell_type": "markdown",
   "metadata": {},
   "source": [
    "# Preprocesamiento de datos\n",
    "\n",
    "En esta fase haremos los ajustes identificados en la fase anterior, los cuales se encuentran ambos datasets."
   ]
  },
  {
   "cell_type": "markdown",
   "metadata": {},
   "source": [
    "# Datos Ausentes\n",
    "Como comentamos anteriormente, se encontraron 2 columnas con datos ausentes\n",
    "\n",
    "- **internal**\n",
    "- **operator_id**\n",
    "\n",
    "\n",
    "Investiguemos las columnas para tomar la mejor decisión de como procesarlos."
   ]
  },
  {
   "cell_type": "code",
   "execution_count": 57,
   "metadata": {},
   "outputs": [
    {
     "data": {
      "text/plain": [
       "user_id                 0.000000\n",
       "date                    0.000000\n",
       "direction               0.000000\n",
       "internal                0.217061\n",
       "operator_id            15.160847\n",
       "is_missed_call          0.000000\n",
       "calls_count             0.000000\n",
       "call_duration           0.000000\n",
       "total_call_duration     0.000000\n",
       "dtype: float64"
      ]
     },
     "execution_count": 57,
     "metadata": {},
     "output_type": "execute_result"
    }
   ],
   "source": [
    "# Vamos a validar el porcentaje de valores ausentes en general\n",
    "\n",
    "porcentaje_valores_nulos = lambda x: x * 100 / data.user_id.size\n",
    "data.isna().sum().apply(porcentaje_valores_nulos)"
   ]
  },
  {
   "cell_type": "code",
   "execution_count": 58,
   "metadata": {},
   "outputs": [
    {
     "data": {
      "text/html": [
       "<div>\n",
       "<style scoped>\n",
       "    .dataframe tbody tr th:only-of-type {\n",
       "        vertical-align: middle;\n",
       "    }\n",
       "\n",
       "    .dataframe tbody tr th {\n",
       "        vertical-align: top;\n",
       "    }\n",
       "\n",
       "    .dataframe thead th {\n",
       "        text-align: right;\n",
       "    }\n",
       "</style>\n",
       "<table border=\"1\" class=\"dataframe\">\n",
       "  <thead>\n",
       "    <tr style=\"text-align: right;\">\n",
       "      <th></th>\n",
       "      <th>user_id</th>\n",
       "      <th>date</th>\n",
       "      <th>direction</th>\n",
       "      <th>internal</th>\n",
       "      <th>operator_id</th>\n",
       "      <th>is_missed_call</th>\n",
       "      <th>calls_count</th>\n",
       "      <th>call_duration</th>\n",
       "      <th>total_call_duration</th>\n",
       "    </tr>\n",
       "  </thead>\n",
       "  <tbody>\n",
       "    <tr>\n",
       "      <th>1007</th>\n",
       "      <td>166405</td>\n",
       "      <td>2019-09-18 00:00:00+03:00</td>\n",
       "      <td>in</td>\n",
       "      <td>NaN</td>\n",
       "      <td>NaN</td>\n",
       "      <td>True</td>\n",
       "      <td>1</td>\n",
       "      <td>0</td>\n",
       "      <td>59</td>\n",
       "    </tr>\n",
       "    <tr>\n",
       "      <th>1090</th>\n",
       "      <td>166405</td>\n",
       "      <td>2019-10-01 00:00:00+03:00</td>\n",
       "      <td>in</td>\n",
       "      <td>NaN</td>\n",
       "      <td>NaN</td>\n",
       "      <td>True</td>\n",
       "      <td>1</td>\n",
       "      <td>0</td>\n",
       "      <td>1</td>\n",
       "    </tr>\n",
       "    <tr>\n",
       "      <th>1864</th>\n",
       "      <td>166406</td>\n",
       "      <td>2019-08-20 00:00:00+03:00</td>\n",
       "      <td>in</td>\n",
       "      <td>NaN</td>\n",
       "      <td>NaN</td>\n",
       "      <td>True</td>\n",
       "      <td>1</td>\n",
       "      <td>0</td>\n",
       "      <td>36</td>\n",
       "    </tr>\n",
       "    <tr>\n",
       "      <th>1924</th>\n",
       "      <td>166406</td>\n",
       "      <td>2019-09-02 00:00:00+03:00</td>\n",
       "      <td>in</td>\n",
       "      <td>NaN</td>\n",
       "      <td>879898.0</td>\n",
       "      <td>False</td>\n",
       "      <td>1</td>\n",
       "      <td>2</td>\n",
       "      <td>9</td>\n",
       "    </tr>\n",
       "    <tr>\n",
       "      <th>6210</th>\n",
       "      <td>166541</td>\n",
       "      <td>2019-09-26 00:00:00+03:00</td>\n",
       "      <td>in</td>\n",
       "      <td>NaN</td>\n",
       "      <td>908960.0</td>\n",
       "      <td>False</td>\n",
       "      <td>1</td>\n",
       "      <td>393</td>\n",
       "      <td>423</td>\n",
       "    </tr>\n",
       "  </tbody>\n",
       "</table>\n",
       "</div>"
      ],
      "text/plain": [
       "      user_id                       date direction internal  operator_id  \\\n",
       "1007   166405  2019-09-18 00:00:00+03:00        in      NaN          NaN   \n",
       "1090   166405  2019-10-01 00:00:00+03:00        in      NaN          NaN   \n",
       "1864   166406  2019-08-20 00:00:00+03:00        in      NaN          NaN   \n",
       "1924   166406  2019-09-02 00:00:00+03:00        in      NaN     879898.0   \n",
       "6210   166541  2019-09-26 00:00:00+03:00        in      NaN     908960.0   \n",
       "\n",
       "      is_missed_call  calls_count  call_duration  total_call_duration  \n",
       "1007            True            1              0                   59  \n",
       "1090            True            1              0                    1  \n",
       "1864            True            1              0                   36  \n",
       "1924           False            1              2                    9  \n",
       "6210           False            1            393                  423  "
      ]
     },
     "execution_count": 58,
     "metadata": {},
     "output_type": "execute_result"
    }
   ],
   "source": [
    "## Investiguemos la columna internal\n",
    "# Veamos una muestra de los datos donde hay ausentes\n",
    "data[data['internal'].isna()].head()"
   ]
  },
  {
   "cell_type": "markdown",
   "metadata": {},
   "source": [
    "Parece indicar que todas las llamadas internas vacías son llamadas entrantes, verifiquemos."
   ]
  },
  {
   "cell_type": "code",
   "execution_count": 59,
   "metadata": {},
   "outputs": [
    {
     "data": {
      "text/plain": [
       "direction\n",
       "in     115\n",
       "out      2\n",
       "Name: count, dtype: int64"
      ]
     },
     "execution_count": 59,
     "metadata": {},
     "output_type": "execute_result"
    }
   ],
   "source": [
    "# Vemos los valores en direction de las rows con valores ausentes en internal\n",
    "data[data['internal'].isna()]['direction'].value_counts()"
   ]
  },
  {
   "cell_type": "markdown",
   "metadata": {},
   "source": [
    "Como podemos observar, tenemos 115 llamadas entrantes y 2 salientes; por lo que nuestra hipotesis inicial no fue cierta. Tomando en cuenta que sin otra posible conexion con las demás columnas no seria posible recuperar los posibles datos faltantes y que los datos ausentes representan un 0.21% de nuestra total data, se toma la decisión de eliminar los datos ausentes de esta columna."
   ]
  },
  {
   "cell_type": "code",
   "execution_count": 60,
   "metadata": {},
   "outputs": [
    {
     "data": {
      "text/plain": [
       "user_id                 0.00000\n",
       "date                    0.00000\n",
       "direction               0.00000\n",
       "internal                0.00000\n",
       "operator_id            15.08785\n",
       "is_missed_call          0.00000\n",
       "calls_count             0.00000\n",
       "call_duration           0.00000\n",
       "total_call_duration     0.00000\n",
       "dtype: float64"
      ]
     },
     "execution_count": 60,
     "metadata": {},
     "output_type": "execute_result"
    }
   ],
   "source": [
    "# Eliminamos los datos ausentes de la columna internal\n",
    "data = data[~data['internal'].isna()]\n",
    "\n",
    "# Validamos el porcentaje de valores ausentes en general\n",
    "porcentaje_valores_nulos = lambda x: x * 100 / data.user_id.size\n",
    "data.isna().sum().apply(porcentaje_valores_nulos)"
   ]
  },
  {
   "cell_type": "code",
   "execution_count": 61,
   "metadata": {},
   "outputs": [
    {
     "data": {
      "text/html": [
       "<div>\n",
       "<style scoped>\n",
       "    .dataframe tbody tr th:only-of-type {\n",
       "        vertical-align: middle;\n",
       "    }\n",
       "\n",
       "    .dataframe tbody tr th {\n",
       "        vertical-align: top;\n",
       "    }\n",
       "\n",
       "    .dataframe thead th {\n",
       "        text-align: right;\n",
       "    }\n",
       "</style>\n",
       "<table border=\"1\" class=\"dataframe\">\n",
       "  <thead>\n",
       "    <tr style=\"text-align: right;\">\n",
       "      <th></th>\n",
       "      <th>user_id</th>\n",
       "      <th>date</th>\n",
       "      <th>direction</th>\n",
       "      <th>internal</th>\n",
       "      <th>operator_id</th>\n",
       "      <th>is_missed_call</th>\n",
       "      <th>calls_count</th>\n",
       "      <th>call_duration</th>\n",
       "      <th>total_call_duration</th>\n",
       "    </tr>\n",
       "  </thead>\n",
       "  <tbody>\n",
       "    <tr>\n",
       "      <th>0</th>\n",
       "      <td>166377</td>\n",
       "      <td>2019-08-04 00:00:00+03:00</td>\n",
       "      <td>in</td>\n",
       "      <td>False</td>\n",
       "      <td>NaN</td>\n",
       "      <td>True</td>\n",
       "      <td>2</td>\n",
       "      <td>0</td>\n",
       "      <td>4</td>\n",
       "    </tr>\n",
       "    <tr>\n",
       "      <th>7</th>\n",
       "      <td>166377</td>\n",
       "      <td>2019-08-05 00:00:00+03:00</td>\n",
       "      <td>in</td>\n",
       "      <td>False</td>\n",
       "      <td>NaN</td>\n",
       "      <td>True</td>\n",
       "      <td>6</td>\n",
       "      <td>0</td>\n",
       "      <td>35</td>\n",
       "    </tr>\n",
       "    <tr>\n",
       "      <th>9</th>\n",
       "      <td>166377</td>\n",
       "      <td>2019-08-06 00:00:00+03:00</td>\n",
       "      <td>in</td>\n",
       "      <td>False</td>\n",
       "      <td>NaN</td>\n",
       "      <td>True</td>\n",
       "      <td>4</td>\n",
       "      <td>0</td>\n",
       "      <td>62</td>\n",
       "    </tr>\n",
       "    <tr>\n",
       "      <th>17</th>\n",
       "      <td>166377</td>\n",
       "      <td>2019-08-07 00:00:00+03:00</td>\n",
       "      <td>in</td>\n",
       "      <td>False</td>\n",
       "      <td>NaN</td>\n",
       "      <td>True</td>\n",
       "      <td>2</td>\n",
       "      <td>0</td>\n",
       "      <td>24</td>\n",
       "    </tr>\n",
       "    <tr>\n",
       "      <th>27</th>\n",
       "      <td>166377</td>\n",
       "      <td>2019-08-12 00:00:00+03:00</td>\n",
       "      <td>in</td>\n",
       "      <td>False</td>\n",
       "      <td>NaN</td>\n",
       "      <td>True</td>\n",
       "      <td>2</td>\n",
       "      <td>0</td>\n",
       "      <td>34</td>\n",
       "    </tr>\n",
       "  </tbody>\n",
       "</table>\n",
       "</div>"
      ],
      "text/plain": [
       "    user_id                       date direction internal  operator_id  \\\n",
       "0    166377  2019-08-04 00:00:00+03:00        in    False          NaN   \n",
       "7    166377  2019-08-05 00:00:00+03:00        in    False          NaN   \n",
       "9    166377  2019-08-06 00:00:00+03:00        in    False          NaN   \n",
       "17   166377  2019-08-07 00:00:00+03:00        in    False          NaN   \n",
       "27   166377  2019-08-12 00:00:00+03:00        in    False          NaN   \n",
       "\n",
       "    is_missed_call  calls_count  call_duration  total_call_duration  \n",
       "0             True            2              0                    4  \n",
       "7             True            6              0                   35  \n",
       "9             True            4              0                   62  \n",
       "17            True            2              0                   24  \n",
       "27            True            2              0                   34  "
      ]
     },
     "execution_count": 61,
     "metadata": {},
     "output_type": "execute_result"
    }
   ],
   "source": [
    "# Investiguemos la columna \"operator_id\"\n",
    "\n",
    "data[data['operator_id'].isna()].head()\n"
   ]
  },
  {
   "cell_type": "code",
   "execution_count": 62,
   "metadata": {},
   "outputs": [
    {
     "name": "stdout",
     "output_type": "stream",
     "text": [
      "Direction\n",
      "direction\n",
      "in     7917\n",
      "out     198\n",
      "Name: count, dtype: int64\n",
      "\n",
      "Internal\n",
      "internal\n",
      "False    7760\n",
      "True      355\n",
      "Name: count, dtype: int64\n",
      "\n",
      "Is_missed_call\n",
      "is_missed_call\n",
      "True     7993\n",
      "False     122\n",
      "Name: count, dtype: int64\n",
      "\n",
      "user_id\n",
      "user_id\n",
      "168252    145\n",
      "166405    120\n",
      "166582    118\n",
      "166782    117\n",
      "166658    111\n",
      "         ... \n",
      "168010      1\n",
      "167139      1\n",
      "166507      1\n",
      "166554      1\n",
      "168013      1\n",
      "Name: count, Length: 305, dtype: int64\n"
     ]
    }
   ],
   "source": [
    "# Veamos los valores unicos de las columnas direction, internal, is_missed_call y user_id\n",
    "print('Direction')\n",
    "print(data[data['operator_id'].isna()]['direction'].value_counts())\n",
    "print('\\nInternal')\n",
    "print(data[data['operator_id'].isna()]['internal'].value_counts())\n",
    "print('\\nIs_missed_call')\n",
    "print(data[data['operator_id'].isna()]['is_missed_call'].value_counts())\n",
    "print('\\nuser_id')\n",
    "print(data[data['operator_id'].isna()]['user_id'].value_counts())"
   ]
  },
  {
   "cell_type": "markdown",
   "metadata": {},
   "source": [
    "Podemos ver que las primeras 3 columnas tienen datos ausentes en las 2 opciones por lo que no podríamos generar una relación desde ellas para rellenar estos datos, sin embargo podemos ver que tenemos 305 clientes sin operador_id y si cada cliente tiene un unico operador, podemos generar una relación y recuperar los datos. Primero verifiquemos el número de operadores que cada cliente tiene."
   ]
  },
  {
   "cell_type": "code",
   "execution_count": 63,
   "metadata": {},
   "outputs": [
    {
     "data": {
      "text/plain": [
       "user_id\n",
       "166377     5\n",
       "166391     2\n",
       "166392     3\n",
       "166399     1\n",
       "166405    10\n",
       "          ..\n",
       "168583     2\n",
       "168598     1\n",
       "168601     2\n",
       "168603     1\n",
       "168606     1\n",
       "Name: operator_id, Length: 307, dtype: int64"
      ]
     },
     "execution_count": 63,
     "metadata": {},
     "output_type": "execute_result"
    }
   ],
   "source": [
    "# Verificamos si cada cliente tiene un solo operador\n",
    "data.groupby('user_id')['operator_id'].nunique()"
   ]
  },
  {
   "cell_type": "markdown",
   "metadata": {},
   "source": [
    "Podemos ver en la tabla, que hay clientes que tiene hasta 10 operadores por lo que no es posible saber con seguridad que operador cubrió la llamada. \n",
    "\n",
    "Tomando en consideración todo esto se decide finalmente por eliminar las filas del dataset, la pérdida será del 15% de nuestra información, sin embargo, al ser incapaces de recuperar los datos del operador no podríamos realizar un análisis que genere resultados correctos."
   ]
  },
  {
   "cell_type": "code",
   "execution_count": 64,
   "metadata": {},
   "outputs": [
    {
     "data": {
      "text/plain": [
       "user_id                0.0\n",
       "date                   0.0\n",
       "direction              0.0\n",
       "internal               0.0\n",
       "operator_id            0.0\n",
       "is_missed_call         0.0\n",
       "calls_count            0.0\n",
       "call_duration          0.0\n",
       "total_call_duration    0.0\n",
       "dtype: float64"
      ]
     },
     "execution_count": 64,
     "metadata": {},
     "output_type": "execute_result"
    }
   ],
   "source": [
    "# Eliminamos los datos ausentes de la columna internal\n",
    "data = data[~data['operator_id'].isna()]\n",
    "# Vamos a checar el porcentaje de valores ausentes en general\n",
    "porcentaje_nulos = lambda x: x * 100 / data.user_id.size\n",
    "data.isna().sum().apply(porcentaje_nulos)"
   ]
  },
  {
   "cell_type": "code",
   "execution_count": 65,
   "metadata": {},
   "outputs": [
    {
     "name": "stdout",
     "output_type": "stream",
     "text": [
      "<class 'pandas.core.frame.DataFrame'>\n",
      "Index: 45670 entries, 1 to 53900\n",
      "Data columns (total 9 columns):\n",
      " #   Column               Non-Null Count  Dtype  \n",
      "---  ------               --------------  -----  \n",
      " 0   user_id              45670 non-null  int64  \n",
      " 1   date                 45670 non-null  object \n",
      " 2   direction            45670 non-null  object \n",
      " 3   internal             45670 non-null  object \n",
      " 4   operator_id          45670 non-null  float64\n",
      " 5   is_missed_call       45670 non-null  bool   \n",
      " 6   calls_count          45670 non-null  int64  \n",
      " 7   call_duration        45670 non-null  int64  \n",
      " 8   total_call_duration  45670 non-null  int64  \n",
      "dtypes: bool(1), float64(1), int64(4), object(3)\n",
      "memory usage: 3.2+ MB\n"
     ]
    }
   ],
   "source": [
    "data.info()"
   ]
  },
  {
   "cell_type": "markdown",
   "metadata": {},
   "source": [
    "Al eliminar los datos ausentes, pasamos de 53,902 rows a 45,670 rows, un número todavia apto para realizar nuestro análisis."
   ]
  },
  {
   "cell_type": "markdown",
   "metadata": {},
   "source": [
    "# Datos duplicados\n",
    "\n",
    "Se detectaron un total de 4,900 datos duplicados, los cuales deben estudiarse para ver la mejor opción para tratarlos"
   ]
  },
  {
   "cell_type": "code",
   "execution_count": 66,
   "metadata": {},
   "outputs": [
    {
     "data": {
      "text/html": [
       "<div>\n",
       "<style scoped>\n",
       "    .dataframe tbody tr th:only-of-type {\n",
       "        vertical-align: middle;\n",
       "    }\n",
       "\n",
       "    .dataframe tbody tr th {\n",
       "        vertical-align: top;\n",
       "    }\n",
       "\n",
       "    .dataframe thead th {\n",
       "        text-align: right;\n",
       "    }\n",
       "</style>\n",
       "<table border=\"1\" class=\"dataframe\">\n",
       "  <thead>\n",
       "    <tr style=\"text-align: right;\">\n",
       "      <th></th>\n",
       "      <th>user_id</th>\n",
       "      <th>date</th>\n",
       "      <th>direction</th>\n",
       "      <th>internal</th>\n",
       "      <th>operator_id</th>\n",
       "      <th>is_missed_call</th>\n",
       "      <th>calls_count</th>\n",
       "      <th>call_duration</th>\n",
       "      <th>total_call_duration</th>\n",
       "    </tr>\n",
       "  </thead>\n",
       "  <tbody>\n",
       "    <tr>\n",
       "      <th>8</th>\n",
       "      <td>166377</td>\n",
       "      <td>2019-08-05 00:00:00+03:00</td>\n",
       "      <td>out</td>\n",
       "      <td>False</td>\n",
       "      <td>880020.0</td>\n",
       "      <td>True</td>\n",
       "      <td>8</td>\n",
       "      <td>0</td>\n",
       "      <td>50</td>\n",
       "    </tr>\n",
       "    <tr>\n",
       "      <th>44</th>\n",
       "      <td>166377</td>\n",
       "      <td>2019-08-14 00:00:00+03:00</td>\n",
       "      <td>out</td>\n",
       "      <td>False</td>\n",
       "      <td>880026.0</td>\n",
       "      <td>False</td>\n",
       "      <td>10</td>\n",
       "      <td>1567</td>\n",
       "      <td>1654</td>\n",
       "    </tr>\n",
       "    <tr>\n",
       "      <th>51</th>\n",
       "      <td>166377</td>\n",
       "      <td>2019-08-15 00:00:00+03:00</td>\n",
       "      <td>out</td>\n",
       "      <td>False</td>\n",
       "      <td>880026.0</td>\n",
       "      <td>False</td>\n",
       "      <td>11</td>\n",
       "      <td>1413</td>\n",
       "      <td>1473</td>\n",
       "    </tr>\n",
       "    <tr>\n",
       "      <th>62</th>\n",
       "      <td>166377</td>\n",
       "      <td>2019-08-19 00:00:00+03:00</td>\n",
       "      <td>out</td>\n",
       "      <td>False</td>\n",
       "      <td>880026.0</td>\n",
       "      <td>False</td>\n",
       "      <td>14</td>\n",
       "      <td>1519</td>\n",
       "      <td>1598</td>\n",
       "    </tr>\n",
       "    <tr>\n",
       "      <th>78</th>\n",
       "      <td>166377</td>\n",
       "      <td>2019-08-22 00:00:00+03:00</td>\n",
       "      <td>out</td>\n",
       "      <td>False</td>\n",
       "      <td>880026.0</td>\n",
       "      <td>True</td>\n",
       "      <td>6</td>\n",
       "      <td>0</td>\n",
       "      <td>55</td>\n",
       "    </tr>\n",
       "    <tr>\n",
       "      <th>...</th>\n",
       "      <td>...</td>\n",
       "      <td>...</td>\n",
       "      <td>...</td>\n",
       "      <td>...</td>\n",
       "      <td>...</td>\n",
       "      <td>...</td>\n",
       "      <td>...</td>\n",
       "      <td>...</td>\n",
       "      <td>...</td>\n",
       "    </tr>\n",
       "    <tr>\n",
       "      <th>53861</th>\n",
       "      <td>168601</td>\n",
       "      <td>2019-11-20 00:00:00+03:00</td>\n",
       "      <td>out</td>\n",
       "      <td>False</td>\n",
       "      <td>952914.0</td>\n",
       "      <td>True</td>\n",
       "      <td>1</td>\n",
       "      <td>0</td>\n",
       "      <td>2</td>\n",
       "    </tr>\n",
       "    <tr>\n",
       "      <th>53869</th>\n",
       "      <td>168601</td>\n",
       "      <td>2019-11-25 00:00:00+03:00</td>\n",
       "      <td>in</td>\n",
       "      <td>False</td>\n",
       "      <td>952914.0</td>\n",
       "      <td>False</td>\n",
       "      <td>7</td>\n",
       "      <td>1229</td>\n",
       "      <td>1282</td>\n",
       "    </tr>\n",
       "    <tr>\n",
       "      <th>53874</th>\n",
       "      <td>168601</td>\n",
       "      <td>2019-11-26 00:00:00+03:00</td>\n",
       "      <td>in</td>\n",
       "      <td>False</td>\n",
       "      <td>952914.0</td>\n",
       "      <td>False</td>\n",
       "      <td>4</td>\n",
       "      <td>539</td>\n",
       "      <td>562</td>\n",
       "    </tr>\n",
       "    <tr>\n",
       "      <th>53885</th>\n",
       "      <td>168603</td>\n",
       "      <td>2019-11-20 00:00:00+03:00</td>\n",
       "      <td>out</td>\n",
       "      <td>False</td>\n",
       "      <td>959118.0</td>\n",
       "      <td>True</td>\n",
       "      <td>3</td>\n",
       "      <td>0</td>\n",
       "      <td>89</td>\n",
       "    </tr>\n",
       "    <tr>\n",
       "      <th>53900</th>\n",
       "      <td>168606</td>\n",
       "      <td>2019-11-15 00:00:00+03:00</td>\n",
       "      <td>out</td>\n",
       "      <td>True</td>\n",
       "      <td>957922.0</td>\n",
       "      <td>False</td>\n",
       "      <td>4</td>\n",
       "      <td>3130</td>\n",
       "      <td>3190</td>\n",
       "    </tr>\n",
       "  </tbody>\n",
       "</table>\n",
       "<p>4179 rows × 9 columns</p>\n",
       "</div>"
      ],
      "text/plain": [
       "       user_id                       date direction internal  operator_id  \\\n",
       "8       166377  2019-08-05 00:00:00+03:00       out    False     880020.0   \n",
       "44      166377  2019-08-14 00:00:00+03:00       out    False     880026.0   \n",
       "51      166377  2019-08-15 00:00:00+03:00       out    False     880026.0   \n",
       "62      166377  2019-08-19 00:00:00+03:00       out    False     880026.0   \n",
       "78      166377  2019-08-22 00:00:00+03:00       out    False     880026.0   \n",
       "...        ...                        ...       ...      ...          ...   \n",
       "53861   168601  2019-11-20 00:00:00+03:00       out    False     952914.0   \n",
       "53869   168601  2019-11-25 00:00:00+03:00        in    False     952914.0   \n",
       "53874   168601  2019-11-26 00:00:00+03:00        in    False     952914.0   \n",
       "53885   168603  2019-11-20 00:00:00+03:00       out    False     959118.0   \n",
       "53900   168606  2019-11-15 00:00:00+03:00       out     True     957922.0   \n",
       "\n",
       "       is_missed_call  calls_count  call_duration  total_call_duration  \n",
       "8                True            8              0                   50  \n",
       "44              False           10           1567                 1654  \n",
       "51              False           11           1413                 1473  \n",
       "62              False           14           1519                 1598  \n",
       "78               True            6              0                   55  \n",
       "...               ...          ...            ...                  ...  \n",
       "53861            True            1              0                    2  \n",
       "53869           False            7           1229                 1282  \n",
       "53874           False            4            539                  562  \n",
       "53885            True            3              0                   89  \n",
       "53900           False            4           3130                 3190  \n",
       "\n",
       "[4179 rows x 9 columns]"
      ]
     },
     "execution_count": 66,
     "metadata": {},
     "output_type": "execute_result"
    }
   ],
   "source": [
    "# Veamos una muestra de los datos donde hay ausentes\n",
    "\n",
    "data[data.duplicated()]"
   ]
  },
  {
   "cell_type": "markdown",
   "metadata": {},
   "source": [
    "Una vez viendo una muestra podemos ver que los datos que se encontraron duplicados fue en su mayoria porque compartian user_id, operator_id y otras columnas que tienden a repetirse debido a la naturaleza de como estan los datos, sin embargo las fechas difieren para cada columna."
   ]
  },
  {
   "cell_type": "markdown",
   "metadata": {},
   "source": [
    "# Cambio de tipo de datos\n",
    "\n",
    "Como comentamos anteriormente, se identificaron 4 columnas que hay que hacer un cambio en el tipo de datos que tienen. Estas son:\n",
    "\n",
    "- **date_start** a datetime\n",
    "- **date** a datetime\n",
    "- **internal** a bool\n",
    "- **operator_id** a int"
   ]
  },
  {
   "cell_type": "code",
   "execution_count": 67,
   "metadata": {},
   "outputs": [
    {
     "name": "stdout",
     "output_type": "stream",
     "text": [
      "<class 'pandas.core.frame.DataFrame'>\n",
      "RangeIndex: 732 entries, 0 to 731\n",
      "Data columns (total 3 columns):\n",
      " #   Column       Non-Null Count  Dtype         \n",
      "---  ------       --------------  -----         \n",
      " 0   user_id      732 non-null    int64         \n",
      " 1   tariff_plan  732 non-null    object        \n",
      " 2   date_start   732 non-null    datetime64[ns]\n",
      "dtypes: datetime64[ns](1), int64(1), object(1)\n",
      "memory usage: 17.3+ KB\n",
      "None\n",
      "\n",
      "\n",
      "===================================================\n",
      "\n",
      "\n",
      "<class 'pandas.core.frame.DataFrame'>\n",
      "Index: 45670 entries, 1 to 53900\n",
      "Data columns (total 9 columns):\n",
      " #   Column               Non-Null Count  Dtype         \n",
      "---  ------               --------------  -----         \n",
      " 0   user_id              45670 non-null  int64         \n",
      " 1   date                 45670 non-null  datetime64[ns]\n",
      " 2   direction            45670 non-null  object        \n",
      " 3   internal             45670 non-null  bool          \n",
      " 4   operator_id          45670 non-null  int64         \n",
      " 5   is_missed_call       45670 non-null  bool          \n",
      " 6   calls_count          45670 non-null  int64         \n",
      " 7   call_duration        45670 non-null  int64         \n",
      " 8   total_call_duration  45670 non-null  int64         \n",
      "dtypes: bool(2), datetime64[ns](1), int64(5), object(1)\n",
      "memory usage: 2.9+ MB\n",
      "None\n"
     ]
    }
   ],
   "source": [
    "## Ajustamos los datos de fechas\n",
    "data_clients['date_start'] = pd.to_datetime(data_clients.date_start)\n",
    "data['date'] = pd.to_datetime(pd.to_datetime(data.date).dt.date)\n",
    "\n",
    "# Ajustamos los otros datos\n",
    "data['internal'] = data['internal'].astype(bool)\n",
    "data['operator_id'] = data['operator_id'].apply(int)\n",
    "\n",
    "# Verificamos los cambios\n",
    "print(data_clients.info())\n",
    "print('\\n')\n",
    "print(\"===================================================\")\n",
    "print('\\n')\n",
    "print(data.info())"
   ]
  },
  {
   "cell_type": "markdown",
   "metadata": {},
   "source": [
    "Con estos ajustes, nuestros datos estan listos para ser analizados."
   ]
  },
  {
   "cell_type": "markdown",
   "metadata": {},
   "source": [
    "# Análisis Exploratorio de los datos (EDA)\n",
    "\n",
    "En esta fase se deben realizar los siguientes pasos:\n",
    "\n",
    "- Verificar la consistencia de los datos (ver si hay llamadas perdidas con una duración mayor a 0, etc)\n",
    "- Describir el comportamiento de los operadores. Identificar cuantos operadores están activos, su número de llamadas tanto salientes como entrantes, número total de llamadas y llamadas perdidas, calcula el tiempo de espera y tiempo de duración de llamadas promedio.\n",
    "- Describe el comportamiento de los clientes. Identifica que clientes ocupan más el servicio, su tarifa actual, que tanto tiempo llevan con el servicio."
   ]
  },
  {
   "cell_type": "markdown",
   "metadata": {},
   "source": [
    "# Verificación de la consistencia de los datos\n",
    "\n",
    "Para este apartado verificaremos que los datos tengan sentidos con los resultados que presentan, entre ellos:\n",
    "\n",
    "- Que las llamadas clasificadas como \"perdidas\", tengan un **call_duration** de 0\n",
    "- Que las llamadas clasificadas como \"no perdidas\", tengan duraciones mayores a 0 segundos\n",
    "- Que el tiempo de **call_duration** no exceda el tiempo de **total_call_duration**"
   ]
  },
  {
   "cell_type": "code",
   "execution_count": 68,
   "metadata": {},
   "outputs": [
    {
     "data": {
      "text/html": [
       "<div>\n",
       "<style scoped>\n",
       "    .dataframe tbody tr th:only-of-type {\n",
       "        vertical-align: middle;\n",
       "    }\n",
       "\n",
       "    .dataframe tbody tr th {\n",
       "        vertical-align: top;\n",
       "    }\n",
       "\n",
       "    .dataframe thead th {\n",
       "        text-align: right;\n",
       "    }\n",
       "</style>\n",
       "<table border=\"1\" class=\"dataframe\">\n",
       "  <thead>\n",
       "    <tr style=\"text-align: right;\">\n",
       "      <th></th>\n",
       "      <th>user_id</th>\n",
       "      <th>date</th>\n",
       "      <th>direction</th>\n",
       "      <th>internal</th>\n",
       "      <th>operator_id</th>\n",
       "      <th>is_missed_call</th>\n",
       "      <th>calls_count</th>\n",
       "      <th>call_duration</th>\n",
       "      <th>total_call_duration</th>\n",
       "    </tr>\n",
       "  </thead>\n",
       "  <tbody>\n",
       "    <tr>\n",
       "      <th>1606</th>\n",
       "      <td>166405</td>\n",
       "      <td>2019-11-19</td>\n",
       "      <td>in</td>\n",
       "      <td>False</td>\n",
       "      <td>939478</td>\n",
       "      <td>True</td>\n",
       "      <td>1</td>\n",
       "      <td>165</td>\n",
       "      <td>173</td>\n",
       "    </tr>\n",
       "    <tr>\n",
       "      <th>1635</th>\n",
       "      <td>166405</td>\n",
       "      <td>2019-11-21</td>\n",
       "      <td>in</td>\n",
       "      <td>False</td>\n",
       "      <td>882686</td>\n",
       "      <td>True</td>\n",
       "      <td>1</td>\n",
       "      <td>1</td>\n",
       "      <td>5</td>\n",
       "    </tr>\n",
       "    <tr>\n",
       "      <th>1657</th>\n",
       "      <td>166405</td>\n",
       "      <td>2019-11-22</td>\n",
       "      <td>in</td>\n",
       "      <td>False</td>\n",
       "      <td>882686</td>\n",
       "      <td>True</td>\n",
       "      <td>1</td>\n",
       "      <td>1</td>\n",
       "      <td>5</td>\n",
       "    </tr>\n",
       "    <tr>\n",
       "      <th>2283</th>\n",
       "      <td>166407</td>\n",
       "      <td>2019-09-23</td>\n",
       "      <td>in</td>\n",
       "      <td>False</td>\n",
       "      <td>888534</td>\n",
       "      <td>True</td>\n",
       "      <td>1</td>\n",
       "      <td>133</td>\n",
       "      <td>156</td>\n",
       "    </tr>\n",
       "    <tr>\n",
       "      <th>2869</th>\n",
       "      <td>166482</td>\n",
       "      <td>2019-11-05</td>\n",
       "      <td>in</td>\n",
       "      <td>False</td>\n",
       "      <td>934074</td>\n",
       "      <td>True</td>\n",
       "      <td>1</td>\n",
       "      <td>1</td>\n",
       "      <td>15</td>\n",
       "    </tr>\n",
       "    <tr>\n",
       "      <th>...</th>\n",
       "      <td>...</td>\n",
       "      <td>...</td>\n",
       "      <td>...</td>\n",
       "      <td>...</td>\n",
       "      <td>...</td>\n",
       "      <td>...</td>\n",
       "      <td>...</td>\n",
       "      <td>...</td>\n",
       "      <td>...</td>\n",
       "    </tr>\n",
       "    <tr>\n",
       "      <th>51693</th>\n",
       "      <td>168336</td>\n",
       "      <td>2019-11-15</td>\n",
       "      <td>in</td>\n",
       "      <td>False</td>\n",
       "      <td>947304</td>\n",
       "      <td>True</td>\n",
       "      <td>1</td>\n",
       "      <td>46</td>\n",
       "      <td>49</td>\n",
       "    </tr>\n",
       "    <tr>\n",
       "      <th>51695</th>\n",
       "      <td>168336</td>\n",
       "      <td>2019-11-15</td>\n",
       "      <td>in</td>\n",
       "      <td>False</td>\n",
       "      <td>947304</td>\n",
       "      <td>True</td>\n",
       "      <td>1</td>\n",
       "      <td>46</td>\n",
       "      <td>49</td>\n",
       "    </tr>\n",
       "    <tr>\n",
       "      <th>51853</th>\n",
       "      <td>168336</td>\n",
       "      <td>2019-11-27</td>\n",
       "      <td>in</td>\n",
       "      <td>False</td>\n",
       "      <td>958416</td>\n",
       "      <td>True</td>\n",
       "      <td>1</td>\n",
       "      <td>40</td>\n",
       "      <td>65</td>\n",
       "    </tr>\n",
       "    <tr>\n",
       "      <th>53209</th>\n",
       "      <td>168412</td>\n",
       "      <td>2019-11-05</td>\n",
       "      <td>in</td>\n",
       "      <td>False</td>\n",
       "      <td>953464</td>\n",
       "      <td>True</td>\n",
       "      <td>1</td>\n",
       "      <td>1</td>\n",
       "      <td>7</td>\n",
       "    </tr>\n",
       "    <tr>\n",
       "      <th>53225</th>\n",
       "      <td>168412</td>\n",
       "      <td>2019-11-05</td>\n",
       "      <td>in</td>\n",
       "      <td>False</td>\n",
       "      <td>953464</td>\n",
       "      <td>True</td>\n",
       "      <td>1</td>\n",
       "      <td>1</td>\n",
       "      <td>7</td>\n",
       "    </tr>\n",
       "  </tbody>\n",
       "</table>\n",
       "<p>324 rows × 9 columns</p>\n",
       "</div>"
      ],
      "text/plain": [
       "       user_id       date direction  internal  operator_id  is_missed_call  \\\n",
       "1606    166405 2019-11-19        in     False       939478            True   \n",
       "1635    166405 2019-11-21        in     False       882686            True   \n",
       "1657    166405 2019-11-22        in     False       882686            True   \n",
       "2283    166407 2019-09-23        in     False       888534            True   \n",
       "2869    166482 2019-11-05        in     False       934074            True   \n",
       "...        ...        ...       ...       ...          ...             ...   \n",
       "51693   168336 2019-11-15        in     False       947304            True   \n",
       "51695   168336 2019-11-15        in     False       947304            True   \n",
       "51853   168336 2019-11-27        in     False       958416            True   \n",
       "53209   168412 2019-11-05        in     False       953464            True   \n",
       "53225   168412 2019-11-05        in     False       953464            True   \n",
       "\n",
       "       calls_count  call_duration  total_call_duration  \n",
       "1606             1            165                  173  \n",
       "1635             1              1                    5  \n",
       "1657             1              1                    5  \n",
       "2283             1            133                  156  \n",
       "2869             1              1                   15  \n",
       "...            ...            ...                  ...  \n",
       "51693            1             46                   49  \n",
       "51695            1             46                   49  \n",
       "51853            1             40                   65  \n",
       "53209            1              1                    7  \n",
       "53225            1              1                    7  \n",
       "\n",
       "[324 rows x 9 columns]"
      ]
     },
     "execution_count": 68,
     "metadata": {},
     "output_type": "execute_result"
    }
   ],
   "source": [
    "# Verificamos que las llamadas perdidas tengan duración 0\n",
    "data.query(\"is_missed_call == True and call_duration > 0\")"
   ]
  },
  {
   "cell_type": "code",
   "execution_count": 69,
   "metadata": {},
   "outputs": [
    {
     "data": {
      "text/plain": [
       "call_duration\n",
       "0      15193\n",
       "1        114\n",
       "2          9\n",
       "72         5\n",
       "46         5\n",
       "       ...  \n",
       "8          1\n",
       "161        1\n",
       "96         1\n",
       "4          1\n",
       "40         1\n",
       "Name: count, Length: 132, dtype: int64"
      ]
     },
     "execution_count": 69,
     "metadata": {},
     "output_type": "execute_result"
    }
   ],
   "source": [
    "data.query(\"is_missed_call == True and call_duration >= 0\").call_duration.value_counts()"
   ]
  },
  {
   "cell_type": "markdown",
   "metadata": {},
   "source": [
    "Como podemos apreciar, tenemos 324 registros de llamadas marcadas como \"perdidas\", pero tienen tiempo de llamada superior a 0 y de ellos, 114 son de 1 segundo y 9 de 2 segundos. Estas ultimas podemos cambiarle el valor a 0 ya que si podemos considerarlas como \"perdidas\", sin embargo los registros de duraciones mayores deben ser recatalogadas como \"no pérdidas\"."
   ]
  },
  {
   "cell_type": "code",
   "execution_count": 70,
   "metadata": {},
   "outputs": [
    {
     "data": {
      "text/plain": [
       "call_duration\n",
       "0    15193\n",
       "1      114\n",
       "2        9\n",
       "Name: count, dtype: int64"
      ]
     },
     "execution_count": 70,
     "metadata": {},
     "output_type": "execute_result"
    }
   ],
   "source": [
    "# Definimos la categoria de las llamadas con más de 2 segundos de llamada\n",
    "data['is_missed_call'] = data['is_missed_call'].where(data['call_duration']<=2, other=False)\n",
    "\n",
    "# Verificamos que se haya hecho el primer cambio\n",
    "data.query(\"is_missed_call == True and call_duration >= 0\").call_duration.value_counts()"
   ]
  },
  {
   "cell_type": "code",
   "execution_count": 71,
   "metadata": {},
   "outputs": [
    {
     "data": {
      "text/plain": [
       "call_duration\n",
       "0    15316\n",
       "Name: count, dtype: int64"
      ]
     },
     "execution_count": 71,
     "metadata": {},
     "output_type": "execute_result"
    }
   ],
   "source": [
    "# Cambiamos el valor de las llamadas entre 1 y 2 segundos a 0\n",
    "data['call_duration'] = data['call_duration'].where(data['call_duration']>2, other=0)\n",
    "\n",
    "# Verificamos que se haya hecho el segundo cambio\n",
    "data.query(\"is_missed_call == True and call_duration >= 0\").call_duration.value_counts()"
   ]
  },
  {
   "cell_type": "code",
   "execution_count": 72,
   "metadata": {},
   "outputs": [
    {
     "data": {
      "text/html": [
       "<div>\n",
       "<style scoped>\n",
       "    .dataframe tbody tr th:only-of-type {\n",
       "        vertical-align: middle;\n",
       "    }\n",
       "\n",
       "    .dataframe tbody tr th {\n",
       "        vertical-align: top;\n",
       "    }\n",
       "\n",
       "    .dataframe thead th {\n",
       "        text-align: right;\n",
       "    }\n",
       "</style>\n",
       "<table border=\"1\" class=\"dataframe\">\n",
       "  <thead>\n",
       "    <tr style=\"text-align: right;\">\n",
       "      <th></th>\n",
       "      <th>user_id</th>\n",
       "      <th>date</th>\n",
       "      <th>direction</th>\n",
       "      <th>internal</th>\n",
       "      <th>operator_id</th>\n",
       "      <th>is_missed_call</th>\n",
       "      <th>calls_count</th>\n",
       "      <th>call_duration</th>\n",
       "      <th>total_call_duration</th>\n",
       "    </tr>\n",
       "  </thead>\n",
       "  <tbody>\n",
       "    <tr>\n",
       "      <th>386</th>\n",
       "      <td>166377</td>\n",
       "      <td>2019-10-22</td>\n",
       "      <td>out</td>\n",
       "      <td>True</td>\n",
       "      <td>880028</td>\n",
       "      <td>False</td>\n",
       "      <td>1</td>\n",
       "      <td>0</td>\n",
       "      <td>4</td>\n",
       "    </tr>\n",
       "    <tr>\n",
       "      <th>392</th>\n",
       "      <td>166377</td>\n",
       "      <td>2019-10-22</td>\n",
       "      <td>out</td>\n",
       "      <td>True</td>\n",
       "      <td>880028</td>\n",
       "      <td>False</td>\n",
       "      <td>1</td>\n",
       "      <td>0</td>\n",
       "      <td>4</td>\n",
       "    </tr>\n",
       "    <tr>\n",
       "      <th>706</th>\n",
       "      <td>166399</td>\n",
       "      <td>2019-10-02</td>\n",
       "      <td>in</td>\n",
       "      <td>False</td>\n",
       "      <td>886674</td>\n",
       "      <td>False</td>\n",
       "      <td>1</td>\n",
       "      <td>0</td>\n",
       "      <td>12</td>\n",
       "    </tr>\n",
       "    <tr>\n",
       "      <th>708</th>\n",
       "      <td>166399</td>\n",
       "      <td>2019-10-02</td>\n",
       "      <td>in</td>\n",
       "      <td>False</td>\n",
       "      <td>886674</td>\n",
       "      <td>False</td>\n",
       "      <td>1</td>\n",
       "      <td>0</td>\n",
       "      <td>12</td>\n",
       "    </tr>\n",
       "    <tr>\n",
       "      <th>718</th>\n",
       "      <td>166399</td>\n",
       "      <td>2019-10-21</td>\n",
       "      <td>in</td>\n",
       "      <td>False</td>\n",
       "      <td>886674</td>\n",
       "      <td>False</td>\n",
       "      <td>1</td>\n",
       "      <td>0</td>\n",
       "      <td>22</td>\n",
       "    </tr>\n",
       "    <tr>\n",
       "      <th>...</th>\n",
       "      <td>...</td>\n",
       "      <td>...</td>\n",
       "      <td>...</td>\n",
       "      <td>...</td>\n",
       "      <td>...</td>\n",
       "      <td>...</td>\n",
       "      <td>...</td>\n",
       "      <td>...</td>\n",
       "      <td>...</td>\n",
       "    </tr>\n",
       "    <tr>\n",
       "      <th>51912</th>\n",
       "      <td>168361</td>\n",
       "      <td>2019-10-24</td>\n",
       "      <td>out</td>\n",
       "      <td>True</td>\n",
       "      <td>945310</td>\n",
       "      <td>False</td>\n",
       "      <td>2</td>\n",
       "      <td>0</td>\n",
       "      <td>1</td>\n",
       "    </tr>\n",
       "    <tr>\n",
       "      <th>52799</th>\n",
       "      <td>168361</td>\n",
       "      <td>2019-11-19</td>\n",
       "      <td>out</td>\n",
       "      <td>True</td>\n",
       "      <td>965542</td>\n",
       "      <td>False</td>\n",
       "      <td>1</td>\n",
       "      <td>0</td>\n",
       "      <td>6</td>\n",
       "    </tr>\n",
       "    <tr>\n",
       "      <th>53201</th>\n",
       "      <td>168377</td>\n",
       "      <td>2019-11-21</td>\n",
       "      <td>in</td>\n",
       "      <td>False</td>\n",
       "      <td>968368</td>\n",
       "      <td>False</td>\n",
       "      <td>1</td>\n",
       "      <td>0</td>\n",
       "      <td>22</td>\n",
       "    </tr>\n",
       "    <tr>\n",
       "      <th>53579</th>\n",
       "      <td>168464</td>\n",
       "      <td>2019-11-11</td>\n",
       "      <td>in</td>\n",
       "      <td>False</td>\n",
       "      <td>950634</td>\n",
       "      <td>False</td>\n",
       "      <td>1</td>\n",
       "      <td>0</td>\n",
       "      <td>25</td>\n",
       "    </tr>\n",
       "    <tr>\n",
       "      <th>53896</th>\n",
       "      <td>168606</td>\n",
       "      <td>2019-11-10</td>\n",
       "      <td>out</td>\n",
       "      <td>True</td>\n",
       "      <td>957922</td>\n",
       "      <td>False</td>\n",
       "      <td>1</td>\n",
       "      <td>0</td>\n",
       "      <td>25</td>\n",
       "    </tr>\n",
       "  </tbody>\n",
       "</table>\n",
       "<p>196 rows × 9 columns</p>\n",
       "</div>"
      ],
      "text/plain": [
       "       user_id       date direction  internal  operator_id  is_missed_call  \\\n",
       "386     166377 2019-10-22       out      True       880028           False   \n",
       "392     166377 2019-10-22       out      True       880028           False   \n",
       "706     166399 2019-10-02        in     False       886674           False   \n",
       "708     166399 2019-10-02        in     False       886674           False   \n",
       "718     166399 2019-10-21        in     False       886674           False   \n",
       "...        ...        ...       ...       ...          ...             ...   \n",
       "51912   168361 2019-10-24       out      True       945310           False   \n",
       "52799   168361 2019-11-19       out      True       965542           False   \n",
       "53201   168377 2019-11-21        in     False       968368           False   \n",
       "53579   168464 2019-11-11        in     False       950634           False   \n",
       "53896   168606 2019-11-10       out      True       957922           False   \n",
       "\n",
       "       calls_count  call_duration  total_call_duration  \n",
       "386              1              0                    4  \n",
       "392              1              0                    4  \n",
       "706              1              0                   12  \n",
       "708              1              0                   12  \n",
       "718              1              0                   22  \n",
       "...            ...            ...                  ...  \n",
       "51912            2              0                    1  \n",
       "52799            1              0                    6  \n",
       "53201            1              0                   22  \n",
       "53579            1              0                   25  \n",
       "53896            1              0                   25  \n",
       "\n",
       "[196 rows x 9 columns]"
      ]
     },
     "execution_count": 72,
     "metadata": {},
     "output_type": "execute_result"
    }
   ],
   "source": [
    "# Verificamos que las llamadas no perdidas tengan duración mayor a 0 segundos\n",
    "data.query(\"is_missed_call == False and call_duration == 0\")"
   ]
  },
  {
   "cell_type": "markdown",
   "metadata": {},
   "source": [
    "Como podemos ver, tenemos 196 llamadas catalogadas como no perdidas pero tienen duraciones de llamadas de 0 segundos por lo que debemos recatalogarlas como perdidas"
   ]
  },
  {
   "cell_type": "code",
   "execution_count": 73,
   "metadata": {},
   "outputs": [
    {
     "data": {
      "text/plain": [
       "0"
      ]
     },
     "execution_count": 73,
     "metadata": {},
     "output_type": "execute_result"
    }
   ],
   "source": [
    "# Cambiamos la categoria de las llamadas con 0 segundos de llamada\n",
    "data['is_missed_call'] = data['is_missed_call'].where(data['call_duration']>0, other=True)\n",
    "\n",
    "# Verificamos que se haya hecho el cambio\n",
    "data.query(\"is_missed_call == False and call_duration == 0\").size"
   ]
  },
  {
   "cell_type": "markdown",
   "metadata": {},
   "source": [
    "Con estos ajustes la consistencia de las llamadas perdidas y no perdidas vuelve a estar en orden."
   ]
  },
  {
   "cell_type": "code",
   "execution_count": 74,
   "metadata": {},
   "outputs": [
    {
     "name": "stdout",
     "output_type": "stream",
     "text": [
      "Registros con tiempo total de llamadas menores a tiempo de llamada 0\n"
     ]
    }
   ],
   "source": [
    "# Verificamos que call_duration no sea mayor a total_call_duration\n",
    "print('Registros con tiempo total de llamadas menores a tiempo de llamada', data.query('total_call_duration < call_duration').size)"
   ]
  },
  {
   "cell_type": "markdown",
   "metadata": {},
   "source": [
    "Pudimos verificar que la consistencia de las llamadas se cumple y no hay registros con tiempo de llamada mayor al tiempo total de la llamada"
   ]
  },
  {
   "cell_type": "code",
   "execution_count": 83,
   "metadata": {},
   "outputs": [],
   "source": [
    "data['call_wait'] = data.total_call_duration - data.call_duration"
   ]
  },
  {
   "cell_type": "code",
   "execution_count": 86,
   "metadata": {},
   "outputs": [],
   "source": [
    "dataset_clients_merged = data.merge(data_clients, on='user_id')"
   ]
  },
  {
   "cell_type": "code",
   "execution_count": 87,
   "metadata": {},
   "outputs": [
    {
     "name": "stdout",
     "output_type": "stream",
     "text": [
      "<class 'pandas.core.frame.DataFrame'>\n",
      "RangeIndex: 45670 entries, 0 to 45669\n",
      "Data columns (total 12 columns):\n",
      " #   Column               Non-Null Count  Dtype         \n",
      "---  ------               --------------  -----         \n",
      " 0   user_id              45670 non-null  int64         \n",
      " 1   date                 45670 non-null  datetime64[ns]\n",
      " 2   direction            45670 non-null  object        \n",
      " 3   internal             45670 non-null  bool          \n",
      " 4   operator_id          45670 non-null  int64         \n",
      " 5   is_missed_call       45670 non-null  bool          \n",
      " 6   calls_count          45670 non-null  int64         \n",
      " 7   call_duration        45670 non-null  int64         \n",
      " 8   total_call_duration  45670 non-null  int64         \n",
      " 9   call_wait            45670 non-null  int64         \n",
      " 10  tariff_plan          45670 non-null  object        \n",
      " 11  date_start           45670 non-null  datetime64[ns]\n",
      "dtypes: bool(2), datetime64[ns](2), int64(6), object(2)\n",
      "memory usage: 3.6+ MB\n"
     ]
    }
   ],
   "source": [
    "dataset_clients_merged.info()"
   ]
  },
  {
   "cell_type": "code",
   "execution_count": 88,
   "metadata": {},
   "outputs": [],
   "source": [
    "# se guardan los datos\n",
    "data.to_csv(\n",
    "    \"C:/Users/Carlos/Desktop/sprint14/salida/dataset_us_cleaned.csv\", index=False)\n",
    "\n",
    "data_clients.to_csv(\n",
    "    \"C:/Users/Carlos/Desktop/sprint14/salida/clients_us_cleaned.csv\", index=False)\n",
    "\n",
    "dataset_clients_merged.to_csv(\n",
    "    \"C:/Users/Carlos/Desktop/sprint14/salida/dataset_clients_merged.csv\", index=False)"
   ]
  },
  {
   "cell_type": "markdown",
   "metadata": {},
   "source": [
    "# Comportamiento operadores"
   ]
  },
  {
   "cell_type": "code",
   "execution_count": 77,
   "metadata": {},
   "outputs": [
    {
     "name": "stdout",
     "output_type": "stream",
     "text": [
      "Tenemos un total de 1092 operadores activos\n"
     ]
    }
   ],
   "source": [
    "# Número de operadores activos\n",
    "print('Tenemos un total de', data.operator_id.nunique(), 'operadores activos')"
   ]
  },
  {
   "cell_type": "code",
   "execution_count": 78,
   "metadata": {},
   "outputs": [
    {
     "data": {
      "text/html": [
       "<div>\n",
       "<style scoped>\n",
       "    .dataframe tbody tr th:only-of-type {\n",
       "        vertical-align: middle;\n",
       "    }\n",
       "\n",
       "    .dataframe tbody tr th {\n",
       "        vertical-align: top;\n",
       "    }\n",
       "\n",
       "    .dataframe thead th {\n",
       "        text-align: right;\n",
       "    }\n",
       "</style>\n",
       "<table border=\"1\" class=\"dataframe\">\n",
       "  <thead>\n",
       "    <tr style=\"text-align: right;\">\n",
       "      <th></th>\n",
       "      <th>operator_id</th>\n",
       "      <th>llamadas_totales</th>\n",
       "      <th>llamadas_perdidas</th>\n",
       "      <th>llamadas_entrantes</th>\n",
       "      <th>llamadas_salientes</th>\n",
       "    </tr>\n",
       "  </thead>\n",
       "  <tbody>\n",
       "    <tr>\n",
       "      <th>0</th>\n",
       "      <td>879896</td>\n",
       "      <td>1131</td>\n",
       "      <td>50</td>\n",
       "      <td>60</td>\n",
       "      <td>1071</td>\n",
       "    </tr>\n",
       "    <tr>\n",
       "      <th>1</th>\n",
       "      <td>879898</td>\n",
       "      <td>7973</td>\n",
       "      <td>101</td>\n",
       "      <td>117</td>\n",
       "      <td>7856</td>\n",
       "    </tr>\n",
       "    <tr>\n",
       "      <th>2</th>\n",
       "      <td>880020</td>\n",
       "      <td>54</td>\n",
       "      <td>7</td>\n",
       "      <td>8</td>\n",
       "      <td>46</td>\n",
       "    </tr>\n",
       "    <tr>\n",
       "      <th>3</th>\n",
       "      <td>880022</td>\n",
       "      <td>219</td>\n",
       "      <td>33</td>\n",
       "      <td>8</td>\n",
       "      <td>211</td>\n",
       "    </tr>\n",
       "    <tr>\n",
       "      <th>4</th>\n",
       "      <td>880026</td>\n",
       "      <td>2439</td>\n",
       "      <td>94</td>\n",
       "      <td>25</td>\n",
       "      <td>2414</td>\n",
       "    </tr>\n",
       "    <tr>\n",
       "      <th>...</th>\n",
       "      <td>...</td>\n",
       "      <td>...</td>\n",
       "      <td>...</td>\n",
       "      <td>...</td>\n",
       "      <td>...</td>\n",
       "    </tr>\n",
       "    <tr>\n",
       "      <th>539</th>\n",
       "      <td>970244</td>\n",
       "      <td>4</td>\n",
       "      <td>1</td>\n",
       "      <td>2</td>\n",
       "      <td>2</td>\n",
       "    </tr>\n",
       "    <tr>\n",
       "      <th>540</th>\n",
       "      <td>970252</td>\n",
       "      <td>8</td>\n",
       "      <td>1</td>\n",
       "      <td>1</td>\n",
       "      <td>7</td>\n",
       "    </tr>\n",
       "    <tr>\n",
       "      <th>541</th>\n",
       "      <td>970254</td>\n",
       "      <td>12</td>\n",
       "      <td>2</td>\n",
       "      <td>3</td>\n",
       "      <td>9</td>\n",
       "    </tr>\n",
       "    <tr>\n",
       "      <th>542</th>\n",
       "      <td>972412</td>\n",
       "      <td>61</td>\n",
       "      <td>2</td>\n",
       "      <td>1</td>\n",
       "      <td>60</td>\n",
       "    </tr>\n",
       "    <tr>\n",
       "      <th>543</th>\n",
       "      <td>972460</td>\n",
       "      <td>70</td>\n",
       "      <td>3</td>\n",
       "      <td>2</td>\n",
       "      <td>68</td>\n",
       "    </tr>\n",
       "  </tbody>\n",
       "</table>\n",
       "<p>544 rows × 5 columns</p>\n",
       "</div>"
      ],
      "text/plain": [
       "     operator_id  llamadas_totales  llamadas_perdidas  llamadas_entrantes  \\\n",
       "0         879896              1131                 50                  60   \n",
       "1         879898              7973                101                 117   \n",
       "2         880020                54                  7                   8   \n",
       "3         880022               219                 33                   8   \n",
       "4         880026              2439                 94                  25   \n",
       "..           ...               ...                ...                 ...   \n",
       "539       970244                 4                  1                   2   \n",
       "540       970252                 8                  1                   1   \n",
       "541       970254                12                  2                   3   \n",
       "542       972412                61                  2                   1   \n",
       "543       972460                70                  3                   2   \n",
       "\n",
       "     llamadas_salientes  \n",
       "0                  1071  \n",
       "1                  7856  \n",
       "2                    46  \n",
       "3                   211  \n",
       "4                  2414  \n",
       "..                  ...  \n",
       "539                   2  \n",
       "540                   7  \n",
       "541                   9  \n",
       "542                  60  \n",
       "543                  68  \n",
       "\n",
       "[544 rows x 5 columns]"
      ]
     },
     "execution_count": 78,
     "metadata": {},
     "output_type": "execute_result"
    }
   ],
   "source": [
    "# Tabla con los datos para cada operador como su número de llamadas (salientes, entrantes, perdidas y totales)\n",
    "operator_data = data.groupby('operator_id').agg({'calls_count': 'sum', 'is_missed_call': 'sum'}).reset_index()\n",
    "\n",
    "# Tabla de llamadas entrantes y salientes\n",
    "operator_direction = data.groupby(['operator_id', 'direction'])['calls_count'].sum().reset_index()\n",
    "\n",
    "# Juntamos ambas tablas para crear una tabla unificada\n",
    "operator_data = operator_data.merge(operator_direction.query('direction == \"in\"')[['operator_id','calls_count']], on='operator_id')\n",
    "operator_data = operator_data.merge(operator_direction.query('direction == \"out\"')[['operator_id','calls_count']], on='operator_id')\n",
    "operator_data.rename(columns={\"calls_count_x\": \"llamadas_totales\", \"is_missed_call\": \"llamadas_perdidas\", \"calls_count_y\": \"llamadas_entrantes\", \"calls_count\": \"llamadas_salientes\"}, inplace=True)\n",
    "operator_data\n"
   ]
  },
  {
   "cell_type": "code",
   "execution_count": 79,
   "metadata": {},
   "outputs": [
    {
     "data": {
      "text/html": [
       "<div>\n",
       "<style scoped>\n",
       "    .dataframe tbody tr th:only-of-type {\n",
       "        vertical-align: middle;\n",
       "    }\n",
       "\n",
       "    .dataframe tbody tr th {\n",
       "        vertical-align: top;\n",
       "    }\n",
       "\n",
       "    .dataframe thead th {\n",
       "        text-align: right;\n",
       "    }\n",
       "</style>\n",
       "<table border=\"1\" class=\"dataframe\">\n",
       "  <thead>\n",
       "    <tr style=\"text-align: right;\">\n",
       "      <th></th>\n",
       "      <th>operator_id</th>\n",
       "      <th>llamadas_totales</th>\n",
       "      <th>llamadas_perdidas</th>\n",
       "      <th>llamadas_entrantes</th>\n",
       "      <th>llamadas_salientes</th>\n",
       "      <th>call_duration</th>\n",
       "      <th>call_wait</th>\n",
       "      <th>total_call_duration</th>\n",
       "    </tr>\n",
       "  </thead>\n",
       "  <tbody>\n",
       "    <tr>\n",
       "      <th>17</th>\n",
       "      <td>885876</td>\n",
       "      <td>66049</td>\n",
       "      <td>136</td>\n",
       "      <td>1152</td>\n",
       "      <td>64897</td>\n",
       "      <td>14620.520376</td>\n",
       "      <td>4816.266458</td>\n",
       "      <td>19436.786834</td>\n",
       "    </tr>\n",
       "    <tr>\n",
       "      <th>18</th>\n",
       "      <td>885890</td>\n",
       "      <td>66016</td>\n",
       "      <td>110</td>\n",
       "      <td>1363</td>\n",
       "      <td>64653</td>\n",
       "      <td>13238.725632</td>\n",
       "      <td>5727.155235</td>\n",
       "      <td>18965.880866</td>\n",
       "    </tr>\n",
       "    <tr>\n",
       "      <th>293</th>\n",
       "      <td>925922</td>\n",
       "      <td>22210</td>\n",
       "      <td>33</td>\n",
       "      <td>456</td>\n",
       "      <td>21754</td>\n",
       "      <td>11759.860759</td>\n",
       "      <td>5907.506329</td>\n",
       "      <td>17667.367089</td>\n",
       "    </tr>\n",
       "    <tr>\n",
       "      <th>1</th>\n",
       "      <td>879898</td>\n",
       "      <td>7973</td>\n",
       "      <td>101</td>\n",
       "      <td>117</td>\n",
       "      <td>7856</td>\n",
       "      <td>1115.500000</td>\n",
       "      <td>451.864000</td>\n",
       "      <td>1567.364000</td>\n",
       "    </tr>\n",
       "    <tr>\n",
       "      <th>61</th>\n",
       "      <td>893804</td>\n",
       "      <td>6570</td>\n",
       "      <td>130</td>\n",
       "      <td>2632</td>\n",
       "      <td>3938</td>\n",
       "      <td>944.858462</td>\n",
       "      <td>269.098462</td>\n",
       "      <td>1213.956923</td>\n",
       "    </tr>\n",
       "    <tr>\n",
       "      <th>...</th>\n",
       "      <td>...</td>\n",
       "      <td>...</td>\n",
       "      <td>...</td>\n",
       "      <td>...</td>\n",
       "      <td>...</td>\n",
       "      <td>...</td>\n",
       "      <td>...</td>\n",
       "      <td>...</td>\n",
       "    </tr>\n",
       "    <tr>\n",
       "      <th>456</th>\n",
       "      <td>946072</td>\n",
       "      <td>2</td>\n",
       "      <td>1</td>\n",
       "      <td>1</td>\n",
       "      <td>1</td>\n",
       "      <td>87.500000</td>\n",
       "      <td>3.500000</td>\n",
       "      <td>91.000000</td>\n",
       "    </tr>\n",
       "    <tr>\n",
       "      <th>538</th>\n",
       "      <td>970240</td>\n",
       "      <td>2</td>\n",
       "      <td>1</td>\n",
       "      <td>1</td>\n",
       "      <td>1</td>\n",
       "      <td>10.000000</td>\n",
       "      <td>26.500000</td>\n",
       "      <td>36.500000</td>\n",
       "    </tr>\n",
       "    <tr>\n",
       "      <th>235</th>\n",
       "      <td>918988</td>\n",
       "      <td>2</td>\n",
       "      <td>1</td>\n",
       "      <td>1</td>\n",
       "      <td>1</td>\n",
       "      <td>8.000000</td>\n",
       "      <td>6.500000</td>\n",
       "      <td>14.500000</td>\n",
       "    </tr>\n",
       "    <tr>\n",
       "      <th>494</th>\n",
       "      <td>954318</td>\n",
       "      <td>2</td>\n",
       "      <td>1</td>\n",
       "      <td>1</td>\n",
       "      <td>1</td>\n",
       "      <td>6.000000</td>\n",
       "      <td>5.000000</td>\n",
       "      <td>11.000000</td>\n",
       "    </tr>\n",
       "    <tr>\n",
       "      <th>119</th>\n",
       "      <td>902238</td>\n",
       "      <td>2</td>\n",
       "      <td>1</td>\n",
       "      <td>1</td>\n",
       "      <td>1</td>\n",
       "      <td>10.500000</td>\n",
       "      <td>6.500000</td>\n",
       "      <td>17.000000</td>\n",
       "    </tr>\n",
       "  </tbody>\n",
       "</table>\n",
       "<p>544 rows × 8 columns</p>\n",
       "</div>"
      ],
      "text/plain": [
       "     operator_id  llamadas_totales  llamadas_perdidas  llamadas_entrantes  \\\n",
       "17        885876             66049                136                1152   \n",
       "18        885890             66016                110                1363   \n",
       "293       925922             22210                 33                 456   \n",
       "1         879898              7973                101                 117   \n",
       "61        893804              6570                130                2632   \n",
       "..           ...               ...                ...                 ...   \n",
       "456       946072                 2                  1                   1   \n",
       "538       970240                 2                  1                   1   \n",
       "235       918988                 2                  1                   1   \n",
       "494       954318                 2                  1                   1   \n",
       "119       902238                 2                  1                   1   \n",
       "\n",
       "     llamadas_salientes  call_duration    call_wait  total_call_duration  \n",
       "17                64897   14620.520376  4816.266458         19436.786834  \n",
       "18                64653   13238.725632  5727.155235         18965.880866  \n",
       "293               21754   11759.860759  5907.506329         17667.367089  \n",
       "1                  7856    1115.500000   451.864000          1567.364000  \n",
       "61                 3938     944.858462   269.098462          1213.956923  \n",
       "..                  ...            ...          ...                  ...  \n",
       "456                   1      87.500000     3.500000            91.000000  \n",
       "538                   1      10.000000    26.500000            36.500000  \n",
       "235                   1       8.000000     6.500000            14.500000  \n",
       "494                   1       6.000000     5.000000            11.000000  \n",
       "119                   1      10.500000     6.500000            17.000000  \n",
       "\n",
       "[544 rows x 8 columns]"
      ]
     },
     "execution_count": 79,
     "metadata": {},
     "output_type": "execute_result"
    }
   ],
   "source": [
    "# Agregamos al dataset original el tiempo de espera\n",
    "data['call_wait'] = data.total_call_duration - data.call_duration\n",
    "\n",
    "# Tabla de duracion de llamadas y tiempo de espera promedio\n",
    "operator_time_data = data.groupby('operator_id').agg({'call_duration': 'mean', 'call_wait': 'mean', 'total_call_duration': 'mean'}).reset_index()\n",
    "\n",
    "# Unimos nuestras 2 tablas para hacer una tabla unificada\n",
    "operator_data = operator_data.merge(operator_time_data, on='operator_id').sort_values(by='llamadas_totales', ascending=False)\n",
    "operator_data\n"
   ]
  },
  {
   "cell_type": "markdown",
   "metadata": {},
   "source": [
    "Adicional a la tabla que creamos agrupada por usuarios, tambien podemos ver como ha sido la distribución de las llamadas entrantes y salientes"
   ]
  },
  {
   "cell_type": "code",
   "execution_count": 80,
   "metadata": {},
   "outputs": [
    {
     "ename": "NameError",
     "evalue": "name 'plt' is not defined",
     "output_type": "error",
     "traceback": [
      "\u001b[1;31m---------------------------------------------------------------------------\u001b[0m",
      "\u001b[1;31mNameError\u001b[0m                                 Traceback (most recent call last)",
      "Cell \u001b[1;32mIn[80], line 2\u001b[0m\n\u001b[0;32m      1\u001b[0m \u001b[38;5;66;03m# Graficamos la distribución de las llamadas entrantes y salientes\u001b[39;00m\n\u001b[1;32m----> 2\u001b[0m fig, (ax1, ax2) \u001b[38;5;241m=\u001b[39m \u001b[43mplt\u001b[49m\u001b[38;5;241m.\u001b[39msubplots(\u001b[38;5;241m1\u001b[39m, \u001b[38;5;241m2\u001b[39m, figsize\u001b[38;5;241m=\u001b[39m(\u001b[38;5;241m10\u001b[39m, \u001b[38;5;241m5\u001b[39m))\n\u001b[0;32m      3\u001b[0m ax1\u001b[38;5;241m.\u001b[39mhist(operator_data\u001b[38;5;241m.\u001b[39mllamadas_entrantes, bins\u001b[38;5;241m=\u001b[39m\u001b[38;5;241m5\u001b[39m)\n\u001b[0;32m      4\u001b[0m ax1\u001b[38;5;241m.\u001b[39mset_title(\u001b[38;5;124m'\u001b[39m\u001b[38;5;124mDistribución de llamadas entrantes\u001b[39m\u001b[38;5;124m'\u001b[39m)\n",
      "\u001b[1;31mNameError\u001b[0m: name 'plt' is not defined"
     ]
    }
   ],
   "source": [
    "# Graficamos la distribución de las llamadas entrantes y salientes\n",
    "fig, (ax1, ax2) = plt.subplots(1, 2, figsize=(10, 5))\n",
    "ax1.hist(operator_data.llamadas_entrantes, bins=5)\n",
    "ax1.set_title('Distribución de llamadas entrantes')\n",
    "ax1.set(xlabel='Número de llamadas entrantes', ylabel='Número de operadores')\n",
    "ax2.hist(operator_data.llamadas_salientes, bins=5)\n",
    "ax2.set_title('Distribución de llamadas salientes')\n",
    "ax2.set(xlabel='Número de llamadas salientes', ylabel='Número de operadores')"
   ]
  },
  {
   "cell_type": "markdown",
   "metadata": {},
   "source": [
    "Podemos ver que son pocos los operadores que tienen en total más de 1000 llamadas entrantes y más de 15,000 llamadas salientes comparados con los más de 500 operadores que tienen menos de estas llamadas entrantes y salientes.\n",
    "\n",
    "Por ultimo veamos como es la distribución del tiempo de llamada y del tiempo de espera\n"
   ]
  },
  {
   "cell_type": "code",
   "execution_count": 31,
   "metadata": {},
   "outputs": [
    {
     "data": {
      "text/plain": [
       "[Text(0.5, 0, 'Tiempo de espera'), Text(0, 0.5, 'Número de operadores')]"
      ]
     },
     "execution_count": 31,
     "metadata": {},
     "output_type": "execute_result"
    },
    {
     "data": {
      "image/png": "[encoded data removed]",
      "text/plain": [
       "<Figure size 1000x500 with 2 Axes>"
      ]
     },
     "metadata": {},
     "output_type": "display_data"
    }
   ],
   "source": [
    "# Graficamos la distribución del tiempo de llamada y del tiempo de espera\n",
    "fig, (ax1, ax2) = plt.subplots(1, 2, figsize=(10, 5))\n",
    "ax1.hist(operator_data.call_duration, bins=5)\n",
    "ax1.set_title('Distribución de tiempo de llamada')\n",
    "ax1.set(xlabel='Tiempo de llamada', ylabel='Número de operadores')\n",
    "ax2.hist(operator_data.call_wait, bins=5)\n",
    "ax2.set_title('Distribución de tiempo de espera')\n",
    "ax2.set(xlabel='Tiempo de espera', ylabel='Número de operadores')"
   ]
  },
  {
   "cell_type": "markdown",
   "metadata": {},
   "source": [
    "Podemos observar por las graficas que la mayoria de operadores tienen un tiempo de llamada promedio menor a los 2,500 segundos (40 minutos) y un tiempo de espera promedio menor a los 1200 segundos (20 minutos). Son pocos los operadores que tengan tiempos de llamada y espera mayores a esos."
   ]
  },
  {
   "cell_type": "markdown",
   "metadata": {},
   "source": [
    "# Comportamiento clientes"
   ]
  },
  {
   "cell_type": "code",
   "execution_count": 32,
   "metadata": {},
   "outputs": [
    {
     "name": "stdout",
     "output_type": "stream",
     "text": [
      "Tenemos un total de 732 clientes activos\n"
     ]
    }
   ],
   "source": [
    "# Numero de clientes con el servicio\n",
    "print('Tenemos un total de', data_clients.user_id.nunique(), 'clientes activos')"
   ]
  },
  {
   "cell_type": "code",
   "execution_count": 33,
   "metadata": {},
   "outputs": [
    {
     "data": {
      "text/html": [
       "<div>\n",
       "<style scoped>\n",
       "    .dataframe tbody tr th:only-of-type {\n",
       "        vertical-align: middle;\n",
       "    }\n",
       "\n",
       "    .dataframe tbody tr th {\n",
       "        vertical-align: top;\n",
       "    }\n",
       "\n",
       "    .dataframe thead th {\n",
       "        text-align: right;\n",
       "    }\n",
       "</style>\n",
       "<table border=\"1\" class=\"dataframe\">\n",
       "  <thead>\n",
       "    <tr style=\"text-align: right;\">\n",
       "      <th></th>\n",
       "      <th>tariff_plan</th>\n",
       "      <th>user_id</th>\n",
       "    </tr>\n",
       "  </thead>\n",
       "  <tbody>\n",
       "    <tr>\n",
       "      <th>0</th>\n",
       "      <td>A</td>\n",
       "      <td>76</td>\n",
       "    </tr>\n",
       "    <tr>\n",
       "      <th>1</th>\n",
       "      <td>B</td>\n",
       "      <td>261</td>\n",
       "    </tr>\n",
       "    <tr>\n",
       "      <th>2</th>\n",
       "      <td>C</td>\n",
       "      <td>395</td>\n",
       "    </tr>\n",
       "  </tbody>\n",
       "</table>\n",
       "</div>"
      ],
      "text/plain": [
       "  tariff_plan  user_id\n",
       "0           A       76\n",
       "1           B      261\n",
       "2           C      395"
      ]
     },
     "execution_count": 33,
     "metadata": {},
     "output_type": "execute_result"
    }
   ],
   "source": [
    "# Numero de clientes con los diferentes planes\n",
    "data_clients.groupby('tariff_plan')['user_id'].nunique().reset_index()"
   ]
  },
  {
   "cell_type": "code",
   "execution_count": 34,
   "metadata": {},
   "outputs": [
    {
     "data": {
      "text/html": [
       "<div>\n",
       "<style scoped>\n",
       "    .dataframe tbody tr th:only-of-type {\n",
       "        vertical-align: middle;\n",
       "    }\n",
       "\n",
       "    .dataframe tbody tr th {\n",
       "        vertical-align: top;\n",
       "    }\n",
       "\n",
       "    .dataframe thead th {\n",
       "        text-align: right;\n",
       "    }\n",
       "</style>\n",
       "<table border=\"1\" class=\"dataframe\">\n",
       "  <thead>\n",
       "    <tr style=\"text-align: right;\">\n",
       "      <th></th>\n",
       "      <th>user_id</th>\n",
       "      <th>llamadas_totales_cliente</th>\n",
       "      <th>fecha_final</th>\n",
       "      <th>tariff_plan</th>\n",
       "      <th>fecha_inicio</th>\n",
       "      <th>dias_antiguedad</th>\n",
       "    </tr>\n",
       "  </thead>\n",
       "  <tbody>\n",
       "    <tr>\n",
       "      <th>0</th>\n",
       "      <td>166582</td>\n",
       "      <td>154272</td>\n",
       "      <td>2019-11-28</td>\n",
       "      <td>A</td>\n",
       "      <td>2019-08-09</td>\n",
       "      <td>111 days</td>\n",
       "    </tr>\n",
       "    <tr>\n",
       "      <th>1</th>\n",
       "      <td>167626</td>\n",
       "      <td>77247</td>\n",
       "      <td>2019-10-20</td>\n",
       "      <td>A</td>\n",
       "      <td>2019-09-24</td>\n",
       "      <td>26 days</td>\n",
       "    </tr>\n",
       "    <tr>\n",
       "      <th>2</th>\n",
       "      <td>168361</td>\n",
       "      <td>71405</td>\n",
       "      <td>2019-11-28</td>\n",
       "      <td>A</td>\n",
       "      <td>2019-10-23</td>\n",
       "      <td>36 days</td>\n",
       "    </tr>\n",
       "    <tr>\n",
       "      <th>3</th>\n",
       "      <td>167827</td>\n",
       "      <td>42048</td>\n",
       "      <td>2019-11-28</td>\n",
       "      <td>C</td>\n",
       "      <td>2019-10-02</td>\n",
       "      <td>57 days</td>\n",
       "    </tr>\n",
       "    <tr>\n",
       "      <th>4</th>\n",
       "      <td>168062</td>\n",
       "      <td>26744</td>\n",
       "      <td>2019-11-28</td>\n",
       "      <td>A</td>\n",
       "      <td>2019-10-11</td>\n",
       "      <td>48 days</td>\n",
       "    </tr>\n",
       "    <tr>\n",
       "      <th>...</th>\n",
       "      <td>...</td>\n",
       "      <td>...</td>\n",
       "      <td>...</td>\n",
       "      <td>...</td>\n",
       "      <td>...</td>\n",
       "      <td>...</td>\n",
       "    </tr>\n",
       "    <tr>\n",
       "      <th>285</th>\n",
       "      <td>167364</td>\n",
       "      <td>1</td>\n",
       "      <td>2019-11-14</td>\n",
       "      <td>C</td>\n",
       "      <td>2019-09-13</td>\n",
       "      <td>62 days</td>\n",
       "    </tr>\n",
       "    <tr>\n",
       "      <th>286</th>\n",
       "      <td>166481</td>\n",
       "      <td>1</td>\n",
       "      <td>2019-08-09</td>\n",
       "      <td>A</td>\n",
       "      <td>2019-08-05</td>\n",
       "      <td>4 days</td>\n",
       "    </tr>\n",
       "    <tr>\n",
       "      <th>287</th>\n",
       "      <td>167139</td>\n",
       "      <td>1</td>\n",
       "      <td>2019-11-08</td>\n",
       "      <td>C</td>\n",
       "      <td>2019-09-03</td>\n",
       "      <td>66 days</td>\n",
       "    </tr>\n",
       "    <tr>\n",
       "      <th>288</th>\n",
       "      <td>166548</td>\n",
       "      <td>1</td>\n",
       "      <td>2019-11-09</td>\n",
       "      <td>B</td>\n",
       "      <td>2019-08-08</td>\n",
       "      <td>93 days</td>\n",
       "    </tr>\n",
       "    <tr>\n",
       "      <th>289</th>\n",
       "      <td>168366</td>\n",
       "      <td>1</td>\n",
       "      <td>2019-11-05</td>\n",
       "      <td>C</td>\n",
       "      <td>2019-10-23</td>\n",
       "      <td>13 days</td>\n",
       "    </tr>\n",
       "  </tbody>\n",
       "</table>\n",
       "<p>290 rows × 6 columns</p>\n",
       "</div>"
      ],
      "text/plain": [
       "     user_id  llamadas_totales_cliente fecha_final tariff_plan fecha_inicio  \\\n",
       "0     166582                    154272  2019-11-28           A   2019-08-09   \n",
       "1     167626                     77247  2019-10-20           A   2019-09-24   \n",
       "2     168361                     71405  2019-11-28           A   2019-10-23   \n",
       "3     167827                     42048  2019-11-28           C   2019-10-02   \n",
       "4     168062                     26744  2019-11-28           A   2019-10-11   \n",
       "..       ...                       ...         ...         ...          ...   \n",
       "285   167364                         1  2019-11-14           C   2019-09-13   \n",
       "286   166481                         1  2019-08-09           A   2019-08-05   \n",
       "287   167139                         1  2019-11-08           C   2019-09-03   \n",
       "288   166548                         1  2019-11-09           B   2019-08-08   \n",
       "289   168366                         1  2019-11-05           C   2019-10-23   \n",
       "\n",
       "    dias_antiguedad  \n",
       "0          111 days  \n",
       "1           26 days  \n",
       "2           36 days  \n",
       "3           57 days  \n",
       "4           48 days  \n",
       "..              ...  \n",
       "285         62 days  \n",
       "286          4 days  \n",
       "287         66 days  \n",
       "288         93 days  \n",
       "289         13 days  \n",
       "\n",
       "[290 rows x 6 columns]"
      ]
     },
     "execution_count": 34,
     "metadata": {},
     "output_type": "execute_result"
    }
   ],
   "source": [
    "# Creamos la tabla con las llamadas realizadas por el usuario o hacia el usuario y su fecha ultima de llamada\n",
    "clients_data_calls = data.query('internal == False').groupby('user_id').agg({'calls_count': 'sum', 'date': 'max'}).sort_values(by='calls_count', ascending=False).reset_index()\n",
    "\n",
    "# Creamos una tabla unica con el plan tarifario y la fecha de inicio\n",
    "clients_data_calls = clients_data_calls.merge(data_clients, on='user_id')\n",
    "\n",
    "# Renombramos columnas\n",
    "clients_data_calls.rename(columns={'calls_count': 'llamadas_totales_cliente', 'date': 'fecha_final', 'date_start' : 'fecha_inicio'}, inplace=True)\n",
    "\n",
    "# Creamos la columna de dia de antiguedad\n",
    "clients_data_calls['dias_antiguedad'] = clients_data_calls.fecha_final - clients_data_calls.fecha_inicio\n",
    "clients_data_calls"
   ]
  },
  {
   "cell_type": "markdown",
   "metadata": {},
   "source": [
    "# Conclusiones intermedias\n",
    "\n",
    "- Tenemos un total de 1,092 operadores para un total de 732 clientes\n",
    "- De estos 732 clientes, 395 están con el plan C, 261 con el plan B y solo 76 con el plan A\n",
    "- El cliente que mayor número de llamadas tiene tiene 111 dias de antiguiedad, es del plan A y ha realizado 154,272 llamadas\n",
    "- El operador que mayor número de llamadas tiene es el 885,876 y tiene un total de 66,049 llamadas de las cuales solo ha perdido 135\n",
    "- Los tiempos promedio en llamada y en tiempo de espera de la mayoria de operadores no sobrepasa los 40 y 20 minutos, respectivamente\n",
    "- La mayoria de operadores tiene en total menos de 1000 llamadas entrantes y menos de 15,000 llamadas salientes. Viendo tambien que la proporción de llamadas realizadas es muchisimo mayor a las recibidas"
   ]
  },
  {
   "cell_type": "markdown",
   "metadata": {},
   "source": [
    "# Análisis\n",
    "Para esta fase, se deben realizar los siguientes pasos:\n",
    "\n",
    "- Analiza e identifica a minimo los 90 operadores que menos eficacia tienen respecto al resto.\n",
    "- Analiza e identifica a minimo los 90 operadores que más eficacia tienen respecto al resto"
   ]
  },
  {
   "cell_type": "markdown",
   "metadata": {},
   "source": [
    "# Top 5 operadores con mayor eficacia\n",
    "\n",
    "Son los operadores con menor cantidad de llamadas perdidas y un tiempo pequeño de tiempo de espera para las llamadas entrantes. Aunado a esto, son los que mayor número de llamadas salientes tengan"
   ]
  },
  {
   "cell_type": "code",
   "execution_count": 35,
   "metadata": {},
   "outputs": [
    {
     "data": {
      "text/html": [
       "<div>\n",
       "<style scoped>\n",
       "    .dataframe tbody tr th:only-of-type {\n",
       "        vertical-align: middle;\n",
       "    }\n",
       "\n",
       "    .dataframe tbody tr th {\n",
       "        vertical-align: top;\n",
       "    }\n",
       "\n",
       "    .dataframe thead th {\n",
       "        text-align: right;\n",
       "    }\n",
       "</style>\n",
       "<table border=\"1\" class=\"dataframe\">\n",
       "  <thead>\n",
       "    <tr style=\"text-align: right;\">\n",
       "      <th></th>\n",
       "      <th>operator_id</th>\n",
       "      <th>llamadas_totales</th>\n",
       "      <th>llamadas_perdidas</th>\n",
       "      <th>llamadas_entrantes</th>\n",
       "      <th>llamadas_salientes</th>\n",
       "      <th>call_duration</th>\n",
       "      <th>call_wait</th>\n",
       "      <th>total_call_duration</th>\n",
       "      <th>% llamadas perdidas</th>\n",
       "      <th>% llamadas salientes</th>\n",
       "      <th>% tiempo de espera</th>\n",
       "    </tr>\n",
       "  </thead>\n",
       "  <tbody>\n",
       "    <tr>\n",
       "      <th>17</th>\n",
       "      <td>885876</td>\n",
       "      <td>66049</td>\n",
       "      <td>136</td>\n",
       "      <td>1152</td>\n",
       "      <td>64897</td>\n",
       "      <td>14620.520376</td>\n",
       "      <td>4816.266458</td>\n",
       "      <td>19436.786834</td>\n",
       "      <td>0.205908</td>\n",
       "      <td>98.255840</td>\n",
       "      <td>24.779129</td>\n",
       "    </tr>\n",
       "    <tr>\n",
       "      <th>18</th>\n",
       "      <td>885890</td>\n",
       "      <td>66016</td>\n",
       "      <td>110</td>\n",
       "      <td>1363</td>\n",
       "      <td>64653</td>\n",
       "      <td>13238.725632</td>\n",
       "      <td>5727.155235</td>\n",
       "      <td>18965.880866</td>\n",
       "      <td>0.166626</td>\n",
       "      <td>97.935349</td>\n",
       "      <td>30.197149</td>\n",
       "    </tr>\n",
       "    <tr>\n",
       "      <th>293</th>\n",
       "      <td>925922</td>\n",
       "      <td>22210</td>\n",
       "      <td>33</td>\n",
       "      <td>456</td>\n",
       "      <td>21754</td>\n",
       "      <td>11759.860759</td>\n",
       "      <td>5907.506329</td>\n",
       "      <td>17667.367089</td>\n",
       "      <td>0.148582</td>\n",
       "      <td>97.946871</td>\n",
       "      <td>33.437389</td>\n",
       "    </tr>\n",
       "    <tr>\n",
       "      <th>1</th>\n",
       "      <td>879898</td>\n",
       "      <td>7973</td>\n",
       "      <td>101</td>\n",
       "      <td>117</td>\n",
       "      <td>7856</td>\n",
       "      <td>1115.500000</td>\n",
       "      <td>451.864000</td>\n",
       "      <td>1567.364000</td>\n",
       "      <td>1.266775</td>\n",
       "      <td>98.532547</td>\n",
       "      <td>28.829551</td>\n",
       "    </tr>\n",
       "    <tr>\n",
       "      <th>61</th>\n",
       "      <td>893804</td>\n",
       "      <td>6570</td>\n",
       "      <td>130</td>\n",
       "      <td>2632</td>\n",
       "      <td>3938</td>\n",
       "      <td>944.858462</td>\n",
       "      <td>269.098462</td>\n",
       "      <td>1213.956923</td>\n",
       "      <td>1.978691</td>\n",
       "      <td>59.939117</td>\n",
       "      <td>22.167052</td>\n",
       "    </tr>\n",
       "  </tbody>\n",
       "</table>\n",
       "</div>"
      ],
      "text/plain": [
       "     operator_id  llamadas_totales  llamadas_perdidas  llamadas_entrantes  \\\n",
       "17        885876             66049                136                1152   \n",
       "18        885890             66016                110                1363   \n",
       "293       925922             22210                 33                 456   \n",
       "1         879898              7973                101                 117   \n",
       "61        893804              6570                130                2632   \n",
       "\n",
       "     llamadas_salientes  call_duration    call_wait  total_call_duration  \\\n",
       "17                64897   14620.520376  4816.266458         19436.786834   \n",
       "18                64653   13238.725632  5727.155235         18965.880866   \n",
       "293               21754   11759.860759  5907.506329         17667.367089   \n",
       "1                  7856    1115.500000   451.864000          1567.364000   \n",
       "61                 3938     944.858462   269.098462          1213.956923   \n",
       "\n",
       "     % llamadas perdidas  % llamadas salientes  % tiempo de espera  \n",
       "17              0.205908             98.255840           24.779129  \n",
       "18              0.166626             97.935349           30.197149  \n",
       "293             0.148582             97.946871           33.437389  \n",
       "1               1.266775             98.532547           28.829551  \n",
       "61              1.978691             59.939117           22.167052  "
      ]
     },
     "execution_count": 35,
     "metadata": {},
     "output_type": "execute_result"
    }
   ],
   "source": [
    "operator_data['% llamadas perdidas'] = (operator_data['llamadas_perdidas'] / operator_data['llamadas_totales']) * 100\n",
    "operator_data['% llamadas salientes'] = (operator_data['llamadas_salientes'] / operator_data['llamadas_totales']) * 100\n",
    "operator_data['% tiempo de espera'] = (operator_data['call_wait'] / operator_data['total_call_duration']) * 100\n",
    "operator_data.head()"
   ]
  },
  {
   "cell_type": "code",
   "execution_count": 36,
   "metadata": {},
   "outputs": [],
   "source": [
    "# Operadores con menor cantidad de llamadas perdidas\n",
    "top_menos_perdidas = operator_data.query('llamadas_totales > 200').sort_values(by='% llamadas perdidas').head(200)\n",
    "\n",
    "# Operadores con menor cantidad de llamadas perdidas\n",
    "top_menos_espera = operator_data.query('llamadas_totales > 200').sort_values(by='% tiempo de espera').head(200)\n",
    "\n",
    "# Operadores con mayor cantidad de llamadas salientes\n",
    "top_mas_salientes = operator_data.query('llamadas_totales > 200').sort_values(by='% llamadas salientes', ascending=False).head(200)"
   ]
  },
  {
   "cell_type": "code",
   "execution_count": 37,
   "metadata": {},
   "outputs": [
    {
     "data": {
      "text/html": [
       "<div>\n",
       "<style scoped>\n",
       "    .dataframe tbody tr th:only-of-type {\n",
       "        vertical-align: middle;\n",
       "    }\n",
       "\n",
       "    .dataframe tbody tr th {\n",
       "        vertical-align: top;\n",
       "    }\n",
       "\n",
       "    .dataframe thead th {\n",
       "        text-align: right;\n",
       "    }\n",
       "</style>\n",
       "<table border=\"1\" class=\"dataframe\">\n",
       "  <thead>\n",
       "    <tr style=\"text-align: right;\">\n",
       "      <th></th>\n",
       "      <th>operator_id</th>\n",
       "      <th>llamadas_totales</th>\n",
       "      <th>llamadas_perdidas</th>\n",
       "      <th>llamadas_entrantes</th>\n",
       "      <th>llamadas_salientes</th>\n",
       "      <th>call_duration</th>\n",
       "      <th>call_wait</th>\n",
       "      <th>total_call_duration</th>\n",
       "      <th>% llamadas perdidas</th>\n",
       "      <th>% llamadas salientes</th>\n",
       "      <th>% tiempo de espera</th>\n",
       "    </tr>\n",
       "  </thead>\n",
       "  <tbody>\n",
       "    <tr>\n",
       "      <th>0</th>\n",
       "      <td>905842</td>\n",
       "      <td>1253</td>\n",
       "      <td>70</td>\n",
       "      <td>2</td>\n",
       "      <td>1251</td>\n",
       "      <td>659.176471</td>\n",
       "      <td>133.889706</td>\n",
       "      <td>793.066176</td>\n",
       "      <td>5.586592</td>\n",
       "      <td>99.840383</td>\n",
       "      <td>16.882539</td>\n",
       "    </tr>\n",
       "    <tr>\n",
       "      <th>1</th>\n",
       "      <td>907986</td>\n",
       "      <td>502</td>\n",
       "      <td>28</td>\n",
       "      <td>1</td>\n",
       "      <td>501</td>\n",
       "      <td>180.450000</td>\n",
       "      <td>30.275000</td>\n",
       "      <td>210.725000</td>\n",
       "      <td>5.577689</td>\n",
       "      <td>99.800797</td>\n",
       "      <td>14.367066</td>\n",
       "    </tr>\n",
       "    <tr>\n",
       "      <th>2</th>\n",
       "      <td>936382</td>\n",
       "      <td>485</td>\n",
       "      <td>21</td>\n",
       "      <td>1</td>\n",
       "      <td>484</td>\n",
       "      <td>608.934783</td>\n",
       "      <td>180.391304</td>\n",
       "      <td>789.326087</td>\n",
       "      <td>4.329897</td>\n",
       "      <td>99.793814</td>\n",
       "      <td>22.853838</td>\n",
       "    </tr>\n",
       "    <tr>\n",
       "      <th>3</th>\n",
       "      <td>917234</td>\n",
       "      <td>1225</td>\n",
       "      <td>31</td>\n",
       "      <td>5</td>\n",
       "      <td>1220</td>\n",
       "      <td>1093.703125</td>\n",
       "      <td>327.031250</td>\n",
       "      <td>1420.734375</td>\n",
       "      <td>2.530612</td>\n",
       "      <td>99.591837</td>\n",
       "      <td>23.018465</td>\n",
       "    </tr>\n",
       "    <tr>\n",
       "      <th>4</th>\n",
       "      <td>894656</td>\n",
       "      <td>3416</td>\n",
       "      <td>72</td>\n",
       "      <td>20</td>\n",
       "      <td>3396</td>\n",
       "      <td>844.117284</td>\n",
       "      <td>204.746914</td>\n",
       "      <td>1048.864198</td>\n",
       "      <td>2.107728</td>\n",
       "      <td>99.414520</td>\n",
       "      <td>19.520822</td>\n",
       "    </tr>\n",
       "    <tr>\n",
       "      <th>...</th>\n",
       "      <td>...</td>\n",
       "      <td>...</td>\n",
       "      <td>...</td>\n",
       "      <td>...</td>\n",
       "      <td>...</td>\n",
       "      <td>...</td>\n",
       "      <td>...</td>\n",
       "      <td>...</td>\n",
       "      <td>...</td>\n",
       "      <td>...</td>\n",
       "      <td>...</td>\n",
       "    </tr>\n",
       "    <tr>\n",
       "      <th>89</th>\n",
       "      <td>920852</td>\n",
       "      <td>505</td>\n",
       "      <td>32</td>\n",
       "      <td>197</td>\n",
       "      <td>308</td>\n",
       "      <td>342.592593</td>\n",
       "      <td>57.750000</td>\n",
       "      <td>400.342593</td>\n",
       "      <td>6.336634</td>\n",
       "      <td>60.990099</td>\n",
       "      <td>14.425145</td>\n",
       "    </tr>\n",
       "    <tr>\n",
       "      <th>90</th>\n",
       "      <td>893804</td>\n",
       "      <td>6570</td>\n",
       "      <td>130</td>\n",
       "      <td>2632</td>\n",
       "      <td>3938</td>\n",
       "      <td>944.858462</td>\n",
       "      <td>269.098462</td>\n",
       "      <td>1213.956923</td>\n",
       "      <td>1.978691</td>\n",
       "      <td>59.939117</td>\n",
       "      <td>22.167052</td>\n",
       "    </tr>\n",
       "    <tr>\n",
       "      <th>91</th>\n",
       "      <td>920666</td>\n",
       "      <td>509</td>\n",
       "      <td>26</td>\n",
       "      <td>204</td>\n",
       "      <td>305</td>\n",
       "      <td>618.156522</td>\n",
       "      <td>53.652174</td>\n",
       "      <td>671.808696</td>\n",
       "      <td>5.108055</td>\n",
       "      <td>59.921415</td>\n",
       "      <td>7.986228</td>\n",
       "    </tr>\n",
       "    <tr>\n",
       "      <th>92</th>\n",
       "      <td>925104</td>\n",
       "      <td>2286</td>\n",
       "      <td>64</td>\n",
       "      <td>919</td>\n",
       "      <td>1367</td>\n",
       "      <td>686.301075</td>\n",
       "      <td>171.645161</td>\n",
       "      <td>857.946237</td>\n",
       "      <td>2.799650</td>\n",
       "      <td>59.798775</td>\n",
       "      <td>20.006517</td>\n",
       "    </tr>\n",
       "    <tr>\n",
       "      <th>93</th>\n",
       "      <td>920732</td>\n",
       "      <td>295</td>\n",
       "      <td>19</td>\n",
       "      <td>120</td>\n",
       "      <td>175</td>\n",
       "      <td>477.185714</td>\n",
       "      <td>68.942857</td>\n",
       "      <td>546.128571</td>\n",
       "      <td>6.440678</td>\n",
       "      <td>59.322034</td>\n",
       "      <td>12.623924</td>\n",
       "    </tr>\n",
       "  </tbody>\n",
       "</table>\n",
       "<p>94 rows × 11 columns</p>\n",
       "</div>"
      ],
      "text/plain": [
       "    operator_id  llamadas_totales  llamadas_perdidas  llamadas_entrantes  \\\n",
       "0        905842              1253                 70                   2   \n",
       "1        907986               502                 28                   1   \n",
       "2        936382               485                 21                   1   \n",
       "3        917234              1225                 31                   5   \n",
       "4        894656              3416                 72                  20   \n",
       "..          ...               ...                ...                 ...   \n",
       "89       920852               505                 32                 197   \n",
       "90       893804              6570                130                2632   \n",
       "91       920666               509                 26                 204   \n",
       "92       925104              2286                 64                 919   \n",
       "93       920732               295                 19                 120   \n",
       "\n",
       "    llamadas_salientes  call_duration   call_wait  total_call_duration  \\\n",
       "0                 1251     659.176471  133.889706           793.066176   \n",
       "1                  501     180.450000   30.275000           210.725000   \n",
       "2                  484     608.934783  180.391304           789.326087   \n",
       "3                 1220    1093.703125  327.031250          1420.734375   \n",
       "4                 3396     844.117284  204.746914          1048.864198   \n",
       "..                 ...            ...         ...                  ...   \n",
       "89                 308     342.592593   57.750000           400.342593   \n",
       "90                3938     944.858462  269.098462          1213.956923   \n",
       "91                 305     618.156522   53.652174           671.808696   \n",
       "92                1367     686.301075  171.645161           857.946237   \n",
       "93                 175     477.185714   68.942857           546.128571   \n",
       "\n",
       "    % llamadas perdidas  % llamadas salientes  % tiempo de espera  \n",
       "0              5.586592             99.840383           16.882539  \n",
       "1              5.577689             99.800797           14.367066  \n",
       "2              4.329897             99.793814           22.853838  \n",
       "3              2.530612             99.591837           23.018465  \n",
       "4              2.107728             99.414520           19.520822  \n",
       "..                  ...                   ...                 ...  \n",
       "89             6.336634             60.990099           14.425145  \n",
       "90             1.978691             59.939117           22.167052  \n",
       "91             5.108055             59.921415            7.986228  \n",
       "92             2.799650             59.798775           20.006517  \n",
       "93             6.440678             59.322034           12.623924  \n",
       "\n",
       "[94 rows x 11 columns]"
      ]
     },
     "execution_count": 37,
     "metadata": {},
     "output_type": "execute_result"
    }
   ],
   "source": [
    "# Unimos los top 200 de cada tabla para ver coincidencias\n",
    "top_menos_perdidas_mas_salientes = pd.merge(top_mas_salientes, top_menos_perdidas, on='operator_id')['operator_id']\n",
    "top_unificado = pd.merge(top_menos_perdidas_mas_salientes, top_menos_espera, on='operator_id')\n",
    "top_unificado"
   ]
  },
  {
   "cell_type": "markdown",
   "metadata": {},
   "source": [
    "# Top 5 operadores con menor eficacia\n",
    "Son los operadores con mayor cantidad de llamadas perdidas y un tiempo prolongado de tiempo de espera para las llamadas entrantes. Adicional a esto, son los que menor número de llamadas salientes tienen."
   ]
  },
  {
   "cell_type": "code",
   "execution_count": 38,
   "metadata": {},
   "outputs": [],
   "source": [
    "# Operadores con mayor cantidad de llamadas perdidas\n",
    "top_mayor_perdidas = operator_data.query('llamadas_totales > 200').sort_values(by='% llamadas perdidas', ascending=False).head(200)\n",
    "\n",
    "# Operadores con mayor cantidad de llamadas perdidas\n",
    "top_mayor_espera = operator_data.query('llamadas_totales > 200').sort_values(by='% tiempo de espera', ascending=False).head(200)\n",
    "\n",
    "# Operadores con menor cantidad de llamadas salientes\n",
    "top_menos_salientes = operator_data.query('llamadas_totales > 200').sort_values(by='% llamadas salientes', ascending=True).head(200)"
   ]
  },
  {
   "cell_type": "code",
   "execution_count": 39,
   "metadata": {},
   "outputs": [
    {
     "data": {
      "text/html": [
       "<div>\n",
       "<style scoped>\n",
       "    .dataframe tbody tr th:only-of-type {\n",
       "        vertical-align: middle;\n",
       "    }\n",
       "\n",
       "    .dataframe tbody tr th {\n",
       "        vertical-align: top;\n",
       "    }\n",
       "\n",
       "    .dataframe thead th {\n",
       "        text-align: right;\n",
       "    }\n",
       "</style>\n",
       "<table border=\"1\" class=\"dataframe\">\n",
       "  <thead>\n",
       "    <tr style=\"text-align: right;\">\n",
       "      <th></th>\n",
       "      <th>operator_id</th>\n",
       "      <th>llamadas_totales</th>\n",
       "      <th>llamadas_perdidas</th>\n",
       "      <th>llamadas_entrantes</th>\n",
       "      <th>llamadas_salientes</th>\n",
       "      <th>call_duration</th>\n",
       "      <th>call_wait</th>\n",
       "      <th>total_call_duration</th>\n",
       "      <th>% llamadas perdidas</th>\n",
       "      <th>% llamadas salientes</th>\n",
       "      <th>% tiempo de espera</th>\n",
       "    </tr>\n",
       "  </thead>\n",
       "  <tbody>\n",
       "    <tr>\n",
       "      <th>0</th>\n",
       "      <td>909134</td>\n",
       "      <td>221</td>\n",
       "      <td>7</td>\n",
       "      <td>215</td>\n",
       "      <td>6</td>\n",
       "      <td>427.315789</td>\n",
       "      <td>100.644737</td>\n",
       "      <td>527.960526</td>\n",
       "      <td>3.167421</td>\n",
       "      <td>2.714932</td>\n",
       "      <td>19.062928</td>\n",
       "    </tr>\n",
       "    <tr>\n",
       "      <th>1</th>\n",
       "      <td>908958</td>\n",
       "      <td>1140</td>\n",
       "      <td>34</td>\n",
       "      <td>1008</td>\n",
       "      <td>132</td>\n",
       "      <td>752.548387</td>\n",
       "      <td>187.193548</td>\n",
       "      <td>939.741935</td>\n",
       "      <td>2.982456</td>\n",
       "      <td>11.578947</td>\n",
       "      <td>19.919676</td>\n",
       "    </tr>\n",
       "    <tr>\n",
       "      <th>2</th>\n",
       "      <td>893402</td>\n",
       "      <td>423</td>\n",
       "      <td>20</td>\n",
       "      <td>367</td>\n",
       "      <td>56</td>\n",
       "      <td>272.453125</td>\n",
       "      <td>54.929688</td>\n",
       "      <td>327.382812</td>\n",
       "      <td>4.728132</td>\n",
       "      <td>13.238771</td>\n",
       "      <td>16.778427</td>\n",
       "    </tr>\n",
       "    <tr>\n",
       "      <th>3</th>\n",
       "      <td>908960</td>\n",
       "      <td>871</td>\n",
       "      <td>29</td>\n",
       "      <td>755</td>\n",
       "      <td>116</td>\n",
       "      <td>460.384615</td>\n",
       "      <td>111.585799</td>\n",
       "      <td>571.970414</td>\n",
       "      <td>3.329506</td>\n",
       "      <td>13.318025</td>\n",
       "      <td>19.509016</td>\n",
       "    </tr>\n",
       "    <tr>\n",
       "      <th>4</th>\n",
       "      <td>893420</td>\n",
       "      <td>245</td>\n",
       "      <td>15</td>\n",
       "      <td>209</td>\n",
       "      <td>36</td>\n",
       "      <td>250.126582</td>\n",
       "      <td>64.379747</td>\n",
       "      <td>314.506329</td>\n",
       "      <td>6.122449</td>\n",
       "      <td>14.693878</td>\n",
       "      <td>20.470096</td>\n",
       "    </tr>\n",
       "    <tr>\n",
       "      <th>...</th>\n",
       "      <td>...</td>\n",
       "      <td>...</td>\n",
       "      <td>...</td>\n",
       "      <td>...</td>\n",
       "      <td>...</td>\n",
       "      <td>...</td>\n",
       "      <td>...</td>\n",
       "      <td>...</td>\n",
       "      <td>...</td>\n",
       "      <td>...</td>\n",
       "      <td>...</td>\n",
       "    </tr>\n",
       "    <tr>\n",
       "      <th>104</th>\n",
       "      <td>968338</td>\n",
       "      <td>275</td>\n",
       "      <td>7</td>\n",
       "      <td>16</td>\n",
       "      <td>259</td>\n",
       "      <td>686.409091</td>\n",
       "      <td>226.727273</td>\n",
       "      <td>913.136364</td>\n",
       "      <td>2.545455</td>\n",
       "      <td>94.181818</td>\n",
       "      <td>24.829509</td>\n",
       "    </tr>\n",
       "    <tr>\n",
       "      <th>105</th>\n",
       "      <td>905542</td>\n",
       "      <td>2302</td>\n",
       "      <td>83</td>\n",
       "      <td>129</td>\n",
       "      <td>2173</td>\n",
       "      <td>595.378261</td>\n",
       "      <td>134.786957</td>\n",
       "      <td>730.165217</td>\n",
       "      <td>3.605560</td>\n",
       "      <td>94.396177</td>\n",
       "      <td>18.459789</td>\n",
       "    </tr>\n",
       "    <tr>\n",
       "      <th>106</th>\n",
       "      <td>888532</td>\n",
       "      <td>218</td>\n",
       "      <td>29</td>\n",
       "      <td>12</td>\n",
       "      <td>206</td>\n",
       "      <td>116.586957</td>\n",
       "      <td>24.347826</td>\n",
       "      <td>140.934783</td>\n",
       "      <td>13.302752</td>\n",
       "      <td>94.495413</td>\n",
       "      <td>17.275952</td>\n",
       "    </tr>\n",
       "    <tr>\n",
       "      <th>107</th>\n",
       "      <td>938022</td>\n",
       "      <td>280</td>\n",
       "      <td>6</td>\n",
       "      <td>15</td>\n",
       "      <td>265</td>\n",
       "      <td>645.117647</td>\n",
       "      <td>316.294118</td>\n",
       "      <td>961.411765</td>\n",
       "      <td>2.142857</td>\n",
       "      <td>94.642857</td>\n",
       "      <td>32.898923</td>\n",
       "    </tr>\n",
       "    <tr>\n",
       "      <th>108</th>\n",
       "      <td>879896</td>\n",
       "      <td>1131</td>\n",
       "      <td>50</td>\n",
       "      <td>60</td>\n",
       "      <td>1071</td>\n",
       "      <td>650.476562</td>\n",
       "      <td>110.671875</td>\n",
       "      <td>761.148438</td>\n",
       "      <td>4.420866</td>\n",
       "      <td>94.694960</td>\n",
       "      <td>14.540117</td>\n",
       "    </tr>\n",
       "  </tbody>\n",
       "</table>\n",
       "<p>109 rows × 11 columns</p>\n",
       "</div>"
      ],
      "text/plain": [
       "     operator_id  llamadas_totales  llamadas_perdidas  llamadas_entrantes  \\\n",
       "0         909134               221                  7                 215   \n",
       "1         908958              1140                 34                1008   \n",
       "2         893402               423                 20                 367   \n",
       "3         908960               871                 29                 755   \n",
       "4         893420               245                 15                 209   \n",
       "..           ...               ...                ...                 ...   \n",
       "104       968338               275                  7                  16   \n",
       "105       905542              2302                 83                 129   \n",
       "106       888532               218                 29                  12   \n",
       "107       938022               280                  6                  15   \n",
       "108       879896              1131                 50                  60   \n",
       "\n",
       "     llamadas_salientes  call_duration   call_wait  total_call_duration  \\\n",
       "0                     6     427.315789  100.644737           527.960526   \n",
       "1                   132     752.548387  187.193548           939.741935   \n",
       "2                    56     272.453125   54.929688           327.382812   \n",
       "3                   116     460.384615  111.585799           571.970414   \n",
       "4                    36     250.126582   64.379747           314.506329   \n",
       "..                  ...            ...         ...                  ...   \n",
       "104                 259     686.409091  226.727273           913.136364   \n",
       "105                2173     595.378261  134.786957           730.165217   \n",
       "106                 206     116.586957   24.347826           140.934783   \n",
       "107                 265     645.117647  316.294118           961.411765   \n",
       "108                1071     650.476562  110.671875           761.148438   \n",
       "\n",
       "     % llamadas perdidas  % llamadas salientes  % tiempo de espera  \n",
       "0               3.167421              2.714932           19.062928  \n",
       "1               2.982456             11.578947           19.919676  \n",
       "2               4.728132             13.238771           16.778427  \n",
       "3               3.329506             13.318025           19.509016  \n",
       "4               6.122449             14.693878           20.470096  \n",
       "..                   ...                   ...                 ...  \n",
       "104             2.545455             94.181818           24.829509  \n",
       "105             3.605560             94.396177           18.459789  \n",
       "106            13.302752             94.495413           17.275952  \n",
       "107             2.142857             94.642857           32.898923  \n",
       "108             4.420866             94.694960           14.540117  \n",
       "\n",
       "[109 rows x 11 columns]"
      ]
     },
     "execution_count": 39,
     "metadata": {},
     "output_type": "execute_result"
    }
   ],
   "source": [
    "# Unimos los top 200 de cada tabla para ver coincidencias\n",
    "top_mayor_perdidas_mayor_salientes = pd.merge(top_menos_salientes, top_mayor_perdidas, on='operator_id')['operator_id']\n",
    "low_unificado = pd.merge(top_mayor_perdidas_mayor_salientes, top_mayor_espera, on='operator_id')\n",
    "low_unificado"
   ]
  },
  {
   "cell_type": "markdown",
   "metadata": {},
   "source": [
    "Con en este análisis tenemos nuestro top operadores con mayor y menor eficacia"
   ]
  },
  {
   "cell_type": "markdown",
   "metadata": {},
   "source": [
    "# Prueba las hipótesis\n",
    "\n",
    "Para esta fase realizaremos las siguientes pruebas:\n",
    "\n",
    "- Prueba que el porcentaje promedio de llamadas entrantes perdidas de los operadores identificados como menos eficaces y de los operadores identificados como más eficaces difiere.\n",
    "- Prueba que el porcentaje promedio de tiempo de espera de los operadores identificados como menos eficaces y de los operadores identificados como más eficaces difiere.\n",
    "- Prueba que el porcentaje promedio de llamadas salientes de los operadores identificados como menos eficaces y de los operadores identificados como más eficaces difiere."
   ]
  },
  {
   "cell_type": "markdown",
   "metadata": {},
   "source": [
    "# Prueba 1\n",
    "\n",
    "Para esta prueba, nuestra hipotesis nula es que \"el porcentaje promedio de llamadas entrantes perdidas de los operadores identificados como menos eficaces y de los operadores identificados como más eficaces son iguales\".\n",
    "\n",
    "Nuestra hipotesis alternativa es que \"el porcentaje promedio de llamadas entrantes perdidas de los operadores identificados como menos eficaces y de los operadores identificados como más eficaces difiere.\"\n",
    "\n",
    "Como prueba estadistica realizaremos la prueba de igualdad de las medias de dos poblaciones y nuestro indice de confianza sera del 95%"
   ]
  },
  {
   "cell_type": "code",
   "execution_count": 40,
   "metadata": {},
   "outputs": [
    {
     "name": "stdout",
     "output_type": "stream",
     "text": [
      "p-value:  0.0\n",
      "102.177\n",
      "Rechazamos la hipótesis nula: hay una diferencia significativa entre las proporciones\n"
     ]
    }
   ],
   "source": [
    "alpha = .05 # nivel de significación\n",
    "\n",
    "perdidas = np.array([top_unificado['llamadas_perdidas'].sum(), low_unificado['llamadas_perdidas'].sum()])\n",
    "totales = np.array([top_unificado['llamadas_totales'].sum(), low_unificado['llamadas_totales'].sum()])\n",
    "\n",
    "# proporción de éxito en el primer grupo:\n",
    "p1 = perdidas[0]/totales[0]\n",
    "\n",
    "# proporción de éxito en el segundo grupo:\n",
    "p2 = perdidas[1]/totales[1]\n",
    "\n",
    "# proporción de éxito en el dataset unido:\n",
    "p_combined = (perdidas[0] + perdidas[1]) / (totales[0] + totales[1])\n",
    "\n",
    "# la diferencia entre las proporciones de los datasets\n",
    "difference = p1 - p2\n",
    "\n",
    "# calcula la estadística en desviaciones estándar de la distribución normal estándar\n",
    "z_value = difference / mth.sqrt(p_combined * (1 - p_combined) * (1/totales[0] + 1/totales[1]))\n",
    "\n",
    "# establece la distribución normal estándar (media 0, desviación estándar 1)\n",
    "distr = st.norm(0, 1)\n",
    "\n",
    "p_value = (1 - distr.cdf(abs(z_value))) * 2\n",
    "\n",
    "print('p-value: ', p_value)\n",
    "print(\"{0:.3f}\".format(((p2 / p1) - 1) * 100))\n",
    "\n",
    "if (p_value < alpha):\n",
    "    print(\"Rechazamos la hipótesis nula: hay una diferencia significativa entre las proporciones\")\n",
    "else:\n",
    "    print(\"No podemos rechazar la hipótesis nula: no hay razón para pensar que las proporciones son diferentes\")"
   ]
  },
  {
   "cell_type": "markdown",
   "metadata": {},
   "source": [
    "Una vez realizado la prueba, podemos ver que nuestro valor p es inferior a nuestro nivel de confianza (95% = 0.05), esto nos indica que la hipotesis nula es rechazada y las medias de porcentaje de llamadas perdidas tienen diferencias significativas\n",
    "\n",
    "Con esta información y las observaciones anteriormente expuestas, podemos concluir que los operadores identificados son bastante menos eficaces que nuestro top identificado y podriamos enfocarnos en ellos para aumentar su rendimiento en este KPI"
   ]
  },
  {
   "cell_type": "markdown",
   "metadata": {},
   "source": [
    "# Prueba 2\n",
    "\n",
    "Para esta prueba, nuestra hipotesis nula es que \"el porcentaje de tiempo de espera promedio de los operadores identificados como menos eficaces y de los operadores identificados como más eficaces son iguales\".\n",
    "\n",
    "Nuestra hipotesis alternativa es que \"el porcentaje de tiempo de espera promedio de los operadores identificados como menos eficaces y de los operadores identificados como más eficaces difiere.\"\n",
    "\n",
    "Como prueba estadistica realizaremos la prueba de igualdad de las medias de dos poblaciones y nuestro indice de confianza sera del 95%"
   ]
  },
  {
   "cell_type": "code",
   "execution_count": 41,
   "metadata": {},
   "outputs": [
    {
     "name": "stdout",
     "output_type": "stream",
     "text": [
      "p-value:  0.0\n",
      "13.951\n",
      "Rechazamos la hipótesis nula: hay una diferencia significativa entre las proporciones\n"
     ]
    }
   ],
   "source": [
    "alpha = .05 # nivel de significación\n",
    "\n",
    "tiempo_espera = np.array([top_unificado['call_wait'].sum(), low_unificado['call_wait'].sum()])\n",
    "tiempo_total = np.array([top_unificado['total_call_duration'].sum(), low_unificado['total_call_duration'].sum()])\n",
    "\n",
    "# proporción de éxito en el primer grupo:\n",
    "p1 = tiempo_espera[0]/tiempo_total[0]\n",
    "\n",
    "# proporción de éxito en el segundo grupo:\n",
    "p2 = tiempo_espera[1]/tiempo_total[1]\n",
    "\n",
    "# proporción de éxito en el dataset unido:\n",
    "p_combined = (tiempo_espera[0] + tiempo_espera[1]) / (tiempo_total[0] + tiempo_total[1])\n",
    "\n",
    "# la diferencia entre las proporciones de los datasets\n",
    "difference = p1 - p2\n",
    "\n",
    "# calcula la estadística en desviaciones estándar de la distribución normal estándar\n",
    "z_value = difference / mth.sqrt(p_combined * (1 - p_combined) * (1/tiempo_total[0] + 1/tiempo_total[1]))\n",
    "\n",
    "# establece la distribución normal estándar (media 0, desviación estándar 1)\n",
    "distr = st.norm(0, 1)\n",
    "\n",
    "p_value = (1 - distr.cdf(abs(z_value))) * 2\n",
    "\n",
    "print('p-value: ', p_value)\n",
    "print(\"{0:.3f}\".format(((p2 / p1) - 1) * 100))\n",
    "\n",
    "if (p_value < alpha):\n",
    "    print(\"Rechazamos la hipótesis nula: hay una diferencia significativa entre las proporciones\")\n",
    "else:\n",
    "    print(\"No podemos rechazar la hipótesis nula: no hay razón para pensar que las proporciones son diferentes\")"
   ]
  },
  {
   "cell_type": "markdown",
   "metadata": {},
   "source": [
    "Una vez realizada la prueba, podemos ver que nuestro valor p es inferior a nuestro nivel de confianza (95% = 0.05), esto nos indica que la hipotesis nula es rechazada y las medias de porcentaje de tiempo de espera tienen diferencias significativas\n",
    "\n",
    "Con esta información y las observaciones anteriormente expuestas, podemos concluir que los operadores identificados son bastante menos eficaces que nuestro top identificado y podriamos enfocarnos en ellos para aumentar su rendimiento en este KPI"
   ]
  },
  {
   "cell_type": "markdown",
   "metadata": {},
   "source": [
    "# Prueba 3\n",
    "\n",
    "Para esta prueba, nuestra hipotesis nula es que \"el porcentaje promedio de llamadas salientes de los operadores identificados como menos eficaces y de los operadores identificados como más eficaces son iguales\".\n",
    "\n",
    "Nuestra hipotesis alternativa es que \"el porcentaje promedio de llamadas salientes de los operadores identificados como menos eficaces y de los operadores identificados como más eficaces difiere.\"\n",
    "\n",
    "Como prueba estadistica realizaremos la prueba de igualdad de las medias de dos poblaciones y nuestro indice de confianza sera del 95%"
   ]
  },
  {
   "cell_type": "code",
   "execution_count": 42,
   "metadata": {},
   "outputs": [
    {
     "name": "stdout",
     "output_type": "stream",
     "text": [
      "p-value: 0.0\n",
      "-17.793\n",
      "Rechazamos la hipótesis nula: hay una diferencia significativa entre las proporciones\n"
     ]
    }
   ],
   "source": [
    "alpha = .05 # nivel de significación\n",
    "\n",
    "salientes = np.array([top_unificado['llamadas_salientes'].sum(), low_unificado['llamadas_salientes'].sum()])\n",
    "totales = np.array([top_unificado['llamadas_totales'].sum(), low_unificado['llamadas_totales'].sum()])\n",
    "\n",
    "# proporción de éxito en el primer grupo:\n",
    "p1 = salientes[0]/totales[0]\n",
    "\n",
    "# proporción de éxito en el segundo grupo:\n",
    "p2 = salientes[1]/totales[1]\n",
    "\n",
    "# proporción de éxito en el dataset unido:\n",
    "p_combined = (salientes[0] + salientes[1]) / (totales[0] + totales[1])\n",
    "\n",
    "# la diferencia entre las proporciones de los datasets\n",
    "difference = p1 - p2\n",
    "\n",
    "# calcula la estadística en desviaciones estándar de la distribución normal estándar\n",
    "z_value = difference / mth.sqrt(p_combined * (1 - p_combined) * (1/totales[0] + 1/totales[1]))\n",
    "\n",
    "# establece la distribución normal estándar (media 0, desviación estándar 1)\n",
    "distr = st.norm(0, 1)\n",
    "\n",
    "p_value = (1 - distr.cdf(abs(z_value))) * 2\n",
    "\n",
    "print('p-value:', p_value)\n",
    "print(\"{0:.3f}\".format(((p2 / p1) - 1) * 100))\n",
    "\n",
    "if (p_value < alpha):\n",
    "    print(\"Rechazamos la hipótesis nula: hay una diferencia significativa entre las proporciones\")\n",
    "else:\n",
    "    print(\"No podemos rechazar la hipótesis nula: no hay razón para pensar que las proporciones son diferentes\")"
   ]
  },
  {
   "cell_type": "markdown",
   "metadata": {},
   "source": [
    "Una vez realizado la prueba, podemos ver que nuestro valor p es inferior a nuestro nivel de confianza (95% = 0.05), esto nos indica que la hipotesis nula es rechazada y las medias de porcentaje de llamadas salientes tienen diferencias significativas\n",
    "\n",
    "Con esta información y las observaciones anteriormente expuestas, podemos concluir que los operadores identificados son bastante menos eficaces que nuestro top identificado y podriamos enfocarnos en ellos para aumentar su rendimiento en este KPI"
   ]
  },
  {
   "cell_type": "markdown",
   "metadata": {},
   "source": [
    "# Conclusiones generales, recomendaciones finales y posibles siguientes pasos."
   ]
  },
  {
   "cell_type": "markdown",
   "metadata": {},
   "source": [
    "Una vez realizadas las pruebas podemos concluir lo siguiente:\n",
    "\n",
    "- En las 3 pruebas se detecto una diferencia estadisticamente significativa por lo que podemos confirmar que tenemos operadores que estan siendo ineficaces y que comparados con los de mejor rendimiento, las diferencias son superiores a la media.\n",
    "\n",
    "\n",
    "- De los operadores más eficaces podemos ver que el porcentaje de llamadas perdidas no supera el 2.3% mientras que el porcentaje de llamadas salientes de casi del 80-85% en promedio, mientras que los operadores menos eficaces tienen un porcentaje de llamadas perdidas mayor a 2% llegando uno al 5% mientras que en el porcentaje de llamadas salientes presentan porcentajes menores al 75% hasta casi el 50%.\n",
    "\n",
    "\n",
    "- El porcentaje de tiempo de espera de operadores eficaces es inferior al 21.5% respecto al total del tiempo de llamada mientras que el de los operadores menos eficaces es superior al 21% llegando algunos al 31%."
   ]
  },
  {
   "cell_type": "markdown",
   "metadata": {},
   "source": [
    "Recomendaciones y Acciones Siguientes:\n",
    "\n",
    "- Viendo los resultados, la principal recomendación es generar un cuadro de mando donde mensualmente podamos visualizar las metricas de los operadores y cuando empiecen a bajar de las medias, hablar con ellos y ver que opciones se pueden tomar para recuperar su productividad.\n",
    "\n",
    "\n",
    "- Un próximo \"next step\" podria ser desarollar un modelo que identifique la probabilidad que un operador baje su rendimiento en los próximos meses y con ello, poder generar estrategias enfocadas a evitar que el rendimiento del operador baje, supoervisando que el mismo se encuentre intregralmente saludable."
   ]
  },
  {
   "cell_type": "markdown",
   "metadata": {},
   "source": [
    "<div class=\"alert alert-block alert-info\">\n",
    "<b>Corregido y desarrollado. Muchas gracias por la retroalimentación.</b> <a class=“tocSkip”></a>\n",
    "</div>"
   ]
  },
  {
   "cell_type": "markdown",
   "metadata": {},
   "source": [
    "<div class=\"alert alert-block alert-success\">\n",
    "<b>Comentario del revisor</b> <a class=\"tocSkip\"></a>\n",
    "\n",
    "¡Impresionante esfuerzo en este proyecto! 🌟 **Este proyecto está listo para ser aprobado.**<br>\n",
    "Tu habilidad para ejecutar y presentar este trabajo es admirable.<br>\n",
    "<br>Es un placer reconocer tu dedicación y el análisis detallado que has llevado a cabo. Continúa superándote en tus futuras iniciativas. Confío en que aplicarás este conocimiento de manera efectiva en desafíos futuros, avanzando hacia objetivos aún más ambiciosos.\n",
    "</div>\n"
   ]
  }
 ],
 "metadata": {
  "ExecuteTimeLog": [
   {
    "duration": 7,
    "start_time": "2024-09-12T23:07:10.475Z"
   },
   {
    "duration": 2533,
    "start_time": "2024-09-12T23:09:12.265Z"
   },
   {
    "duration": 3,
    "start_time": "2024-09-12T23:09:30.598Z"
   },
   {
    "duration": 95,
    "start_time": "2024-09-12T23:10:04.151Z"
   },
   {
    "duration": 40,
    "start_time": "2024-09-12T23:11:25.092Z"
   },
   {
    "duration": 40,
    "start_time": "2024-09-12T23:11:30.722Z"
   },
   {
    "duration": 9,
    "start_time": "2024-09-12T23:11:39.746Z"
   },
   {
    "duration": 7,
    "start_time": "2024-09-12T23:11:49.881Z"
   },
   {
    "duration": 5,
    "start_time": "2024-09-12T23:16:06.913Z"
   },
   {
    "duration": 13,
    "start_time": "2024-09-12T23:17:19.579Z"
   },
   {
    "duration": 9,
    "start_time": "2024-09-12T23:17:25.156Z"
   },
   {
    "duration": 227,
    "start_time": "2024-09-12T23:18:27.332Z"
   },
   {
    "duration": 14,
    "start_time": "2024-09-12T23:18:31.905Z"
   },
   {
    "duration": 10,
    "start_time": "2024-09-12T23:20:50.750Z"
   },
   {
    "duration": 11,
    "start_time": "2024-09-12T23:21:01.196Z"
   },
   {
    "duration": 8,
    "start_time": "2024-09-12T23:21:32.071Z"
   },
   {
    "duration": 16,
    "start_time": "2024-09-12T23:21:50.936Z"
   },
   {
    "duration": 11,
    "start_time": "2024-09-12T23:31:48.306Z"
   },
   {
    "duration": 11,
    "start_time": "2024-09-12T23:32:02.441Z"
   },
   {
    "duration": 11,
    "start_time": "2024-09-12T23:32:07.496Z"
   },
   {
    "duration": 7,
    "start_time": "2024-09-12T23:32:14.911Z"
   },
   {
    "duration": 741,
    "start_time": "2024-09-12T23:32:34.698Z"
   },
   {
    "duration": 43,
    "start_time": "2024-09-12T23:32:35.442Z"
   },
   {
    "duration": 8,
    "start_time": "2024-09-12T23:32:35.487Z"
   },
   {
    "duration": 7,
    "start_time": "2024-09-12T23:32:35.496Z"
   },
   {
    "duration": 21,
    "start_time": "2024-09-12T23:32:35.506Z"
   },
   {
    "duration": 12,
    "start_time": "2024-09-12T23:32:35.528Z"
   },
   {
    "duration": 9,
    "start_time": "2024-09-12T23:32:35.542Z"
   },
   {
    "duration": 15,
    "start_time": "2024-09-12T23:32:35.552Z"
   },
   {
    "duration": 291,
    "start_time": "2024-09-12T23:32:35.568Z"
   },
   {
    "duration": 0,
    "start_time": "2024-09-12T23:32:35.861Z"
   },
   {
    "duration": 0,
    "start_time": "2024-09-12T23:32:35.863Z"
   },
   {
    "duration": 0,
    "start_time": "2024-09-12T23:32:35.864Z"
   },
   {
    "duration": 10,
    "start_time": "2024-09-12T23:32:55.279Z"
   },
   {
    "duration": 11,
    "start_time": "2024-09-12T23:32:57.151Z"
   },
   {
    "duration": 7,
    "start_time": "2024-09-12T23:33:00.969Z"
   },
   {
    "duration": 15,
    "start_time": "2024-09-12T23:33:03.398Z"
   },
   {
    "duration": 16,
    "start_time": "2024-09-12T23:33:33.484Z"
   },
   {
    "duration": 15,
    "start_time": "2024-09-12T23:33:51.279Z"
   },
   {
    "duration": 10,
    "start_time": "2024-09-12T23:34:24.982Z"
   },
   {
    "duration": 12,
    "start_time": "2024-09-12T23:34:59.963Z"
   },
   {
    "duration": 8,
    "start_time": "2024-09-12T23:37:15.261Z"
   },
   {
    "duration": 13,
    "start_time": "2024-09-13T05:58:58.971Z"
   },
   {
    "duration": 13,
    "start_time": "2024-09-13T05:59:15.667Z"
   },
   {
    "duration": 25,
    "start_time": "2024-09-13T06:00:57.528Z"
   },
   {
    "duration": 53,
    "start_time": "2024-09-13T06:08:47.482Z"
   },
   {
    "duration": 42,
    "start_time": "2024-09-13T06:08:56.843Z"
   },
   {
    "duration": 44,
    "start_time": "2024-09-13T06:09:07.578Z"
   },
   {
    "duration": 44,
    "start_time": "2024-09-13T06:09:36.728Z"
   },
   {
    "duration": 25,
    "start_time": "2024-09-13T06:12:37.025Z"
   },
   {
    "duration": 8,
    "start_time": "2024-09-13T06:12:46.041Z"
   },
   {
    "duration": 9,
    "start_time": "2024-09-13T06:14:50.626Z"
   },
   {
    "duration": 11,
    "start_time": "2024-09-13T06:15:04.860Z"
   },
   {
    "duration": 9,
    "start_time": "2024-09-13T06:15:21.109Z"
   },
   {
    "duration": 13,
    "start_time": "2024-09-13T06:15:29.050Z"
   },
   {
    "duration": 8,
    "start_time": "2024-09-13T06:15:54.753Z"
   },
   {
    "duration": 6,
    "start_time": "2024-09-13T06:16:15.379Z"
   },
   {
    "duration": 4,
    "start_time": "2024-09-13T06:16:53.306Z"
   },
   {
    "duration": 24,
    "start_time": "2024-09-13T06:16:59.130Z"
   },
   {
    "duration": 17,
    "start_time": "2024-09-13T06:17:07.845Z"
   },
   {
    "duration": 5,
    "start_time": "2024-09-13T06:17:17.173Z"
   },
   {
    "duration": 206,
    "start_time": "2024-09-13T06:18:01.979Z"
   },
   {
    "duration": 193,
    "start_time": "2024-09-13T06:18:38.332Z"
   },
   {
    "duration": 4,
    "start_time": "2024-09-13T06:19:10.788Z"
   },
   {
    "duration": 8,
    "start_time": "2024-09-13T06:19:16.307Z"
   },
   {
    "duration": 24,
    "start_time": "2024-09-13T06:19:23.041Z"
   },
   {
    "duration": 12,
    "start_time": "2024-09-13T06:24:27.338Z"
   },
   {
    "duration": 9,
    "start_time": "2024-09-13T06:24:39.057Z"
   },
   {
    "duration": 17,
    "start_time": "2024-09-13T06:24:49.622Z"
   },
   {
    "duration": 4,
    "start_time": "2024-09-13T06:24:58.717Z"
   },
   {
    "duration": 9,
    "start_time": "2024-09-13T06:25:15.236Z"
   },
   {
    "duration": 17,
    "start_time": "2024-09-13T06:25:21.997Z"
   },
   {
    "duration": 13,
    "start_time": "2024-09-13T06:25:30.869Z"
   },
   {
    "duration": 7,
    "start_time": "2024-09-13T06:36:02.125Z"
   },
   {
    "duration": 6,
    "start_time": "2024-09-13T06:36:42.769Z"
   },
   {
    "duration": 6,
    "start_time": "2024-09-13T06:37:18.937Z"
   },
   {
    "duration": 303,
    "start_time": "2024-09-13T22:14:04.596Z"
   },
   {
    "duration": 9,
    "start_time": "2024-09-13T22:18:25.954Z"
   },
   {
    "duration": 3,
    "start_time": "2024-09-13T22:18:44.806Z"
   },
   {
    "duration": 4,
    "start_time": "2024-09-13T22:18:54.357Z"
   },
   {
    "duration": 131,
    "start_time": "2024-09-13T22:19:01.224Z"
   },
   {
    "duration": 15,
    "start_time": "2024-09-13T22:19:09.519Z"
   },
   {
    "duration": 12,
    "start_time": "2024-09-13T22:19:11.651Z"
   },
   {
    "duration": 5,
    "start_time": "2024-09-13T22:19:16.091Z"
   },
   {
    "duration": 17,
    "start_time": "2024-09-13T22:19:25.577Z"
   },
   {
    "duration": 16,
    "start_time": "2024-09-13T22:20:27.360Z"
   },
   {
    "duration": 11,
    "start_time": "2024-09-13T22:39:19.084Z"
   },
   {
    "duration": 13,
    "start_time": "2024-09-13T22:39:19.658Z"
   },
   {
    "duration": 8,
    "start_time": "2024-09-13T22:39:20.575Z"
   },
   {
    "duration": 15,
    "start_time": "2024-09-13T22:39:21.524Z"
   },
   {
    "duration": 10,
    "start_time": "2024-09-13T22:39:22.004Z"
   },
   {
    "duration": 867,
    "start_time": "2024-09-13T22:52:32.650Z"
   },
   {
    "duration": 49,
    "start_time": "2024-09-13T22:52:33.519Z"
   },
   {
    "duration": 7,
    "start_time": "2024-09-13T22:52:33.572Z"
   },
   {
    "duration": 8,
    "start_time": "2024-09-13T22:52:33.581Z"
   },
   {
    "duration": 5,
    "start_time": "2024-09-13T22:52:33.591Z"
   },
   {
    "duration": 32,
    "start_time": "2024-09-13T22:52:33.597Z"
   },
   {
    "duration": 8,
    "start_time": "2024-09-13T22:52:33.630Z"
   },
   {
    "duration": 15,
    "start_time": "2024-09-13T22:52:33.640Z"
   },
   {
    "duration": 13,
    "start_time": "2024-09-13T22:52:33.656Z"
   },
   {
    "duration": 13,
    "start_time": "2024-09-13T22:52:33.673Z"
   },
   {
    "duration": 39,
    "start_time": "2024-09-13T22:52:33.687Z"
   },
   {
    "duration": 19,
    "start_time": "2024-09-13T22:52:33.727Z"
   },
   {
    "duration": 10,
    "start_time": "2024-09-13T22:52:33.747Z"
   },
   {
    "duration": 13,
    "start_time": "2024-09-13T22:52:33.759Z"
   },
   {
    "duration": 7,
    "start_time": "2024-09-13T22:52:33.774Z"
   },
   {
    "duration": 42,
    "start_time": "2024-09-13T22:52:33.783Z"
   },
   {
    "duration": 16,
    "start_time": "2024-09-13T22:52:33.826Z"
   },
   {
    "duration": 25,
    "start_time": "2024-09-13T22:52:33.843Z"
   },
   {
    "duration": 64,
    "start_time": "2024-09-13T22:52:33.870Z"
   },
   {
    "duration": 19,
    "start_time": "2024-09-13T22:52:33.935Z"
   },
   {
    "duration": 9,
    "start_time": "2024-09-13T22:52:33.956Z"
   },
   {
    "duration": 8,
    "start_time": "2024-09-13T22:52:33.967Z"
   },
   {
    "duration": 8,
    "start_time": "2024-09-13T22:52:33.977Z"
   },
   {
    "duration": 39,
    "start_time": "2024-09-13T22:52:33.986Z"
   },
   {
    "duration": 7,
    "start_time": "2024-09-13T22:52:34.027Z"
   },
   {
    "duration": 4,
    "start_time": "2024-09-13T22:52:34.037Z"
   },
   {
    "duration": 4,
    "start_time": "2024-09-13T22:52:34.043Z"
   },
   {
    "duration": 25,
    "start_time": "2024-09-13T22:52:34.051Z"
   },
   {
    "duration": 47,
    "start_time": "2024-09-13T22:52:34.077Z"
   },
   {
    "duration": 213,
    "start_time": "2024-09-13T22:52:34.125Z"
   },
   {
    "duration": 199,
    "start_time": "2024-09-13T22:52:34.339Z"
   },
   {
    "duration": 3,
    "start_time": "2024-09-13T22:52:34.540Z"
   },
   {
    "duration": 7,
    "start_time": "2024-09-13T22:52:34.545Z"
   },
   {
    "duration": 31,
    "start_time": "2024-09-13T22:52:34.555Z"
   },
   {
    "duration": 11,
    "start_time": "2024-09-13T22:52:34.589Z"
   },
   {
    "duration": 9,
    "start_time": "2024-09-13T22:52:34.625Z"
   },
   {
    "duration": 15,
    "start_time": "2024-09-13T22:52:34.636Z"
   },
   {
    "duration": 51,
    "start_time": "2024-09-13T22:52:34.653Z"
   },
   {
    "duration": 16,
    "start_time": "2024-09-13T22:52:34.725Z"
   },
   {
    "duration": 6,
    "start_time": "2024-09-13T22:52:34.743Z"
   },
   {
    "duration": 7,
    "start_time": "2024-09-13T22:52:34.750Z"
   },
   {
    "duration": 7,
    "start_time": "2024-09-13T22:52:34.758Z"
   },
   {
    "duration": 6,
    "start_time": "2024-09-13T23:09:16.182Z"
   },
   {
    "duration": 9,
    "start_time": "2024-09-13T23:16:51.687Z"
   },
   {
    "duration": 8,
    "start_time": "2024-09-13T23:18:40.494Z"
   },
   {
    "duration": 8,
    "start_time": "2024-09-13T23:22:56.285Z"
   },
   {
    "duration": 8,
    "start_time": "2024-09-13T23:23:30.523Z"
   },
   {
    "duration": 7,
    "start_time": "2024-09-13T23:29:45.776Z"
   },
   {
    "duration": 743,
    "start_time": "2024-09-20T17:36:45.298Z"
   },
   {
    "duration": 81,
    "start_time": "2024-09-20T17:36:46.043Z"
   },
   {
    "duration": 8,
    "start_time": "2024-09-20T17:36:46.126Z"
   },
   {
    "duration": 8,
    "start_time": "2024-09-20T17:36:46.136Z"
   },
   {
    "duration": 5,
    "start_time": "2024-09-20T17:36:46.146Z"
   },
   {
    "duration": 13,
    "start_time": "2024-09-20T17:36:46.152Z"
   },
   {
    "duration": 7,
    "start_time": "2024-09-20T17:36:46.167Z"
   },
   {
    "duration": 14,
    "start_time": "2024-09-20T17:36:46.176Z"
   },
   {
    "duration": 42,
    "start_time": "2024-09-20T17:36:46.191Z"
   },
   {
    "duration": 10,
    "start_time": "2024-09-20T17:36:46.234Z"
   },
   {
    "duration": 7,
    "start_time": "2024-09-20T17:36:46.245Z"
   },
   {
    "duration": 15,
    "start_time": "2024-09-20T17:36:46.254Z"
   },
   {
    "duration": 10,
    "start_time": "2024-09-20T17:36:46.271Z"
   },
   {
    "duration": 44,
    "start_time": "2024-09-20T17:36:46.286Z"
   },
   {
    "duration": 7,
    "start_time": "2024-09-20T17:36:46.331Z"
   },
   {
    "duration": 12,
    "start_time": "2024-09-20T17:36:46.340Z"
   },
   {
    "duration": 12,
    "start_time": "2024-09-20T17:36:46.354Z"
   },
   {
    "duration": 21,
    "start_time": "2024-09-20T17:36:46.367Z"
   },
   {
    "duration": 77,
    "start_time": "2024-09-20T17:36:46.389Z"
   },
   {
    "duration": 15,
    "start_time": "2024-09-20T17:36:46.467Z"
   },
   {
    "duration": 7,
    "start_time": "2024-09-20T17:36:46.484Z"
   },
   {
    "duration": 32,
    "start_time": "2024-09-20T17:36:46.493Z"
   },
   {
    "duration": 8,
    "start_time": "2024-09-20T17:36:46.526Z"
   },
   {
    "duration": 13,
    "start_time": "2024-09-20T17:36:46.535Z"
   },
   {
    "duration": 8,
    "start_time": "2024-09-20T17:36:46.549Z"
   },
   {
    "duration": 4,
    "start_time": "2024-09-20T17:36:46.560Z"
   },
   {
    "duration": 3,
    "start_time": "2024-09-20T17:36:46.566Z"
   },
   {
    "duration": 56,
    "start_time": "2024-09-20T17:36:46.571Z"
   },
   {
    "duration": 668,
    "start_time": "2024-09-20T17:36:46.628Z"
   },
   {
    "duration": 0,
    "start_time": "2024-09-20T17:36:47.298Z"
   },
   {
    "duration": 0,
    "start_time": "2024-09-20T17:36:47.299Z"
   },
   {
    "duration": 0,
    "start_time": "2024-09-20T17:36:47.300Z"
   },
   {
    "duration": 0,
    "start_time": "2024-09-20T17:36:47.301Z"
   },
   {
    "duration": 0,
    "start_time": "2024-09-20T17:36:47.302Z"
   },
   {
    "duration": 0,
    "start_time": "2024-09-20T17:36:47.303Z"
   },
   {
    "duration": 0,
    "start_time": "2024-09-20T17:36:47.304Z"
   },
   {
    "duration": 0,
    "start_time": "2024-09-20T17:36:47.307Z"
   },
   {
    "duration": 0,
    "start_time": "2024-09-20T17:36:47.308Z"
   },
   {
    "duration": 0,
    "start_time": "2024-09-20T17:36:47.324Z"
   },
   {
    "duration": 0,
    "start_time": "2024-09-20T17:36:47.325Z"
   },
   {
    "duration": 0,
    "start_time": "2024-09-20T17:36:47.326Z"
   },
   {
    "duration": 0,
    "start_time": "2024-09-20T17:36:47.327Z"
   },
   {
    "duration": 54,
    "start_time": "2024-09-20T17:37:32.651Z"
   },
   {
    "duration": 51,
    "start_time": "2024-09-20T17:37:46.295Z"
   },
   {
    "duration": 63,
    "start_time": "2024-09-20T17:38:00.957Z"
   },
   {
    "duration": 20,
    "start_time": "2024-09-20T17:46:36.412Z"
   },
   {
    "duration": 180,
    "start_time": "2024-09-20T17:46:38.709Z"
   },
   {
    "duration": 753,
    "start_time": "2024-09-20T17:46:45.607Z"
   },
   {
    "duration": 42,
    "start_time": "2024-09-20T17:46:46.363Z"
   },
   {
    "duration": 20,
    "start_time": "2024-09-20T17:46:46.406Z"
   },
   {
    "duration": 7,
    "start_time": "2024-09-20T17:46:46.428Z"
   },
   {
    "duration": 8,
    "start_time": "2024-09-20T17:46:46.436Z"
   },
   {
    "duration": 12,
    "start_time": "2024-09-20T17:46:46.446Z"
   },
   {
    "duration": 8,
    "start_time": "2024-09-20T17:46:46.460Z"
   },
   {
    "duration": 14,
    "start_time": "2024-09-20T17:46:46.469Z"
   },
   {
    "duration": 42,
    "start_time": "2024-09-20T17:46:46.485Z"
   },
   {
    "duration": 10,
    "start_time": "2024-09-20T17:46:46.531Z"
   },
   {
    "duration": 6,
    "start_time": "2024-09-20T17:46:46.543Z"
   },
   {
    "duration": 14,
    "start_time": "2024-09-20T17:46:46.551Z"
   },
   {
    "duration": 10,
    "start_time": "2024-09-20T17:46:46.566Z"
   },
   {
    "duration": 11,
    "start_time": "2024-09-20T17:46:46.577Z"
   },
   {
    "duration": 39,
    "start_time": "2024-09-20T17:46:46.590Z"
   },
   {
    "duration": 12,
    "start_time": "2024-09-20T17:46:46.630Z"
   },
   {
    "duration": 11,
    "start_time": "2024-09-20T17:46:46.644Z"
   },
   {
    "duration": 20,
    "start_time": "2024-09-20T17:46:46.657Z"
   },
   {
    "duration": 73,
    "start_time": "2024-09-20T17:46:46.678Z"
   },
   {
    "duration": 15,
    "start_time": "2024-09-20T17:46:46.753Z"
   },
   {
    "duration": 8,
    "start_time": "2024-09-20T17:46:46.769Z"
   },
   {
    "duration": 8,
    "start_time": "2024-09-20T17:46:46.778Z"
   },
   {
    "duration": 8,
    "start_time": "2024-09-20T17:46:46.788Z"
   },
   {
    "duration": 37,
    "start_time": "2024-09-20T17:46:46.798Z"
   },
   {
    "duration": 7,
    "start_time": "2024-09-20T17:46:46.836Z"
   },
   {
    "duration": 5,
    "start_time": "2024-09-20T17:46:46.844Z"
   },
   {
    "duration": 3,
    "start_time": "2024-09-20T17:46:46.851Z"
   },
   {
    "duration": 23,
    "start_time": "2024-09-20T17:46:46.859Z"
   },
   {
    "duration": 49,
    "start_time": "2024-09-20T17:46:46.884Z"
   },
   {
    "duration": 207,
    "start_time": "2024-09-20T17:46:46.935Z"
   },
   {
    "duration": 194,
    "start_time": "2024-09-20T17:46:47.144Z"
   },
   {
    "duration": 4,
    "start_time": "2024-09-20T17:46:47.339Z"
   },
   {
    "duration": 6,
    "start_time": "2024-09-20T17:46:47.345Z"
   },
   {
    "duration": 22,
    "start_time": "2024-09-20T17:46:47.354Z"
   },
   {
    "duration": 12,
    "start_time": "2024-09-20T17:46:47.377Z"
   },
   {
    "duration": 33,
    "start_time": "2024-09-20T17:46:47.391Z"
   },
   {
    "duration": 15,
    "start_time": "2024-09-20T17:46:47.426Z"
   },
   {
    "duration": 50,
    "start_time": "2024-09-20T17:46:47.443Z"
   },
   {
    "duration": 38,
    "start_time": "2024-09-20T17:46:47.495Z"
   },
   {
    "duration": 7,
    "start_time": "2024-09-20T17:46:47.535Z"
   },
   {
    "duration": 7,
    "start_time": "2024-09-20T17:46:47.544Z"
   },
   {
    "duration": 7,
    "start_time": "2024-09-20T17:46:47.552Z"
   }
  ],
  "kernelspec": {
   "display_name": "Python 3 (ipykernel)",
   "language": "python",
   "name": "python3"
  },
  "language_info": {
   "codemirror_mode": {
    "name": "ipython",
    "version": 3
   },
   "file_extension": ".py",
   "mimetype": "text/x-python",
   "name": "python",
   "nbconvert_exporter": "python",
   "pygments_lexer": "ipython3",
   "version": "3.12.3"
  },
  "toc": {
   "base_numbering": 1,
   "nav_menu": {},
   "number_sections": true,
   "sideBar": true,
   "skip_h1_title": true,
   "title_cell": "Table of Contents",
   "title_sidebar": "Contents",
   "toc_cell": false,
   "toc_position": {},
   "toc_section_display": true,
   "toc_window_display": false
  }
 },
 "nbformat": 4,
 "nbformat_minor": 2
}
