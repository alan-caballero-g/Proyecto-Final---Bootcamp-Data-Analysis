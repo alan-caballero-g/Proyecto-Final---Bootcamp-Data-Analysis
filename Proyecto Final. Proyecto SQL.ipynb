{
 "cells": [
  {
   "cell_type": "markdown",
   "metadata": {},
   "source": [
    "# Proyecto SQL"
   ]
  },
  {
   "cell_type": "markdown",
   "metadata": {},
   "source": [
    "El coronavirus tomó al mundo entero por sorpresa, cambiando la rutina diaria de todos y todas. Los habitantes de las ciudades ya no pasaban su tiempo libre fuera, yendo a cafés y centros comerciales; sino que más gente se quedaba en casa, leyendo libros. Eso atrajo la atención de las startups (empresas emergentes) que se apresuraron a desarrollar nuevas aplicaciones para los amantes de los libros.\n",
    "\n",
    "Te han dado una base de datos de uno de los servicios que compiten en este mercado. Contiene datos sobre libros, editoriales, autores y calificaciones de clientes y reseñas de libros. Esta información se utilizará para generar una propuesta de valor para un nuevo producto."
   ]
  },
  {
   "cell_type": "markdown",
   "metadata": {},
   "source": [
    "# Objetivo\n",
    " \n",
    "Analizar la base,  de datos para comprender el mercado de los amantes de los libros y crear un producto o servicio que sea destacable al plantear las necesidades y preferencias de la población lectora, todo a partir de las conclusiones identificadas a partir de los datos recopilados y analizados."
   ]
  },
  {
   "cell_type": "code",
   "execution_count": 1,
   "metadata": {},
   "outputs": [],
   "source": [
    "# importar librerías\n",
    "import pandas as pd\n",
    "from sqlalchemy import create_engine"
   ]
  },
  {
   "cell_type": "code",
   "execution_count": 2,
   "metadata": {},
   "outputs": [],
   "source": [
    "# Conexion a la base de datos\n",
    "db_config = {'user': 'practicum_student',         # nombre de usuario\n",
    "             'pwd': 's65BlTKV3faNIGhmvJVzOqhs', # contraseña\n",
    "             'host': 'rc1b-wcoijxj3yxfsf3fs.mdb.yandexcloud.net',\n",
    "             'port': 6432,              # puerto de conexión\n",
    "             'db': 'data-analyst-final-project-db'}          # nombre de la base de datos\n",
    "\n",
    "connection_string = 'postgresql://{}:{}@{}:{}/{}'.format(db_config['user'],\n",
    "                                                                     db_config['pwd'],\n",
    "                                                                       db_config['host'],\n",
    "                                                                       db_config['port'],\n",
    "                                                                       db_config['db'])\n",
    "\n",
    "engine = create_engine(connection_string, connect_args={'sslmode':'require'})"
   ]
  },
  {
   "cell_type": "code",
   "execution_count": 3,
   "metadata": {},
   "outputs": [
    {
     "data": {
      "text/html": [
       "<div>\n",
       "<style scoped>\n",
       "    .dataframe tbody tr th:only-of-type {\n",
       "        vertical-align: middle;\n",
       "    }\n",
       "\n",
       "    .dataframe tbody tr th {\n",
       "        vertical-align: top;\n",
       "    }\n",
       "\n",
       "    .dataframe thead th {\n",
       "        text-align: right;\n",
       "    }\n",
       "</style>\n",
       "<table border=\"1\" class=\"dataframe\">\n",
       "  <thead>\n",
       "    <tr style=\"text-align: right;\">\n",
       "      <th></th>\n",
       "      <th>book_id</th>\n",
       "      <th>author_id</th>\n",
       "      <th>title</th>\n",
       "      <th>num_pages</th>\n",
       "      <th>publication_date</th>\n",
       "      <th>publisher_id</th>\n",
       "    </tr>\n",
       "  </thead>\n",
       "  <tbody>\n",
       "    <tr>\n",
       "      <th>0</th>\n",
       "      <td>1</td>\n",
       "      <td>546</td>\n",
       "      <td>'Salem's Lot</td>\n",
       "      <td>594</td>\n",
       "      <td>2005-11-01</td>\n",
       "      <td>93</td>\n",
       "    </tr>\n",
       "    <tr>\n",
       "      <th>1</th>\n",
       "      <td>2</td>\n",
       "      <td>465</td>\n",
       "      <td>1 000 Places to See Before You Die</td>\n",
       "      <td>992</td>\n",
       "      <td>2003-05-22</td>\n",
       "      <td>336</td>\n",
       "    </tr>\n",
       "    <tr>\n",
       "      <th>2</th>\n",
       "      <td>3</td>\n",
       "      <td>407</td>\n",
       "      <td>13 Little Blue Envelopes (Little Blue Envelope...</td>\n",
       "      <td>322</td>\n",
       "      <td>2010-12-21</td>\n",
       "      <td>135</td>\n",
       "    </tr>\n",
       "    <tr>\n",
       "      <th>3</th>\n",
       "      <td>4</td>\n",
       "      <td>82</td>\n",
       "      <td>1491: New Revelations of the Americas Before C...</td>\n",
       "      <td>541</td>\n",
       "      <td>2006-10-10</td>\n",
       "      <td>309</td>\n",
       "    </tr>\n",
       "    <tr>\n",
       "      <th>4</th>\n",
       "      <td>5</td>\n",
       "      <td>125</td>\n",
       "      <td>1776</td>\n",
       "      <td>386</td>\n",
       "      <td>2006-07-04</td>\n",
       "      <td>268</td>\n",
       "    </tr>\n",
       "  </tbody>\n",
       "</table>\n",
       "</div>"
      ],
      "text/plain": [
       "   book_id  author_id                                              title  \\\n",
       "0        1        546                                       'Salem's Lot   \n",
       "1        2        465                 1 000 Places to See Before You Die   \n",
       "2        3        407  13 Little Blue Envelopes (Little Blue Envelope...   \n",
       "3        4         82  1491: New Revelations of the Americas Before C...   \n",
       "4        5        125                                               1776   \n",
       "\n",
       "   num_pages publication_date  publisher_id  \n",
       "0        594       2005-11-01            93  \n",
       "1        992       2003-05-22           336  \n",
       "2        322       2010-12-21           135  \n",
       "3        541       2006-10-10           309  \n",
       "4        386       2006-07-04           268  "
      ]
     },
     "execution_count": 3,
     "metadata": {},
     "output_type": "execute_result"
    }
   ],
   "source": [
    "# Vemos el contenido del dataframe books\n",
    "query = '''\n",
    "SELECT\n",
    "    *\n",
    "FROM\n",
    "    books\n",
    "LIMIT\n",
    "    5\n",
    "'''\n",
    "data_books = pd.io.sql.read_sql(query, con=engine)\n",
    "data_books"
   ]
  },
  {
   "cell_type": "code",
   "execution_count": 4,
   "metadata": {},
   "outputs": [
    {
     "data": {
      "text/html": [
       "<div>\n",
       "<style scoped>\n",
       "    .dataframe tbody tr th:only-of-type {\n",
       "        vertical-align: middle;\n",
       "    }\n",
       "\n",
       "    .dataframe tbody tr th {\n",
       "        vertical-align: top;\n",
       "    }\n",
       "\n",
       "    .dataframe thead th {\n",
       "        text-align: right;\n",
       "    }\n",
       "</style>\n",
       "<table border=\"1\" class=\"dataframe\">\n",
       "  <thead>\n",
       "    <tr style=\"text-align: right;\">\n",
       "      <th></th>\n",
       "      <th>count</th>\n",
       "    </tr>\n",
       "  </thead>\n",
       "  <tbody>\n",
       "    <tr>\n",
       "      <th>0</th>\n",
       "      <td>0</td>\n",
       "    </tr>\n",
       "  </tbody>\n",
       "</table>\n",
       "</div>"
      ],
      "text/plain": [
       "   count\n",
       "0      0"
      ]
     },
     "execution_count": 4,
     "metadata": {},
     "output_type": "execute_result"
    }
   ],
   "source": [
    "# Verficamos que no haya valores nulos\n",
    "query = ''' \n",
    "SELECT\n",
    "    COUNT(*)\n",
    "FROM\n",
    "    books\n",
    "WHERE\n",
    "    book_id IS NULL\n",
    "    OR author_id IS NULL\n",
    "    OR title IS NULL\n",
    "    OR num_pages IS NULL\n",
    "    OR publication_date IS NULL\n",
    "    OR publisher_id IS NULL;\n",
    "'''\n",
    "data_books_null_count = pd.io.sql.read_sql(query, con=engine)\n",
    "data_books_null_count"
   ]
  },
  {
   "cell_type": "code",
   "execution_count": 5,
   "metadata": {},
   "outputs": [
    {
     "data": {
      "text/html": [
       "<div>\n",
       "<style scoped>\n",
       "    .dataframe tbody tr th:only-of-type {\n",
       "        vertical-align: middle;\n",
       "    }\n",
       "\n",
       "    .dataframe tbody tr th {\n",
       "        vertical-align: top;\n",
       "    }\n",
       "\n",
       "    .dataframe thead th {\n",
       "        text-align: right;\n",
       "    }\n",
       "</style>\n",
       "<table border=\"1\" class=\"dataframe\">\n",
       "  <thead>\n",
       "    <tr style=\"text-align: right;\">\n",
       "      <th></th>\n",
       "      <th>count</th>\n",
       "    </tr>\n",
       "  </thead>\n",
       "  <tbody>\n",
       "    <tr>\n",
       "      <th>0</th>\n",
       "      <td>0</td>\n",
       "    </tr>\n",
       "  </tbody>\n",
       "</table>\n",
       "</div>"
      ],
      "text/plain": [
       "   count\n",
       "0      0"
      ]
     },
     "execution_count": 5,
     "metadata": {},
     "output_type": "execute_result"
    }
   ],
   "source": [
    "# Verificamos que no haya valores duplicados\n",
    "query = '''\n",
    "SELECT\n",
    "    COUNT(*)\n",
    "FROM\n",
    "    (\n",
    "        SELECT\n",
    "            book_id,\n",
    "            author_id,\n",
    "            title,\n",
    "            num_pages,\n",
    "            publication_date,\n",
    "            publisher_id,\n",
    "            COUNT(*)\n",
    "        FROM\n",
    "            books\n",
    "        GROUP BY\n",
    "            book_id,\n",
    "            author_id,\n",
    "            title,\n",
    "            num_pages,\n",
    "            publication_date,\n",
    "            publisher_id\n",
    "        HAVING\n",
    "            COUNT(*) > 1\n",
    "    ) AS SUB\n",
    "'''\n",
    "data_books_duplicated_count = pd.io.sql.read_sql(query, con=engine)\n",
    "data_books_duplicated_count"
   ]
  },
  {
   "cell_type": "markdown",
   "metadata": {},
   "source": [
    "Nuestra tabla `books` contiene los datos sobre libros, almacenados en las siguientes columnas:\n",
    "\n",
    "- `book_id`: identificación del libro\n",
    "- `author_id`: identificación del autor o autora\n",
    "- `title`: título\n",
    "- `num_pages`: número de páginas\n",
    "- `publication_date`: fecha de la publicación\n",
    "- `publisher_id`: identificación de la editorial\n",
    "\n",
    "La tabla no presenta valores ausentes o duplicados"
   ]
  },
  {
   "cell_type": "code",
   "execution_count": 6,
   "metadata": {},
   "outputs": [
    {
     "data": {
      "text/html": [
       "<div>\n",
       "<style scoped>\n",
       "    .dataframe tbody tr th:only-of-type {\n",
       "        vertical-align: middle;\n",
       "    }\n",
       "\n",
       "    .dataframe tbody tr th {\n",
       "        vertical-align: top;\n",
       "    }\n",
       "\n",
       "    .dataframe thead th {\n",
       "        text-align: right;\n",
       "    }\n",
       "</style>\n",
       "<table border=\"1\" class=\"dataframe\">\n",
       "  <thead>\n",
       "    <tr style=\"text-align: right;\">\n",
       "      <th></th>\n",
       "      <th>author_id</th>\n",
       "      <th>author</th>\n",
       "    </tr>\n",
       "  </thead>\n",
       "  <tbody>\n",
       "    <tr>\n",
       "      <th>0</th>\n",
       "      <td>1</td>\n",
       "      <td>A.S. Byatt</td>\n",
       "    </tr>\n",
       "    <tr>\n",
       "      <th>1</th>\n",
       "      <td>2</td>\n",
       "      <td>Aesop/Laura Harris/Laura Gibbs</td>\n",
       "    </tr>\n",
       "    <tr>\n",
       "      <th>2</th>\n",
       "      <td>3</td>\n",
       "      <td>Agatha Christie</td>\n",
       "    </tr>\n",
       "    <tr>\n",
       "      <th>3</th>\n",
       "      <td>4</td>\n",
       "      <td>Alan Brennert</td>\n",
       "    </tr>\n",
       "    <tr>\n",
       "      <th>4</th>\n",
       "      <td>5</td>\n",
       "      <td>Alan Moore/David   Lloyd</td>\n",
       "    </tr>\n",
       "  </tbody>\n",
       "</table>\n",
       "</div>"
      ],
      "text/plain": [
       "   author_id                          author\n",
       "0          1                      A.S. Byatt\n",
       "1          2  Aesop/Laura Harris/Laura Gibbs\n",
       "2          3                 Agatha Christie\n",
       "3          4                   Alan Brennert\n",
       "4          5        Alan Moore/David   Lloyd"
      ]
     },
     "execution_count": 6,
     "metadata": {},
     "output_type": "execute_result"
    }
   ],
   "source": [
    "# Vemos el contenido del dataframe authors\n",
    "query = '''\n",
    "SELECT\n",
    "    *\n",
    "FROM\n",
    "    authors\n",
    "LIMIT\n",
    "    5\n",
    "'''\n",
    "data_authors = pd.io.sql.read_sql(query, con=engine)\n",
    "data_authors"
   ]
  },
  {
   "cell_type": "code",
   "execution_count": 7,
   "metadata": {},
   "outputs": [
    {
     "data": {
      "text/html": [
       "<div>\n",
       "<style scoped>\n",
       "    .dataframe tbody tr th:only-of-type {\n",
       "        vertical-align: middle;\n",
       "    }\n",
       "\n",
       "    .dataframe tbody tr th {\n",
       "        vertical-align: top;\n",
       "    }\n",
       "\n",
       "    .dataframe thead th {\n",
       "        text-align: right;\n",
       "    }\n",
       "</style>\n",
       "<table border=\"1\" class=\"dataframe\">\n",
       "  <thead>\n",
       "    <tr style=\"text-align: right;\">\n",
       "      <th></th>\n",
       "      <th>count</th>\n",
       "    </tr>\n",
       "  </thead>\n",
       "  <tbody>\n",
       "    <tr>\n",
       "      <th>0</th>\n",
       "      <td>0</td>\n",
       "    </tr>\n",
       "  </tbody>\n",
       "</table>\n",
       "</div>"
      ],
      "text/plain": [
       "   count\n",
       "0      0"
      ]
     },
     "execution_count": 7,
     "metadata": {},
     "output_type": "execute_result"
    }
   ],
   "source": [
    "# Verficamos que no haya valores nulos\n",
    "query = '''\n",
    "SELECT\n",
    "    COUNT(*)\n",
    "FROM\n",
    "    authors\n",
    "WHERE\n",
    "    author_id IS NULL\n",
    "    OR author IS NULL;\n",
    "'''\n",
    "data_authors_null_count = pd.io.sql.read_sql(query, con=engine)\n",
    "data_authors_null_count"
   ]
  },
  {
   "cell_type": "code",
   "execution_count": 8,
   "metadata": {},
   "outputs": [
    {
     "data": {
      "text/html": [
       "<div>\n",
       "<style scoped>\n",
       "    .dataframe tbody tr th:only-of-type {\n",
       "        vertical-align: middle;\n",
       "    }\n",
       "\n",
       "    .dataframe tbody tr th {\n",
       "        vertical-align: top;\n",
       "    }\n",
       "\n",
       "    .dataframe thead th {\n",
       "        text-align: right;\n",
       "    }\n",
       "</style>\n",
       "<table border=\"1\" class=\"dataframe\">\n",
       "  <thead>\n",
       "    <tr style=\"text-align: right;\">\n",
       "      <th></th>\n",
       "      <th>count</th>\n",
       "    </tr>\n",
       "  </thead>\n",
       "  <tbody>\n",
       "    <tr>\n",
       "      <th>0</th>\n",
       "      <td>0</td>\n",
       "    </tr>\n",
       "  </tbody>\n",
       "</table>\n",
       "</div>"
      ],
      "text/plain": [
       "   count\n",
       "0      0"
      ]
     },
     "execution_count": 8,
     "metadata": {},
     "output_type": "execute_result"
    }
   ],
   "source": [
    "# Verificamos que no haya valores duplicados\n",
    "query = '''\n",
    "SELECT\n",
    "    COUNT(*)\n",
    "FROM\n",
    "    (\n",
    "        SELECT\n",
    "            author_id,\n",
    "            author,\n",
    "            COUNT(*)\n",
    "        FROM\n",
    "            authors\n",
    "        GROUP BY\n",
    "            author_id,\n",
    "            author\n",
    "        HAVING\n",
    "            COUNT(*) > 1\n",
    "    ) AS SUB\n",
    "'''\n",
    "data_authors_duplicated_count = pd.io.sql.read_sql(query, con=engine)\n",
    "data_authors_duplicated_count"
   ]
  },
  {
   "cell_type": "markdown",
   "metadata": {},
   "source": [
    "Nuestra tabla `authors` contiene los datos sobre autores, almacenados en las siguientes columnas:\n",
    "\n",
    "- `author_id`: identificación del autor o autora\n",
    "- `author`: el autor o la autora\n",
    "\n",
    "La tabla no presenta valores ausentes o duplicados"
   ]
  },
  {
   "cell_type": "code",
   "execution_count": 9,
   "metadata": {},
   "outputs": [
    {
     "data": {
      "text/html": [
       "<div>\n",
       "<style scoped>\n",
       "    .dataframe tbody tr th:only-of-type {\n",
       "        vertical-align: middle;\n",
       "    }\n",
       "\n",
       "    .dataframe tbody tr th {\n",
       "        vertical-align: top;\n",
       "    }\n",
       "\n",
       "    .dataframe thead th {\n",
       "        text-align: right;\n",
       "    }\n",
       "</style>\n",
       "<table border=\"1\" class=\"dataframe\">\n",
       "  <thead>\n",
       "    <tr style=\"text-align: right;\">\n",
       "      <th></th>\n",
       "      <th>rating_id</th>\n",
       "      <th>book_id</th>\n",
       "      <th>username</th>\n",
       "      <th>rating</th>\n",
       "    </tr>\n",
       "  </thead>\n",
       "  <tbody>\n",
       "    <tr>\n",
       "      <th>0</th>\n",
       "      <td>1</td>\n",
       "      <td>1</td>\n",
       "      <td>ryanfranco</td>\n",
       "      <td>4</td>\n",
       "    </tr>\n",
       "    <tr>\n",
       "      <th>1</th>\n",
       "      <td>2</td>\n",
       "      <td>1</td>\n",
       "      <td>grantpatricia</td>\n",
       "      <td>2</td>\n",
       "    </tr>\n",
       "    <tr>\n",
       "      <th>2</th>\n",
       "      <td>3</td>\n",
       "      <td>1</td>\n",
       "      <td>brandtandrea</td>\n",
       "      <td>5</td>\n",
       "    </tr>\n",
       "    <tr>\n",
       "      <th>3</th>\n",
       "      <td>4</td>\n",
       "      <td>2</td>\n",
       "      <td>lorichen</td>\n",
       "      <td>3</td>\n",
       "    </tr>\n",
       "    <tr>\n",
       "      <th>4</th>\n",
       "      <td>5</td>\n",
       "      <td>2</td>\n",
       "      <td>mariokeller</td>\n",
       "      <td>2</td>\n",
       "    </tr>\n",
       "  </tbody>\n",
       "</table>\n",
       "</div>"
      ],
      "text/plain": [
       "   rating_id  book_id       username  rating\n",
       "0          1        1     ryanfranco       4\n",
       "1          2        1  grantpatricia       2\n",
       "2          3        1   brandtandrea       5\n",
       "3          4        2       lorichen       3\n",
       "4          5        2    mariokeller       2"
      ]
     },
     "execution_count": 9,
     "metadata": {},
     "output_type": "execute_result"
    }
   ],
   "source": [
    "# Vemos el contenido del dataframe ratings\n",
    "query = '''\n",
    "SELECT\n",
    "    *\n",
    "FROM\n",
    "    ratings\n",
    "LIMIT\n",
    "    5 '''\n",
    "data_ratings = pd.io.sql.read_sql(query, con=engine)\n",
    "data_ratings"
   ]
  },
  {
   "cell_type": "code",
   "execution_count": 10,
   "metadata": {},
   "outputs": [
    {
     "data": {
      "text/html": [
       "<div>\n",
       "<style scoped>\n",
       "    .dataframe tbody tr th:only-of-type {\n",
       "        vertical-align: middle;\n",
       "    }\n",
       "\n",
       "    .dataframe tbody tr th {\n",
       "        vertical-align: top;\n",
       "    }\n",
       "\n",
       "    .dataframe thead th {\n",
       "        text-align: right;\n",
       "    }\n",
       "</style>\n",
       "<table border=\"1\" class=\"dataframe\">\n",
       "  <thead>\n",
       "    <tr style=\"text-align: right;\">\n",
       "      <th></th>\n",
       "      <th>count</th>\n",
       "    </tr>\n",
       "  </thead>\n",
       "  <tbody>\n",
       "    <tr>\n",
       "      <th>0</th>\n",
       "      <td>0</td>\n",
       "    </tr>\n",
       "  </tbody>\n",
       "</table>\n",
       "</div>"
      ],
      "text/plain": [
       "   count\n",
       "0      0"
      ]
     },
     "execution_count": 10,
     "metadata": {},
     "output_type": "execute_result"
    }
   ],
   "source": [
    "# Verficamos que no haya valores nulos\n",
    "query = '''\n",
    "SELECT\n",
    "    COUNT(*)\n",
    "FROM\n",
    "    ratings\n",
    "WHERE\n",
    "    rating_id IS NULL\n",
    "    OR book_id IS NULL\n",
    "    OR username IS NULL\n",
    "    OR rating IS NULL;\n",
    " '''\n",
    "data_ratings_null_count = pd.io.sql.read_sql(query, con=engine)\n",
    "data_ratings_null_count"
   ]
  },
  {
   "cell_type": "code",
   "execution_count": 11,
   "metadata": {},
   "outputs": [
    {
     "data": {
      "text/html": [
       "<div>\n",
       "<style scoped>\n",
       "    .dataframe tbody tr th:only-of-type {\n",
       "        vertical-align: middle;\n",
       "    }\n",
       "\n",
       "    .dataframe tbody tr th {\n",
       "        vertical-align: top;\n",
       "    }\n",
       "\n",
       "    .dataframe thead th {\n",
       "        text-align: right;\n",
       "    }\n",
       "</style>\n",
       "<table border=\"1\" class=\"dataframe\">\n",
       "  <thead>\n",
       "    <tr style=\"text-align: right;\">\n",
       "      <th></th>\n",
       "      <th>count</th>\n",
       "    </tr>\n",
       "  </thead>\n",
       "  <tbody>\n",
       "    <tr>\n",
       "      <th>0</th>\n",
       "      <td>0</td>\n",
       "    </tr>\n",
       "  </tbody>\n",
       "</table>\n",
       "</div>"
      ],
      "text/plain": [
       "   count\n",
       "0      0"
      ]
     },
     "execution_count": 11,
     "metadata": {},
     "output_type": "execute_result"
    }
   ],
   "source": [
    "# Verificamos que no haya valores duplicados\n",
    "query = '''\n",
    "SELECT\n",
    "    COUNT(*)\n",
    "FROM\n",
    "  (SELECT rating_id,\n",
    "          book_id,\n",
    "          username,\n",
    "          rating,\n",
    "          COUNT(*)\n",
    "   FROM\n",
    "    ratings\n",
    "   GROUP BY rating_id,\n",
    "            book_id,\n",
    "            username,\n",
    "            rating\n",
    "   HAVING COUNT(*) > 1\n",
    "  ) AS SUB\n",
    "'''\n",
    "data_ratings_duplicated_count = pd.io.sql.read_sql(query, con=engine)\n",
    "data_ratings_duplicated_count"
   ]
  },
  {
   "cell_type": "markdown",
   "metadata": {},
   "source": [
    "Nuestra tabla `ratings` contiene los datos sobre las calificaciones de usuarios, almacenados en las siguientes columnas:\n",
    "\n",
    "- `rating_id`: identificación de la calificación\n",
    "- `book_id`: identificación del libro\n",
    "- `username`: el nombre del usuario que revisó el libro\n",
    "- `rating`: calificación\n",
    "\n",
    "La tabla no presenta valores ausentes o duplicados"
   ]
  },
  {
   "cell_type": "code",
   "execution_count": 12,
   "metadata": {},
   "outputs": [
    {
     "data": {
      "text/html": [
       "<div>\n",
       "<style scoped>\n",
       "    .dataframe tbody tr th:only-of-type {\n",
       "        vertical-align: middle;\n",
       "    }\n",
       "\n",
       "    .dataframe tbody tr th {\n",
       "        vertical-align: top;\n",
       "    }\n",
       "\n",
       "    .dataframe thead th {\n",
       "        text-align: right;\n",
       "    }\n",
       "</style>\n",
       "<table border=\"1\" class=\"dataframe\">\n",
       "  <thead>\n",
       "    <tr style=\"text-align: right;\">\n",
       "      <th></th>\n",
       "      <th>review_id</th>\n",
       "      <th>book_id</th>\n",
       "      <th>username</th>\n",
       "      <th>text</th>\n",
       "    </tr>\n",
       "  </thead>\n",
       "  <tbody>\n",
       "    <tr>\n",
       "      <th>0</th>\n",
       "      <td>1</td>\n",
       "      <td>1</td>\n",
       "      <td>brandtandrea</td>\n",
       "      <td>Mention society tell send professor analysis. ...</td>\n",
       "    </tr>\n",
       "    <tr>\n",
       "      <th>1</th>\n",
       "      <td>2</td>\n",
       "      <td>1</td>\n",
       "      <td>ryanfranco</td>\n",
       "      <td>Foot glass pretty audience hit themselves. Amo...</td>\n",
       "    </tr>\n",
       "    <tr>\n",
       "      <th>2</th>\n",
       "      <td>3</td>\n",
       "      <td>2</td>\n",
       "      <td>lorichen</td>\n",
       "      <td>Listen treat keep worry. Miss husband tax but ...</td>\n",
       "    </tr>\n",
       "    <tr>\n",
       "      <th>3</th>\n",
       "      <td>4</td>\n",
       "      <td>3</td>\n",
       "      <td>johnsonamanda</td>\n",
       "      <td>Finally month interesting blue could nature cu...</td>\n",
       "    </tr>\n",
       "    <tr>\n",
       "      <th>4</th>\n",
       "      <td>5</td>\n",
       "      <td>3</td>\n",
       "      <td>scotttamara</td>\n",
       "      <td>Nation purpose heavy give wait song will. List...</td>\n",
       "    </tr>\n",
       "  </tbody>\n",
       "</table>\n",
       "</div>"
      ],
      "text/plain": [
       "   review_id  book_id       username  \\\n",
       "0          1        1   brandtandrea   \n",
       "1          2        1     ryanfranco   \n",
       "2          3        2       lorichen   \n",
       "3          4        3  johnsonamanda   \n",
       "4          5        3    scotttamara   \n",
       "\n",
       "                                                text  \n",
       "0  Mention society tell send professor analysis. ...  \n",
       "1  Foot glass pretty audience hit themselves. Amo...  \n",
       "2  Listen treat keep worry. Miss husband tax but ...  \n",
       "3  Finally month interesting blue could nature cu...  \n",
       "4  Nation purpose heavy give wait song will. List...  "
      ]
     },
     "execution_count": 12,
     "metadata": {},
     "output_type": "execute_result"
    }
   ],
   "source": [
    "# Vemos el contenido de la tabla reviews\n",
    "query = '''\n",
    "SELECT\n",
    "    *\n",
    "FROM\n",
    "    reviews\n",
    "LIMIT\n",
    "    5\n",
    "'''\n",
    "data_reviews = pd.io.sql.read_sql(query, con=engine)\n",
    "data_reviews"
   ]
  },
  {
   "cell_type": "code",
   "execution_count": 13,
   "metadata": {},
   "outputs": [
    {
     "data": {
      "text/html": [
       "<div>\n",
       "<style scoped>\n",
       "    .dataframe tbody tr th:only-of-type {\n",
       "        vertical-align: middle;\n",
       "    }\n",
       "\n",
       "    .dataframe tbody tr th {\n",
       "        vertical-align: top;\n",
       "    }\n",
       "\n",
       "    .dataframe thead th {\n",
       "        text-align: right;\n",
       "    }\n",
       "</style>\n",
       "<table border=\"1\" class=\"dataframe\">\n",
       "  <thead>\n",
       "    <tr style=\"text-align: right;\">\n",
       "      <th></th>\n",
       "      <th>count</th>\n",
       "    </tr>\n",
       "  </thead>\n",
       "  <tbody>\n",
       "    <tr>\n",
       "      <th>0</th>\n",
       "      <td>0</td>\n",
       "    </tr>\n",
       "  </tbody>\n",
       "</table>\n",
       "</div>"
      ],
      "text/plain": [
       "   count\n",
       "0      0"
      ]
     },
     "execution_count": 13,
     "metadata": {},
     "output_type": "execute_result"
    }
   ],
   "source": [
    "# Verficamos que no haya datos nulos\n",
    "query = '''\n",
    "SELECT\n",
    "    COUNT(*)\n",
    "FROM\n",
    "    reviews\n",
    "WHERE\n",
    "    review_id IS NULL\n",
    "    OR book_id IS NULL\n",
    "    OR username IS NULL\n",
    "    OR text IS NULL;\n",
    "'''\n",
    "data_reviews_null_count = pd.io.sql.read_sql(query, con=engine)\n",
    "data_reviews_null_count"
   ]
  },
  {
   "cell_type": "code",
   "execution_count": 14,
   "metadata": {},
   "outputs": [
    {
     "data": {
      "text/html": [
       "<div>\n",
       "<style scoped>\n",
       "    .dataframe tbody tr th:only-of-type {\n",
       "        vertical-align: middle;\n",
       "    }\n",
       "\n",
       "    .dataframe tbody tr th {\n",
       "        vertical-align: top;\n",
       "    }\n",
       "\n",
       "    .dataframe thead th {\n",
       "        text-align: right;\n",
       "    }\n",
       "</style>\n",
       "<table border=\"1\" class=\"dataframe\">\n",
       "  <thead>\n",
       "    <tr style=\"text-align: right;\">\n",
       "      <th></th>\n",
       "      <th>count</th>\n",
       "    </tr>\n",
       "  </thead>\n",
       "  <tbody>\n",
       "    <tr>\n",
       "      <th>0</th>\n",
       "      <td>0</td>\n",
       "    </tr>\n",
       "  </tbody>\n",
       "</table>\n",
       "</div>"
      ],
      "text/plain": [
       "   count\n",
       "0      0"
      ]
     },
     "execution_count": 14,
     "metadata": {},
     "output_type": "execute_result"
    }
   ],
   "source": [
    "# Verificamos que no haya datos duplicados\n",
    "query = '''\n",
    "SELECT\n",
    "    COUNT(*)\n",
    "FROM\n",
    "  (SELECT review_id,\n",
    "          book_id,\n",
    "          username, text, COUNT(*)\n",
    "   FROM\n",
    "    reviews\n",
    "   GROUP BY review_id,\n",
    "            book_id,\n",
    "            username, text\n",
    "   HAVING\n",
    "    COUNT(*) > 1\n",
    "  ) AS SUB\n",
    "'''\n",
    "data_reviews_duplicated_count = pd.io.sql.read_sql(query, con=engine)\n",
    "data_reviews_duplicated_count"
   ]
  },
  {
   "cell_type": "markdown",
   "metadata": {},
   "source": [
    "Nuestra tabla `reviews` que contiene datos sobre las reseñas de los y las clientes, presenta las siguientes columnas:\n",
    "\n",
    "- `review_id`: identificación de la reseña\n",
    "- `book_id`: identificación del libro\n",
    "- `username`: el nombre del usuario que revisó el libro\n",
    "- `text`: el texto de la reseña\n",
    "    \n",
    "La tabla no presenta valores ausentes o duplicados"
   ]
  },
  {
   "cell_type": "code",
   "execution_count": 15,
   "metadata": {},
   "outputs": [
    {
     "data": {
      "text/html": [
       "<div>\n",
       "<style scoped>\n",
       "    .dataframe tbody tr th:only-of-type {\n",
       "        vertical-align: middle;\n",
       "    }\n",
       "\n",
       "    .dataframe tbody tr th {\n",
       "        vertical-align: top;\n",
       "    }\n",
       "\n",
       "    .dataframe thead th {\n",
       "        text-align: right;\n",
       "    }\n",
       "</style>\n",
       "<table border=\"1\" class=\"dataframe\">\n",
       "  <thead>\n",
       "    <tr style=\"text-align: right;\">\n",
       "      <th></th>\n",
       "      <th>publisher_id</th>\n",
       "      <th>publisher</th>\n",
       "    </tr>\n",
       "  </thead>\n",
       "  <tbody>\n",
       "    <tr>\n",
       "      <th>0</th>\n",
       "      <td>1</td>\n",
       "      <td>Ace</td>\n",
       "    </tr>\n",
       "    <tr>\n",
       "      <th>1</th>\n",
       "      <td>2</td>\n",
       "      <td>Ace Book</td>\n",
       "    </tr>\n",
       "    <tr>\n",
       "      <th>2</th>\n",
       "      <td>3</td>\n",
       "      <td>Ace Books</td>\n",
       "    </tr>\n",
       "    <tr>\n",
       "      <th>3</th>\n",
       "      <td>4</td>\n",
       "      <td>Ace Hardcover</td>\n",
       "    </tr>\n",
       "    <tr>\n",
       "      <th>4</th>\n",
       "      <td>5</td>\n",
       "      <td>Addison Wesley Publishing Company</td>\n",
       "    </tr>\n",
       "  </tbody>\n",
       "</table>\n",
       "</div>"
      ],
      "text/plain": [
       "   publisher_id                          publisher\n",
       "0             1                                Ace\n",
       "1             2                           Ace Book\n",
       "2             3                          Ace Books\n",
       "3             4                      Ace Hardcover\n",
       "4             5  Addison Wesley Publishing Company"
      ]
     },
     "execution_count": 15,
     "metadata": {},
     "output_type": "execute_result"
    }
   ],
   "source": [
    "# Vemos el contenido de la tabla publishers\n",
    "query = '''\n",
    "SELECT\n",
    "    *\n",
    "FROM\n",
    "    publishers\n",
    "LIMIT\n",
    "    5\n",
    "'''\n",
    "data_publishers = pd.io.sql.read_sql(query, con=engine)\n",
    "data_publishers"
   ]
  },
  {
   "cell_type": "code",
   "execution_count": 16,
   "metadata": {},
   "outputs": [
    {
     "data": {
      "text/html": [
       "<div>\n",
       "<style scoped>\n",
       "    .dataframe tbody tr th:only-of-type {\n",
       "        vertical-align: middle;\n",
       "    }\n",
       "\n",
       "    .dataframe tbody tr th {\n",
       "        vertical-align: top;\n",
       "    }\n",
       "\n",
       "    .dataframe thead th {\n",
       "        text-align: right;\n",
       "    }\n",
       "</style>\n",
       "<table border=\"1\" class=\"dataframe\">\n",
       "  <thead>\n",
       "    <tr style=\"text-align: right;\">\n",
       "      <th></th>\n",
       "      <th>count</th>\n",
       "    </tr>\n",
       "  </thead>\n",
       "  <tbody>\n",
       "    <tr>\n",
       "      <th>0</th>\n",
       "      <td>0</td>\n",
       "    </tr>\n",
       "  </tbody>\n",
       "</table>\n",
       "</div>"
      ],
      "text/plain": [
       "   count\n",
       "0      0"
      ]
     },
     "execution_count": 16,
     "metadata": {},
     "output_type": "execute_result"
    }
   ],
   "source": [
    "# Verficamos que no haya datos nulos\n",
    "query = '''\n",
    "SELECT\n",
    "    COUNT(*)\n",
    "FROM\n",
    "    publishers\n",
    "WHERE\n",
    "    publisher_id IS NULL\n",
    "    OR publisher IS NULL;\n",
    "'''\n",
    "data_publishers_null_count = pd.io.sql.read_sql(query, con=engine)\n",
    "data_publishers_null_count"
   ]
  },
  {
   "cell_type": "code",
   "execution_count": 17,
   "metadata": {},
   "outputs": [
    {
     "data": {
      "text/html": [
       "<div>\n",
       "<style scoped>\n",
       "    .dataframe tbody tr th:only-of-type {\n",
       "        vertical-align: middle;\n",
       "    }\n",
       "\n",
       "    .dataframe tbody tr th {\n",
       "        vertical-align: top;\n",
       "    }\n",
       "\n",
       "    .dataframe thead th {\n",
       "        text-align: right;\n",
       "    }\n",
       "</style>\n",
       "<table border=\"1\" class=\"dataframe\">\n",
       "  <thead>\n",
       "    <tr style=\"text-align: right;\">\n",
       "      <th></th>\n",
       "      <th>count</th>\n",
       "    </tr>\n",
       "  </thead>\n",
       "  <tbody>\n",
       "    <tr>\n",
       "      <th>0</th>\n",
       "      <td>0</td>\n",
       "    </tr>\n",
       "  </tbody>\n",
       "</table>\n",
       "</div>"
      ],
      "text/plain": [
       "   count\n",
       "0      0"
      ]
     },
     "execution_count": 17,
     "metadata": {},
     "output_type": "execute_result"
    }
   ],
   "source": [
    "# Verificamos que no haya datos duplicados\n",
    "query = '''\n",
    "SELECT\n",
    "    COUNT(*)\n",
    "FROM\n",
    "  (SELECT publisher_id,\n",
    "          publisher,\n",
    "          COUNT(*)\n",
    "   FROM\n",
    "    publishers\n",
    "   GROUP BY publisher_id,\n",
    "            publisher\n",
    "   HAVING\n",
    "    COUNT(*) > 1) AS SUB\n",
    "'''\n",
    "data_publishers_duplicated_count = pd.io.sql.read_sql(query, con=engine)\n",
    "data_publishers_duplicated_count"
   ]
  },
  {
   "cell_type": "markdown",
   "metadata": {},
   "source": [
    "Nuestra tabla `publishers` que contiene datos sobre editoriales, presenta las siguientes columnas:\n",
    "\n",
    "- `publisher_id`: identificación de la editorial\n",
    "- `publisher`: la editorial\n",
    "\n",
    "La tabla no presenta valores ausentes o duplicados"
   ]
  },
  {
   "cell_type": "markdown",
   "metadata": {},
   "source": [
    "# Ejercicio\n",
    "\n",
    "1. Encuentra el número de libros publicados después del 1 de enero de 2000.\n",
    "2. Encuentra el número de reseñas de usuarios y la calificación promedio para cada libro.\n",
    "3. Identifica la editorial que ha publicado el mayor número de libros con más de 50 páginas (esto te ayudará a excluir folletos y publicaciones similares de tu análisis).\n",
    "4. Identifica al autor que tiene la más alta calificación promedio del libro: mira solo los libros con al menos 50 calificaciones.\n",
    "5. Encuentra el número promedio de reseñas de texto entre los usuarios que calificaron más de 50 libros."
   ]
  },
  {
   "cell_type": "markdown",
   "metadata": {},
   "source": [
    "# Encuentra el número de libros publicados después del 1 de enero de 2000."
   ]
  },
  {
   "cell_type": "code",
   "execution_count": 18,
   "metadata": {},
   "outputs": [
    {
     "data": {
      "text/html": [
       "<div>\n",
       "<style scoped>\n",
       "    .dataframe tbody tr th:only-of-type {\n",
       "        vertical-align: middle;\n",
       "    }\n",
       "\n",
       "    .dataframe tbody tr th {\n",
       "        vertical-align: top;\n",
       "    }\n",
       "\n",
       "    .dataframe thead th {\n",
       "        text-align: right;\n",
       "    }\n",
       "</style>\n",
       "<table border=\"1\" class=\"dataframe\">\n",
       "  <thead>\n",
       "    <tr style=\"text-align: right;\">\n",
       "      <th></th>\n",
       "      <th>cnt</th>\n",
       "    </tr>\n",
       "  </thead>\n",
       "  <tbody>\n",
       "    <tr>\n",
       "      <th>0</th>\n",
       "      <td>819</td>\n",
       "    </tr>\n",
       "  </tbody>\n",
       "</table>\n",
       "</div>"
      ],
      "text/plain": [
       "   cnt\n",
       "0  819"
      ]
     },
     "execution_count": 18,
     "metadata": {},
     "output_type": "execute_result"
    }
   ],
   "source": [
    "# Número de libros publicados después del 1 de enero del 2000\n",
    "query = '''\n",
    "SELECT\n",
    "    COUNT(*) AS cnt\n",
    "FROM\n",
    "    BOOKS\n",
    "WHERE\n",
    "    publication_date > '2000-01-01'\n",
    "'''\n",
    "exercise1 = pd.io.sql.read_sql(query, con=engine)\n",
    "exercise1"
   ]
  },
  {
   "cell_type": "markdown",
   "metadata": {},
   "source": [
    "Podemos ver que el número de libros publicados despues del 1 de enero del 2000 son 819"
   ]
  },
  {
   "cell_type": "markdown",
   "metadata": {},
   "source": [
    "# Encuentra el número de reseñas de usuarios y la calificación promedio para cada libro."
   ]
  },
  {
   "cell_type": "code",
   "execution_count": 19,
   "metadata": {},
   "outputs": [
    {
     "data": {
      "text/html": [
       "<div>\n",
       "<style scoped>\n",
       "    .dataframe tbody tr th:only-of-type {\n",
       "        vertical-align: middle;\n",
       "    }\n",
       "\n",
       "    .dataframe tbody tr th {\n",
       "        vertical-align: top;\n",
       "    }\n",
       "\n",
       "    .dataframe thead th {\n",
       "        text-align: right;\n",
       "    }\n",
       "</style>\n",
       "<table border=\"1\" class=\"dataframe\">\n",
       "  <thead>\n",
       "    <tr style=\"text-align: right;\">\n",
       "      <th></th>\n",
       "      <th>book_id</th>\n",
       "      <th>title</th>\n",
       "      <th>num_reviews</th>\n",
       "      <th>avg_rating</th>\n",
       "    </tr>\n",
       "  </thead>\n",
       "  <tbody>\n",
       "    <tr>\n",
       "      <th>0</th>\n",
       "      <td>948</td>\n",
       "      <td>Twilight (Twilight  #1)</td>\n",
       "      <td>1120</td>\n",
       "      <td>3.662500</td>\n",
       "    </tr>\n",
       "    <tr>\n",
       "      <th>1</th>\n",
       "      <td>750</td>\n",
       "      <td>The Hobbit  or There and Back Again</td>\n",
       "      <td>528</td>\n",
       "      <td>4.125000</td>\n",
       "    </tr>\n",
       "    <tr>\n",
       "      <th>2</th>\n",
       "      <td>673</td>\n",
       "      <td>The Catcher in the Rye</td>\n",
       "      <td>516</td>\n",
       "      <td>3.825581</td>\n",
       "    </tr>\n",
       "    <tr>\n",
       "      <th>3</th>\n",
       "      <td>302</td>\n",
       "      <td>Harry Potter and the Prisoner of Azkaban (Harr...</td>\n",
       "      <td>492</td>\n",
       "      <td>4.414634</td>\n",
       "    </tr>\n",
       "    <tr>\n",
       "      <th>4</th>\n",
       "      <td>299</td>\n",
       "      <td>Harry Potter and the Chamber of Secrets (Harry...</td>\n",
       "      <td>480</td>\n",
       "      <td>4.287500</td>\n",
       "    </tr>\n",
       "    <tr>\n",
       "      <th>...</th>\n",
       "      <td>...</td>\n",
       "      <td>...</td>\n",
       "      <td>...</td>\n",
       "      <td>...</td>\n",
       "    </tr>\n",
       "    <tr>\n",
       "      <th>989</th>\n",
       "      <td>187</td>\n",
       "      <td>Debt of Honor (Jack Ryan  #7)</td>\n",
       "      <td>2</td>\n",
       "      <td>3.000000</td>\n",
       "    </tr>\n",
       "    <tr>\n",
       "      <th>990</th>\n",
       "      <td>984</td>\n",
       "      <td>Winter Prey (Lucas Davenport  #5)</td>\n",
       "      <td>2</td>\n",
       "      <td>4.500000</td>\n",
       "    </tr>\n",
       "    <tr>\n",
       "      <th>991</th>\n",
       "      <td>186</td>\n",
       "      <td>Death: The High Cost of Living</td>\n",
       "      <td>2</td>\n",
       "      <td>3.000000</td>\n",
       "    </tr>\n",
       "    <tr>\n",
       "      <th>992</th>\n",
       "      <td>760</td>\n",
       "      <td>The Iliad/The Odyssey</td>\n",
       "      <td>2</td>\n",
       "      <td>4.000000</td>\n",
       "    </tr>\n",
       "    <tr>\n",
       "      <th>993</th>\n",
       "      <td>248</td>\n",
       "      <td>First Things First</td>\n",
       "      <td>2</td>\n",
       "      <td>4.000000</td>\n",
       "    </tr>\n",
       "  </tbody>\n",
       "</table>\n",
       "<p>994 rows × 4 columns</p>\n",
       "</div>"
      ],
      "text/plain": [
       "     book_id                                              title  num_reviews  \\\n",
       "0        948                            Twilight (Twilight  #1)         1120   \n",
       "1        750                The Hobbit  or There and Back Again          528   \n",
       "2        673                             The Catcher in the Rye          516   \n",
       "3        302  Harry Potter and the Prisoner of Azkaban (Harr...          492   \n",
       "4        299  Harry Potter and the Chamber of Secrets (Harry...          480   \n",
       "..       ...                                                ...          ...   \n",
       "989      187                      Debt of Honor (Jack Ryan  #7)            2   \n",
       "990      984                  Winter Prey (Lucas Davenport  #5)            2   \n",
       "991      186                     Death: The High Cost of Living            2   \n",
       "992      760                              The Iliad/The Odyssey            2   \n",
       "993      248                                 First Things First            2   \n",
       "\n",
       "     avg_rating  \n",
       "0      3.662500  \n",
       "1      4.125000  \n",
       "2      3.825581  \n",
       "3      4.414634  \n",
       "4      4.287500  \n",
       "..          ...  \n",
       "989    3.000000  \n",
       "990    4.500000  \n",
       "991    3.000000  \n",
       "992    4.000000  \n",
       "993    4.000000  \n",
       "\n",
       "[994 rows x 4 columns]"
      ]
     },
     "execution_count": 19,
     "metadata": {},
     "output_type": "execute_result"
    }
   ],
   "source": [
    "# Número de reseñas de usuarios y la calificacion promedio de cada libro\n",
    "query = '''\n",
    "SELECT \n",
    "    bk.book_id,\n",
    "    bk.title,\n",
    "    COUNT(r.review_id) AS num_reviews,\n",
    "    AVG(rt.rating) AS avg_rating\n",
    "FROM \n",
    "    public.books AS bk\n",
    "INNER JOIN\n",
    "    public.reviews AS r ON bk.book_id = r.book_id\n",
    "INNER JOIN \n",
    "    public.ratings AS rt ON bk.book_id = rt.book_id\n",
    "GROUP BY \n",
    "    bk.book_id,\n",
    "    bk.title\n",
    "ORDER BY\n",
    "    num_reviews DESC\n",
    "'''\n",
    "exercise2 = pd.io.sql.read_sql(query, con=engine)\n",
    "exercise2"
   ]
  },
  {
   "cell_type": "markdown",
   "metadata": {},
   "source": [
    "Como podemos observar, tenemos una tabla con la calificación promedio y número de reseñas por cada libro junto con su titulo. Por ejemplo, el libro de `Angels Fall` tiene una calificación media de 5.0 y un total de reviews de 2. Esto nos puede ayudar a ver los libros mejor rankeados y cuantas reviews podemos encontrar de ellos."
   ]
  },
  {
   "cell_type": "markdown",
   "metadata": {},
   "source": [
    "# Identifica la editorial que ha publicado el mayor número de libros con más de 50 páginas (esto te ayudará a excluir folletos y publicaciones similares de tu análisis)."
   ]
  },
  {
   "cell_type": "code",
   "execution_count": 20,
   "metadata": {},
   "outputs": [
    {
     "data": {
      "text/html": [
       "<div>\n",
       "<style scoped>\n",
       "    .dataframe tbody tr th:only-of-type {\n",
       "        vertical-align: middle;\n",
       "    }\n",
       "\n",
       "    .dataframe tbody tr th {\n",
       "        vertical-align: top;\n",
       "    }\n",
       "\n",
       "    .dataframe thead th {\n",
       "        text-align: right;\n",
       "    }\n",
       "</style>\n",
       "<table border=\"1\" class=\"dataframe\">\n",
       "  <thead>\n",
       "    <tr style=\"text-align: right;\">\n",
       "      <th></th>\n",
       "      <th>id</th>\n",
       "      <th>publisher_name</th>\n",
       "      <th>count_books</th>\n",
       "    </tr>\n",
       "  </thead>\n",
       "  <tbody>\n",
       "    <tr>\n",
       "      <th>0</th>\n",
       "      <td>212</td>\n",
       "      <td>Penguin Books</td>\n",
       "      <td>42</td>\n",
       "    </tr>\n",
       "    <tr>\n",
       "      <th>1</th>\n",
       "      <td>309</td>\n",
       "      <td>Vintage</td>\n",
       "      <td>31</td>\n",
       "    </tr>\n",
       "  </tbody>\n",
       "</table>\n",
       "</div>"
      ],
      "text/plain": [
       "    id publisher_name  count_books\n",
       "0  212  Penguin Books           42\n",
       "1  309        Vintage           31"
      ]
     },
     "execution_count": 20,
     "metadata": {},
     "output_type": "execute_result"
    }
   ],
   "source": [
    "# Editorial que ha publicado mayor número de libros con más de 50 páginas\n",
    "query = '''\n",
    "SELECT SUB.publisher_id AS id,\n",
    "       publishers.publisher AS publisher_name,\n",
    "       COUNT(SUB.book_id) AS count_books\n",
    "FROM\n",
    "  (SELECT book_id,\n",
    "          publisher_id\n",
    "   FROM books\n",
    "   WHERE num_pages > 50) AS SUB\n",
    "INNER JOIN publishers ON publishers.publisher_id = SUB.publisher_id\n",
    "GROUP BY id,\n",
    "         publisher_name\n",
    "ORDER BY count_books DESC\n",
    "LIMIT 2\n",
    "'''\n",
    "exercise3 = pd.io.sql.read_sql(query, con=engine)\n",
    "exercise3"
   ]
  },
  {
   "cell_type": "markdown",
   "metadata": {},
   "source": [
    "De acuerdo a la consulta, podemos ver que la editorial Penguin Books es la que mayor número de libros ha publicado con 42 libros con más de 50 páginas. Un análisis posterior podria indicarnos el promedio de las reviews de los libros de la editorial"
   ]
  },
  {
   "cell_type": "markdown",
   "metadata": {},
   "source": [
    "# Identifica al autor que tiene la más alta calificación promedio del libro: mira solo los libros con al menos 50 calificaciones."
   ]
  },
  {
   "cell_type": "code",
   "execution_count": 21,
   "metadata": {},
   "outputs": [
    {
     "data": {
      "text/html": [
       "<div>\n",
       "<style scoped>\n",
       "    .dataframe tbody tr th:only-of-type {\n",
       "        vertical-align: middle;\n",
       "    }\n",
       "\n",
       "    .dataframe tbody tr th {\n",
       "        vertical-align: top;\n",
       "    }\n",
       "\n",
       "    .dataframe thead th {\n",
       "        text-align: right;\n",
       "    }\n",
       "</style>\n",
       "<table border=\"1\" class=\"dataframe\">\n",
       "  <thead>\n",
       "    <tr style=\"text-align: right;\">\n",
       "      <th></th>\n",
       "      <th>author_id</th>\n",
       "      <th>author</th>\n",
       "      <th>avg_ratings</th>\n",
       "    </tr>\n",
       "  </thead>\n",
       "  <tbody>\n",
       "    <tr>\n",
       "      <th>0</th>\n",
       "      <td>236</td>\n",
       "      <td>J.K. Rowling/Mary GrandPré</td>\n",
       "      <td>4.283844</td>\n",
       "    </tr>\n",
       "    <tr>\n",
       "      <th>1</th>\n",
       "      <td>402</td>\n",
       "      <td>Markus Zusak/Cao Xuân Việt Khương</td>\n",
       "      <td>4.264151</td>\n",
       "    </tr>\n",
       "    <tr>\n",
       "      <th>2</th>\n",
       "      <td>240</td>\n",
       "      <td>J.R.R. Tolkien</td>\n",
       "      <td>4.258446</td>\n",
       "    </tr>\n",
       "    <tr>\n",
       "      <th>3</th>\n",
       "      <td>376</td>\n",
       "      <td>Louisa May Alcott</td>\n",
       "      <td>4.192308</td>\n",
       "    </tr>\n",
       "    <tr>\n",
       "      <th>4</th>\n",
       "      <td>498</td>\n",
       "      <td>Rick Riordan</td>\n",
       "      <td>4.080645</td>\n",
       "    </tr>\n",
       "  </tbody>\n",
       "</table>\n",
       "</div>"
      ],
      "text/plain": [
       "   author_id                             author  avg_ratings\n",
       "0        236         J.K. Rowling/Mary GrandPré     4.283844\n",
       "1        402  Markus Zusak/Cao Xuân Việt Khương     4.264151\n",
       "2        240                     J.R.R. Tolkien     4.258446\n",
       "3        376                  Louisa May Alcott     4.192308\n",
       "4        498                       Rick Riordan     4.080645"
      ]
     },
     "execution_count": 21,
     "metadata": {},
     "output_type": "execute_result"
    }
   ],
   "source": [
    "# Autor con calificacion promedio más alta de libros con al menos 50 calificaciones\n",
    "query = '''\n",
    "SELECT books.author_id,\n",
    "       author,\n",
    "       AVG(avg_rating) AS avg_ratings\n",
    "FROM\n",
    "  (SELECT books.book_id AS id_book,\n",
    "          COUNT(rating_id) AS count_ratings,\n",
    "          AVG(rating) AS avg_rating\n",
    "   FROM ratings\n",
    "   INNER JOIN books ON books.book_id = ratings.book_id\n",
    "   GROUP BY id_book) AS SUB\n",
    "INNER JOIN books ON books.book_id = SUB.id_book\n",
    "INNER JOIN authors ON authors.author_id = books.author_id\n",
    "WHERE count_ratings >= 50\n",
    "GROUP BY books.author_id,\n",
    "         author\n",
    "ORDER BY avg_ratings DESC\n",
    "LIMIT 5\n",
    "'''\n",
    "\n",
    "exercise4 = pd.io.sql.read_sql(query, con=engine)\n",
    "exercise4"
   ]
  },
  {
   "cell_type": "markdown",
   "metadata": {},
   "source": [
    "Como podemos ver en la consulta, la autora J.K. Rowling es la autora con mejor calificacion promedio de sus libros con más de 50 calificaciones."
   ]
  },
  {
   "cell_type": "markdown",
   "metadata": {},
   "source": [
    "# Encuentra el número promedio de reseñas de texto entre los usuarios que calificaron más de 50 libros."
   ]
  },
  {
   "cell_type": "code",
   "execution_count": 22,
   "metadata": {},
   "outputs": [
    {
     "data": {
      "text/html": [
       "<div>\n",
       "<style scoped>\n",
       "    .dataframe tbody tr th:only-of-type {\n",
       "        vertical-align: middle;\n",
       "    }\n",
       "\n",
       "    .dataframe tbody tr th {\n",
       "        vertical-align: top;\n",
       "    }\n",
       "\n",
       "    .dataframe thead th {\n",
       "        text-align: right;\n",
       "    }\n",
       "</style>\n",
       "<table border=\"1\" class=\"dataframe\">\n",
       "  <thead>\n",
       "    <tr style=\"text-align: right;\">\n",
       "      <th></th>\n",
       "      <th>avg_reviews</th>\n",
       "    </tr>\n",
       "  </thead>\n",
       "  <tbody>\n",
       "    <tr>\n",
       "      <th>0</th>\n",
       "      <td>24.333333</td>\n",
       "    </tr>\n",
       "  </tbody>\n",
       "</table>\n",
       "</div>"
      ],
      "text/plain": [
       "   avg_reviews\n",
       "0    24.333333"
      ]
     },
     "execution_count": 22,
     "metadata": {},
     "output_type": "execute_result"
    }
   ],
   "source": [
    "# Número promedio de reseñas de texto entre los usuarios que calificaron más de 50 libros\n",
    "query = '''\n",
    "SELECT AVG(count_reviews) AS avg_reviews\n",
    "FROM\n",
    "  (SELECT username,\n",
    "          count(rating) AS count_rating\n",
    "   FROM ratings\n",
    "   GROUP BY username) AS SUB\n",
    "INNER JOIN\n",
    "  (SELECT username,\n",
    "          COUNT(text) AS count_reviews\n",
    "   FROM reviews\n",
    "   GROUP BY username) AS SUB1 ON SUB.username = SUB1.username\n",
    "WHERE count_rating > 50\n",
    "'''\n",
    "\n",
    "exercise5 = pd.io.sql.read_sql(query, con=engine)\n",
    "exercise5"
   ]
  },
  {
   "cell_type": "markdown",
   "metadata": {},
   "source": [
    "Podemos ver por la consulta, que el numero promedio de reseñas de texto que realizan usuarios que califican más de 50 libros es 24.3, minimo el 50% de los libros que han calificado."
   ]
  },
  {
   "cell_type": "markdown",
   "metadata": {},
   "source": [
    "# Conclusiones generales"
   ]
  },
  {
   "cell_type": "markdown",
   "metadata": {},
   "source": [
    "En general, los resultados de nuestras consultas son los siguientes:\n",
    "\n",
    "- El total de libros publicados despues del 1 de enero del 200, son 819 libros.\n",
    "- El top 5 de libros con mayor número de reseñas son: \n",
    "1. Twilight #1 (1120)\n",
    "2. The Hobbit or There and Back Again (528)\n",
    "3. The Catcher in the Rye (516)\n",
    "4. Harry Potter and the Prisoner of Azkaban (492)\n",
    "5. Harry Potter and the Chamber of Secrets (480) \n",
    "\n",
    "Twilight #1, tuvo muchas reseñas(1120), pero el rpomedio de las calificaciones fue de 3.7, mientras que, Harry Potter and the Prisoner of Azkaban tuvo menos reseñas (492), pero su calificación fue la más alta, 4.4. Al parecer, los libros más populares (los más calificados) son libros de ficción y fantasía.\n",
    "- La editorial con mayor número de libros mayores a 50 páginas es Penguin Books con 42\n",
    "- J.K. Rowling es la autora con mejor calificacion promedio (4.2) en libros con más de 50 calificaciones\n",
    "- El ejercicio final, nos muestra como, en promedio, los usuarios que han calificado más de 50 libros han escrito aproximadamente 24.33 reseñas textuales. Esto significa que no todos los usuarios que califican libros también escriben reseñas textuales."
   ]
  }
 ],
 "metadata": {
  "ExecuteTimeLog": [
   {
    "duration": 557,
    "start_time": "2024-09-18T16:49:22.994Z"
   },
   {
    "duration": 22,
    "start_time": "2024-09-18T16:51:11.234Z"
   },
   {
    "duration": 13,
    "start_time": "2024-09-18T16:52:05.412Z"
   },
   {
    "duration": 12,
    "start_time": "2024-09-18T16:52:08.895Z"
   },
   {
    "duration": 16,
    "start_time": "2024-09-18T16:52:24.109Z"
   },
   {
    "duration": 11,
    "start_time": "2024-09-18T16:52:26.655Z"
   },
   {
    "duration": 2,
    "start_time": "2024-09-18T16:54:40.300Z"
   },
   {
    "duration": 12,
    "start_time": "2024-09-18T16:54:41.121Z"
   },
   {
    "duration": 14,
    "start_time": "2024-09-18T16:54:50.700Z"
   },
   {
    "duration": 737,
    "start_time": "2024-09-18T16:54:58.842Z"
   },
   {
    "duration": 215,
    "start_time": "2024-09-18T16:55:10.898Z"
   },
   {
    "duration": 4,
    "start_time": "2024-09-18T16:55:55.347Z"
   },
   {
    "duration": 218,
    "start_time": "2024-09-18T16:55:55.808Z"
   },
   {
    "duration": 17,
    "start_time": "2024-09-18T16:56:20.642Z"
   },
   {
    "duration": 12,
    "start_time": "2024-09-18T16:56:23.420Z"
   },
   {
    "duration": 17,
    "start_time": "2024-09-18T16:57:29.659Z"
   },
   {
    "duration": 2,
    "start_time": "2024-09-18T16:57:36.038Z"
   },
   {
    "duration": 11,
    "start_time": "2024-09-18T16:58:46.003Z"
   },
   {
    "duration": 4,
    "start_time": "2024-09-18T16:58:46.659Z"
   },
   {
    "duration": 232,
    "start_time": "2024-09-18T16:58:47.734Z"
   },
   {
    "duration": 3,
    "start_time": "2024-09-18T19:46:03.084Z"
   },
   {
    "duration": 12,
    "start_time": "2024-09-18T19:46:03.886Z"
   },
   {
    "duration": 13,
    "start_time": "2024-09-18T19:49:57.590Z"
   },
   {
    "duration": 2,
    "start_time": "2024-09-18T19:52:08.611Z"
   },
   {
    "duration": 26,
    "start_time": "2024-09-18T19:52:44.285Z"
   },
   {
    "duration": 2726,
    "start_time": "2024-09-18T19:52:57.530Z"
   },
   {
    "duration": 337,
    "start_time": "2024-09-18T23:10:15.420Z"
   },
   {
    "duration": 23,
    "start_time": "2024-09-18T23:10:15.760Z"
   },
   {
    "duration": 2923,
    "start_time": "2024-09-18T23:10:15.784Z"
   },
   {
    "duration": 835,
    "start_time": "2024-09-18T23:11:43.946Z"
   },
   {
    "duration": 836,
    "start_time": "2024-09-18T23:12:33.972Z"
   },
   {
    "duration": 836,
    "start_time": "2024-09-18T23:17:22.749Z"
   },
   {
    "duration": 835,
    "start_time": "2024-09-18T23:17:36.087Z"
   },
   {
    "duration": 835,
    "start_time": "2024-09-18T23:17:53.371Z"
   },
   {
    "duration": 836,
    "start_time": "2024-09-18T23:20:29.981Z"
   },
   {
    "duration": 836,
    "start_time": "2024-09-18T23:20:59.454Z"
   },
   {
    "duration": 836,
    "start_time": "2024-09-18T23:24:08.067Z"
   },
   {
    "duration": 836,
    "start_time": "2024-09-18T23:24:16.274Z"
   },
   {
    "duration": 836,
    "start_time": "2024-09-18T23:24:26.738Z"
   },
   {
    "duration": 838,
    "start_time": "2024-09-18T23:24:47.758Z"
   },
   {
    "duration": 837,
    "start_time": "2024-09-18T23:25:05.794Z"
   },
   {
    "duration": 835,
    "start_time": "2024-09-18T23:26:05.853Z"
   },
   {
    "duration": 835,
    "start_time": "2024-09-18T23:26:13.911Z"
   },
   {
    "duration": 835,
    "start_time": "2024-09-18T23:26:26.507Z"
   },
   {
    "duration": 833,
    "start_time": "2024-09-19T02:26:31.610Z"
   },
   {
    "duration": 1119,
    "start_time": "2024-09-19T02:27:07.626Z"
   },
   {
    "duration": 836,
    "start_time": "2024-09-19T02:37:25.263Z"
   },
   {
    "duration": 838,
    "start_time": "2024-09-19T02:38:00.697Z"
   },
   {
    "duration": 836,
    "start_time": "2024-09-19T02:42:30.408Z"
   },
   {
    "duration": 1128,
    "start_time": "2024-09-19T02:48:10.196Z"
   },
   {
    "duration": 837,
    "start_time": "2024-09-19T02:55:42.770Z"
   },
   {
    "duration": 840,
    "start_time": "2024-09-19T02:56:20.153Z"
   },
   {
    "duration": 841,
    "start_time": "2024-09-19T02:56:29.229Z"
   },
   {
    "duration": 840,
    "start_time": "2024-09-19T02:57:31.130Z"
   },
   {
    "duration": 842,
    "start_time": "2024-09-19T02:59:51.878Z"
   },
   {
    "duration": 846,
    "start_time": "2024-09-19T02:59:59.893Z"
   },
   {
    "duration": 329,
    "start_time": "2024-09-19T14:16:31.028Z"
   },
   {
    "duration": 22,
    "start_time": "2024-09-19T14:16:32.501Z"
   },
   {
    "duration": 2846,
    "start_time": "2024-09-19T14:16:43.857Z"
   },
   {
    "duration": 813,
    "start_time": "2024-09-19T14:16:48.613Z"
   },
   {
    "duration": 814,
    "start_time": "2024-09-19T14:16:50.737Z"
   },
   {
    "duration": 814,
    "start_time": "2024-09-19T14:16:54.590Z"
   },
   {
    "duration": 813,
    "start_time": "2024-09-19T14:16:55.407Z"
   },
   {
    "duration": 813,
    "start_time": "2024-09-19T14:16:56.309Z"
   },
   {
    "duration": 814,
    "start_time": "2024-09-19T14:16:58.183Z"
   },
   {
    "duration": 813,
    "start_time": "2024-09-19T14:16:58.998Z"
   },
   {
    "duration": 814,
    "start_time": "2024-09-19T14:16:59.813Z"
   },
   {
    "duration": 814,
    "start_time": "2024-09-19T14:17:02.967Z"
   },
   {
    "duration": 812,
    "start_time": "2024-09-19T14:17:03.783Z"
   },
   {
    "duration": 813,
    "start_time": "2024-09-19T14:17:04.597Z"
   },
   {
    "duration": 813,
    "start_time": "2024-09-19T14:17:05.412Z"
   },
   {
    "duration": 812,
    "start_time": "2024-09-19T14:17:06.227Z"
   },
   {
    "duration": 813,
    "start_time": "2024-09-19T14:17:07.041Z"
   },
   {
    "duration": 813,
    "start_time": "2024-09-19T14:17:42.239Z"
   },
   {
    "duration": 1095,
    "start_time": "2024-09-19T14:18:10.431Z"
   },
   {
    "duration": 813,
    "start_time": "2024-09-19T14:18:45.192Z"
   },
   {
    "duration": 817,
    "start_time": "2024-09-19T14:19:35.076Z"
   },
   {
    "duration": 812,
    "start_time": "2024-09-19T14:22:45.262Z"
   }
  ],
  "kernelspec": {
   "display_name": "Python 3 (ipykernel)",
   "language": "python",
   "name": "python3"
  },
  "language_info": {
   "codemirror_mode": {
    "name": "ipython",
    "version": 3
   },
   "file_extension": ".py",
   "mimetype": "text/x-python",
   "name": "python",
   "nbconvert_exporter": "python",
   "pygments_lexer": "ipython3",
   "version": "3.9.19"
  },
  "toc": {
   "base_numbering": 1,
   "nav_menu": {},
   "number_sections": true,
   "sideBar": true,
   "skip_h1_title": true,
   "title_cell": "Table of Contents",
   "title_sidebar": "Contents",
   "toc_cell": false,
   "toc_position": {},
   "toc_section_display": true,
   "toc_window_display": false
  }
 },
 "nbformat": 4,
 "nbformat_minor": 2
}
